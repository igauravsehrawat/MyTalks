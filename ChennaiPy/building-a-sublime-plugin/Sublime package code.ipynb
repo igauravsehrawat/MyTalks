{
 "cells": [
  {
   "cell_type": "code",
   "execution_count": null,
   "metadata": {
    "collapsed": true,
    "slideshow": {
     "slide_type": "slide"
    }
   },
   "outputs": [],
   "source": [
    "# screen recorder"
   ]
  },
  {
   "cell_type": "markdown",
   "metadata": {
    "slideshow": {
     "slide_type": "slide"
    }
   },
   "source": [
    "# sublime\n",
    "\t\n",
    "+ sublime 2 or  sublime 3\n",
    "\n",
    "+ sublime 3 - way forward with python 3. \n",
    "+ Sublime 2 is stable version, So we will go with sublime2\n",
    "+ concept remains same, some api's change. \n"
   ]
  },
  {
   "cell_type": "markdown",
   "metadata": {
    "slideshow": {
     "slide_type": "slide"
    }
   },
   "source": [
    "## This is how sample sublime plugin looks like"
   ]
  },
  {
   "cell_type": "code",
   "execution_count": null,
   "metadata": {
    "collapsed": true,
    "slideshow": {
     "slide_type": "fragment"
    }
   },
   "outputs": [],
   "source": [
    "## Have to run in inside sublime, since paths are relative\n",
    "\n",
    "import sublime, sublime_plugin\n",
    "\n",
    "class SampleCommand(sublime_plugin.TextCommand):\n",
    "\tdef run(self, edit):\n",
    "\t\t# this will just edit the file with hello world at front\n",
    "\t\t# that's cool\n",
    "\t\tself.view.insert(edit, 0, \"Hello, World!\")\n",
    "## then run view.run_command('function name')"
   ]
  },
  {
   "cell_type": "markdown",
   "metadata": {
    "slideshow": {
     "slide_type": "slide"
    }
   },
   "source": [
    "## sublime_plugin.TextCommand?"
   ]
  },
  {
   "cell_type": "markdown",
   "metadata": {
    "slideshow": {
     "slide_type": "fragment"
    }
   },
   "source": [
    "## Types of command "
   ]
  },
  {
   "cell_type": "markdown",
   "metadata": {
    "collapsed": true,
    "slideshow": {
     "slide_type": "fragment"
    }
   },
   "source": [
    "+ Application commands (ApplicationCommand)\n",
    "+ Window commands (WindowCommand)\n",
    "+ Text commands (TextCommand)"
   ]
  },
  {
   "cell_type": "markdown",
   "metadata": {
    "slideshow": {
     "slide_type": "slide"
    }
   },
   "source": [
    "## Simple Python debugging plugin\n",
    "\n",
    "### That will insert print statement including the variable in selection and its position with filename"
   ]
  },
  {
   "cell_type": "code",
   "execution_count": null,
   "metadata": {
    "collapsed": true,
    "slideshow": {
     "slide_type": "slide"
    }
   },
   "outputs": [],
   "source": [
    "import sublime\n",
    "import sublime_plugin\n",
    "\n",
    "#\n",
    "# Purpose is to insert print statement for the variables while debugging python.\n",
    "# I know there pbd is way better.\n",
    "#\n",
    "\n",
    "\n",
    "class DebugPythonCommand(sublime_plugin.TextCommand):\n",
    "    def run(self, edit, **args):\n",
    "        for region in self.view.sel():\n",
    "            # This sees what current is in selection(generally a variable to be converted to print statement)\n",
    "            if not region.empty():\n",
    "                replacement = self.view.substr(region)\n",
    "                args['contents'] = args['contents'].replace('$SELECTION_OR_CLIPBOARD', replacement)\n",
    "                self.view.run_command('insert_snippet', args)\n",
    "            else:\n",
    "            # This copies the clipboard item and convert it into print statement\n",
    "                replacement = sublime.get_clipboard().strip()\n",
    "                print \"args\", args\n",
    "                args['contents'] = args['contents'].replace('$SELECTION_OR_CLIPBOARD', replacement)\n",
    "                self.view.run_command('insert_snippet', args)"
   ]
  },
  {
   "cell_type": "markdown",
   "metadata": {
    "slideshow": {
     "slide_type": "slide"
    }
   },
   "source": [
    "## Don't forget the keybindings"
   ]
  },
  {
   "cell_type": "code",
   "execution_count": null,
   "metadata": {
    "collapsed": true,
    "slideshow": {
     "slide_type": "fragment"
    }
   },
   "outputs": [],
   "source": [
    "  { \"keys\": [\"ctrl+shift+c\"],\n",
    "    \"command\": \"debug_python\",\n",
    "    \"args\": {\n",
    "      \"contents\": \"print $SELECTION_OR_CLIPBOARD '=== $TM_FILENAME [$TM_LINE_NUMBER] ===';${0}\"\n",
    "    },\n",
    "    \"context\": [{\n",
    "      \"key\": \"selector\",\n",
    "      \"operator\": \"equal\",\n",
    "      \"match_all\": true\n",
    "    }]\n",
    "  }"
   ]
  },
  {
   "cell_type": "markdown",
   "metadata": {
    "slideshow": {
     "slide_type": "slide"
    }
   },
   "source": [
    "## An Event based sublime api"
   ]
  },
  {
   "cell_type": "code",
   "execution_count": null,
   "metadata": {
    "collapsed": true,
    "slideshow": {
     "slide_type": "fragment"
    }
   },
   "outputs": [],
   "source": [
    "import sublime, sublime_plugin\n",
    "\n",
    "from xml.etree import ElementTree as ET\n",
    "from urllib import urlopen\n",
    "\n",
    "GOOGLE_AC = r\"http://google.com/complete/search?output=toolbar&q=%s\"\n",
    "\n",
    "class GoogleAutocomplete(sublime_plugin.EventListener):\n",
    "    def on_query_completions(self, view, prefix, locations):\n",
    "        elements = ET.parse(\n",
    "                        urlopen(GOOGLE_AC % prefix)\n",
    "                    ).getroot().findall(\"./CompleteSuggestion/suggestion\")\n",
    "\n",
    "        sugs = [(x.attrib[\"data\"],) * 2 for x in elements]\n",
    "\n",
    "        return sugs"
   ]
  },
  {
   "cell_type": "markdown",
   "metadata": {
    "slideshow": {
     "slide_type": "slide"
    }
   },
   "source": [
    "## Sublime is huge due to its complexity"
   ]
  },
  {
   "cell_type": "markdown",
   "metadata": {
    "slideshow": {
     "slide_type": "fragment"
    }
   },
   "source": [
    "## When your plugings have more complexities, make it a package"
   ]
  },
  {
   "cell_type": "markdown",
   "metadata": {
    "slideshow": {
     "slide_type": "slide"
    }
   },
   "source": [
    "## Package is container of sublime resources"
   ]
  },
  {
   "cell_type": "markdown",
   "metadata": {
    "slideshow": {
     "slide_type": "fragment"
    }
   },
   "source": [
    "### Following are types of resources \n",
    "\n",
    "+ Build systems (.sublime-build)\n",
    "+ Key maps (.sublime-keymap)\n",
    "+ Macros (.sublime-macro)\n",
    "+ Menus (.sublime-menu)\n",
    "+ Plugins (.py)\n",
    "+ Preferences (.tmPreferences)\n",
    "+ Settings (.sublime-settings)\n",
    "+ Syntax definitions (.tmLanguage)\n",
    "+ Snippets (.sublime-snippet)\n",
    "+ Themes (.sublime-theme)"
   ]
  },
  {
   "cell_type": "markdown",
   "metadata": {
    "slideshow": {
     "slide_type": "slide"
    }
   },
   "source": [
    "## References\n",
    "+ http://sublime-text-unofficial-documentation.readthedocs.org/en/stable/index.html\n",
    "+ http://www.sublimetext.com/\n"
   ]
  },
  {
   "cell_type": "markdown",
   "metadata": {
    "slideshow": {
     "slide_type": "slide"
    }
   },
   "source": [
    "<h1 style=\"font-size:42px\"><b>Gaurav Sehrawat</b></h1> <img src=\"pic.jpg\" style=\"height:100px;width:100px\">"
   ]
  },
  {
   "cell_type": "markdown",
   "metadata": {
    "slideshow": {
     "slide_type": "fragment"
    }
   },
   "source": [
    "## Ships and collaborate code @[Clay Labs](http://claylabs.com)"
   ]
  },
  {
   "cell_type": "markdown",
   "metadata": {
    "slideshow": {
     "slide_type": "fragment"
    }
   },
   "source": [
    "\n",
    "## Github: [igauravsehrawat](https://github.com/igauravsehrawat)"
   ]
  },
  {
   "cell_type": "markdown",
   "metadata": {
    "slideshow": {
     "slide_type": "fragment"
    }
   },
   "source": [
    "\n",
    "## Twitter: [root3d](https://twitter.com/root3d/)"
   ]
  }
 ],
 "metadata": {
  "celltoolbar": "Slideshow",
  "kernelspec": {
   "display_name": "Python 2",
   "language": "python",
   "name": "python2"
  },
  "language_info": {
   "codemirror_mode": {
    "name": "ipython",
    "version": 2
   },
   "file_extension": ".py",
   "mimetype": "text/x-python",
   "name": "python",
   "nbconvert_exporter": "python",
   "pygments_lexer": "ipython2",
   "version": "2.7.6"
  }
 },
 "nbformat": 4,
 "nbformat_minor": 0
}
