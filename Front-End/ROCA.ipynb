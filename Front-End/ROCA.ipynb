{
 "cells": [
  {
   "cell_type": "markdown",
   "id": "b465ad8f",
   "metadata": {
    "slideshow": {
     "slide_type": "slide"
    }
   },
   "source": [
    "# Modular Fronted Architecture With ROCA"
   ]
  },
  {
   "cell_type": "markdown",
   "id": "6df4cd01",
   "metadata": {
    "slideshow": {
     "slide_type": "slide"
    }
   },
   "source": [
    "# About Me\n",
    "\n",
    "## Gaurav Sehrawat\n",
    "## Global Solutions Architect/Tech Lead @Verifone\n",
    "\n",
    "### 🌎: Website: https://igauravsehrawat.com/\n",
    "### 🧑‍💻Github: https://github.com/igauravsehrawat\n",
    "### 🕊Twitter: https://twitter.com/Root3d\n",
    "### 🤝 LinkedIn: https://linkedin.com/in/igauravsehrawat\n"
   ]
  },
  {
   "cell_type": "markdown",
   "id": "c1456de8",
   "metadata": {
    "slideshow": {
     "slide_type": "slide"
    }
   },
   "source": [
    "# Agenda\n",
    "+ What is Architecture And Why care for it?\n",
    "+ Different Frontend Architecture?\n",
    "+ Modular Vs Monolith Frontend?\n",
    "+ How to Integrate Modular Frontend?\n",
    "+ Client Side Integration\n",
    "+ Edge Side Integration (Cache/CDN)\n",
    "+ Server Side Integration\n",
    "+ Recap\n",
    "+ Questions?\n"
   ]
  },
  {
   "cell_type": "markdown",
   "id": "d0616c79",
   "metadata": {
    "slideshow": {
     "slide_type": "slide"
    }
   },
   "source": [
    "![ROCA QR Code](./ROCA-qr-code.png)"
   ]
  },
  {
   "cell_type": "code",
   "execution_count": null,
   "id": "207f5657",
   "metadata": {},
   "outputs": [],
   "source": []
  },
  {
   "cell_type": "code",
   "execution_count": 14,
   "id": "23f9830c",
   "metadata": {
    "slideshow": {
     "slide_type": "notes"
    }
   },
   "outputs": [
    {
     "ename": "SyntaxError",
     "evalue": "invalid syntax (<ipython-input-14-db5ba5d18387>, line 1)",
     "output_type": "error",
     "traceback": [
      "\u001b[0;36m  File \u001b[0;32m\"<ipython-input-14-db5ba5d18387>\"\u001b[0;36m, line \u001b[0;32m1\u001b[0m\n\u001b[0;31m    Notes:\u001b[0m\n\u001b[0m          ^\u001b[0m\n\u001b[0;31mSyntaxError\u001b[0m\u001b[0;31m:\u001b[0m invalid syntax\n"
     ]
    }
   ],
   "source": [
    "Notes:\n",
    "    Tell the problem and then deep dive into solution\n",
    "    Too many slides\n",
    "    Why you \n",
    "    One of the paradigm \n",
    "    \n",
    "    Why \n",
    "    Remove the SCS\n",
    "    \n",
    "    Problem and challenges\n",
    "    Solution should take more time\n",
    "    Time management issue\n",
    "    Explain the solution more\n",
    "    \n",
    "    \n",
    "Template\n",
    "about me\n",
    "problem\n",
    "And the solution......."
   ]
  },
  {
   "cell_type": "markdown",
   "id": "0d99b2ca",
   "metadata": {
    "slideshow": {
     "slide_type": "slide"
    }
   },
   "source": [
    "# A Step Back\n",
    "\n",
    "## What is Architecture?\n",
    "\n",
    "\n"
   ]
  },
  {
   "cell_type": "markdown",
   "id": "147d2ed3",
   "metadata": {
    "slideshow": {
     "slide_type": "slide"
    }
   },
   "source": [
    "### The decisions you wish you could get right early in a project.\n",
    "\n",
    "\n",
    "###  Defines notion of the most important aspects of the internal design of a software system. "
   ]
  },
  {
   "cell_type": "markdown",
   "id": "983e93c7",
   "metadata": {
    "slideshow": {
     "slide_type": "fragment"
    }
   },
   "source": [
    "https://martinfowler.com/architecture/"
   ]
  },
  {
   "cell_type": "markdown",
   "id": "b546c3d0",
   "metadata": {
    "slideshow": {
     "slide_type": "slide"
    }
   },
   "source": [
    "# Talk is indepedent of framework, technology or tooling "
   ]
  },
  {
   "cell_type": "markdown",
   "id": "ec88b6c3",
   "metadata": {
    "slideshow": {
     "slide_type": "slide"
    }
   },
   "source": [
    "# Why This Talk?"
   ]
  },
  {
   "cell_type": "markdown",
   "id": "e993a47f",
   "metadata": {
    "slideshow": {
     "slide_type": "fragment"
    }
   },
   "source": [
    "+ It's just a different paradigm to be aware of\n",
    "+ It won't solve all the problems you have\n",
    "+ But it might solve few"
   ]
  },
  {
   "cell_type": "markdown",
   "id": "344a0b3a",
   "metadata": {
    "slideshow": {
     "slide_type": "slide"
    }
   },
   "source": [
    "\n",
    "\n",
    "## Why Do We Need A Good Architecture?\n",
    "![Jackie Chan GIF](https://media.giphy.com/media/4lhTfviX1S4tyj0VmJ/giphy.gif)\n"
   ]
  },
  {
   "cell_type": "markdown",
   "id": "05aafeb9",
   "metadata": {
    "slideshow": {
     "slide_type": "slide"
    }
   },
   "source": [
    "# Problem statement?\n"
   ]
  },
  {
   "cell_type": "markdown",
   "id": "0383b935",
   "metadata": {
    "slideshow": {
     "slide_type": "subslide"
    }
   },
   "source": [
    "# We Need Speed\n",
    "\n",
    "![Looking for speed](https://media.giphy.com/media/ZZTMRgmRdVjNK3PJnS/giphy.gif)"
   ]
  },
  {
   "cell_type": "markdown",
   "id": "29b67e34",
   "metadata": {
    "slideshow": {
     "slide_type": "subslide"
    }
   },
   "source": [
    "# Time To Deliver To Market\n",
    "\n",
    "\n",
    "\n",
    "\n",
    "\n",
    "\n",
    "\n",
    "# Time To Deliver To Browser\n",
    "\n",
    "\n",
    "\n",
    "\n",
    "\n",
    "# Time To Render In Browser"
   ]
  },
  {
   "cell_type": "markdown",
   "id": "7c4a4e50",
   "metadata": {
    "slideshow": {
     "slide_type": "subslide"
    }
   },
   "source": [
    "## Quality And Cost To Deliver\n",
    "\n",
    "![cost to market](./architecture-quality.png)\n",
    "\n",
    "\n",
    "- Source https://martinfowler.com/architecture/\n"
   ]
  },
  {
   "cell_type": "markdown",
   "id": "1d7f0529",
   "metadata": {
    "slideshow": {
     "slide_type": "slide"
    }
   },
   "source": [
    "# What All Can Be There?"
   ]
  },
  {
   "cell_type": "markdown",
   "id": "6220eae9",
   "metadata": {
    "slideshow": {
     "slide_type": "subslide"
    }
   },
   "source": [
    "# Frontend Monolith\n",
    "![Frontend Monolith](./frontend-monolith.png)"
   ]
  },
  {
   "cell_type": "markdown",
   "id": "96315cd0",
   "metadata": {
    "slideshow": {
     "slide_type": "subslide"
    }
   },
   "source": [
    "# Frontend Self Contained Service\n",
    "![frontend scs](./frontend-scs.png)"
   ]
  },
  {
   "cell_type": "markdown",
   "id": "69b73fdf",
   "metadata": {
    "slideshow": {
     "slide_type": "subslide"
    }
   },
   "source": [
    "# Frontend Modules/Micro\n",
    "![Frontend microservice](./frontend-modules.png)"
   ]
  },
  {
   "cell_type": "markdown",
   "id": "7bcfe13b",
   "metadata": {
    "slideshow": {
     "slide_type": "slide"
    }
   },
   "source": [
    "# Frontend Monolith vs Modular\n",
    "\n",
    "### Why Monolith?\n",
    "+ If one team is required\n",
    "+ Project is not big\n",
    "+ SPA apps\n",
    "+ It will save efforts of dividing into microservices\n",
    "\n"
   ]
  },
  {
   "cell_type": "markdown",
   "id": "b96572a5",
   "metadata": {
    "slideshow": {
     "slide_type": "slide"
    }
   },
   "source": [
    "### Why Modular?\n",
    "+ If multiple teams can work on same UI\n",
    "+ Can be broken down into concerning domain logic\n",
    "+ Change in domain can be implemented by modifying and deploying just one service\n",
    "\n",
    "\n"
   ]
  },
  {
   "cell_type": "markdown",
   "id": "15c60532",
   "metadata": {
    "slideshow": {
     "slide_type": "slide"
    }
   },
   "source": [
    "# Which Architecture Is Better Suited For Frontend Integration?\n",
    "\n"
   ]
  },
  {
   "cell_type": "markdown",
   "id": "95d4c88e",
   "metadata": {
    "slideshow": {
     "slide_type": "subslide"
    }
   },
   "source": [
    "# Presenting You....\n",
    "\n",
    "![presenting-you-roca](https://media.giphy.com/media/Qah0iECwhSJ3LYzWmB/giphy.gif)"
   ]
  },
  {
   "cell_type": "markdown",
   "id": "fb534bdd",
   "metadata": {
    "slideshow": {
     "slide_type": "slide"
    }
   },
   "source": [
    "# ROCA (Resource Oriented Client Architecture)\n",
    "+ Set of recommmendation for frontend modularization and integration\n"
   ]
  },
  {
   "cell_type": "markdown",
   "id": "46e15fba",
   "metadata": {
    "slideshow": {
     "slide_type": "slide"
    }
   },
   "source": [
    "# Benefits\n",
    "+ Loose coupling\n",
    "+ Logic and UI in one microservice/domain\n",
    "+ Free choice of frontend technology"
   ]
  },
  {
   "cell_type": "markdown",
   "id": "046a50f7",
   "metadata": {
    "slideshow": {
     "slide_type": "slide"
    }
   },
   "source": [
    "# Let's say you did the modularized your Frontend with \n",
    "+ Self Contained Services\n",
    "+ Micro-Frontend\n",
    "+ Or Anyhow 😄"
   ]
  },
  {
   "cell_type": "markdown",
   "id": "8872c22b",
   "metadata": {
    "slideshow": {
     "slide_type": "slide"
    }
   },
   "source": [
    "# How To Do Frontend Integration\n",
    "+ Client Side Integration\n",
    "+ Server Side Integraiton"
   ]
  },
  {
   "cell_type": "markdown",
   "id": "721cdd0b",
   "metadata": {
    "slideshow": {
     "slide_type": "slide"
    }
   },
   "source": [
    "\n",
    "\n",
    "## Client Side Integration\n",
    "\n",
    "### Via Links\n",
    "+ Just Hyperlink one to another (Nothing special)\n",
    "\n",
    "\n",
    "### Via Redirects\n",
    "+ Links but with data is redirects\n",
    "    - e.g OAuth, when signining up with third-parties\n",
    "\n",
    "## Transclusion\n",
    "+ Combining content of website into another website \n",
    "+ Will see later\n",
    "* Credits: educative.io"
   ]
  },
  {
   "cell_type": "markdown",
   "id": "4e9a8e82",
   "metadata": {
    "slideshow": {
     "slide_type": "notes"
    }
   },
   "source": [
    "\n",
    "# ROCA Principles\n",
    "+ REST based\n",
    "+ Accessible, not just html, json, \n",
    "+ Logic on the server, Javascript for UI purpose only\n",
    "+ HTTP authentication on server\n",
    "+ Cookies for tracking and authentication, not for business logic\n",
    "+ No layout info int HTML, CSS should be separate\n",
    "+ No redundant logic on frontend\n"
   ]
  },
  {
   "cell_type": "markdown",
   "id": "2fa33c99",
   "metadata": {
    "slideshow": {
     "slide_type": "notes"
    }
   },
   "source": [
    "Notes: \n",
    "If you need to change the website it's better to redesign the UI first rather than modularising it"
   ]
  },
  {
   "cell_type": "markdown",
   "id": "afcff00f",
   "metadata": {
    "slideshow": {
     "slide_type": "notes"
    }
   },
   "source": [
    "Notes:\n",
    "    if links are used for integration, only the URL has to be known for integration to occur\n",
    "    if todo list and UI needs to be changed, only one microservice will do it\n",
    "    each microservice has it's own frontend that can use it's own technology\n",
    "    for e.g, angular -> react -> vue.js (each teeam, how-so ever it evolves)"
   ]
  },
  {
   "cell_type": "markdown",
   "id": "1984c394",
   "metadata": {
    "slideshow": {
     "slide_type": "slide"
    }
   },
   "source": [
    "# Integration (Demo Time )\n",
    "![Demo Time](https://media.giphy.com/media/UrEQirmnMPxBwToULv/giphy.gif)"
   ]
  },
  {
   "cell_type": "markdown",
   "id": "3d6eda0b",
   "metadata": {
    "slideshow": {
     "slide_type": "slide"
    }
   },
   "source": [
    "# Links And Client Side Integration\n",
    "+ Case study of https://crimson-portal.herokuapp.com/ from INNOQ\n",
    "![case study crimson](./links-and-transclusion.png)\n",
    "\n",
    "\n",
    "* Credits INNOQ"
   ]
  },
  {
   "cell_type": "markdown",
   "id": "3365f6d0",
   "metadata": {
    "slideshow": {
     "slide_type": "notes"
    }
   },
   "source": [
    "for the main application (https://crimson-portal.herokuapp.com/)\n",
    "for reporting damages (damage application) (https://crimson-damage.herokuapp.com/)\n",
    "for writing letters (letter application) (https://crimson-letter.herokuapp.com/)\n",
    "for the postbox (postbox application)(https://crimson-postbox.herokuapp.com/)."
   ]
  },
  {
   "cell_type": "markdown",
   "id": "f92a80f5",
   "metadata": {
    "slideshow": {
     "slide_type": "slide"
    }
   },
   "source": [
    "# Integration with Redirects\n",
    "\n",
    "        Show example for redirect\n"
   ]
  },
  {
   "cell_type": "markdown",
   "id": "db7d7db6",
   "metadata": {
    "slideshow": {
     "slide_type": "slide"
    }
   },
   "source": [
    "# Integration With Javascript As Transclusion\n",
    "\n",
    "![transclusion](./transclusion.png)\n",
    "\n",
    "\n",
    "* Credits: Educative"
   ]
  },
  {
   "cell_type": "markdown",
   "id": "4faf58b9",
   "metadata": {
    "slideshow": {
     "slide_type": "subslide"
    }
   },
   "source": [
    "```\n",
    "<a href=\"https:&#x2F;&#x2F;crimson-postbox.herokuapp.com/m50000/messages\"\n",
    "  class=\"preview\" data-preview=\"enabled\"\n",
    "  data-preview-title=\"Notifications\"\n",
    "  data-preview-selector=\"table.messages-overview\"\n",
    "  data-preview-error-msg=\"Postbox unreachable!\"\n",
    "  data-preview-count=\"tbody>tr\" data-preview-window>\n",
    "```\n",
    "+ Case study of https://crimson-portal.herokuapp.com/ from INNOQ\n",
    "\n",
    "+ From common styleguide component\n",
    "\n",
    "https://github.com/ewolff/crimson-styleguide/tree/master/components/preview"
   ]
  },
  {
   "cell_type": "markdown",
   "id": "51000945",
   "metadata": {
    "slideshow": {
     "slide_type": "subslide"
    }
   },
   "source": [
    "\n",
    "# Render The Content Of The Link\n",
    "\n",
    "```\n",
    "$(document).ready(function() {\n",
    "  $(\"a.embeddable\").each(function(i, link) {\n",
    "    $(\"<div />\").load(link.href, function(data, status, xhr) {\n",
    "      $(link).replaceWith(this);\n",
    "    });\n",
    "  });\n",
    "});\n",
    "```"
   ]
  },
  {
   "cell_type": "markdown",
   "id": "a5cdc527",
   "metadata": {
    "slideshow": {
     "slide_type": "slide"
    }
   },
   "source": [
    "# Other Integration Method"
   ]
  },
  {
   "cell_type": "markdown",
   "id": "a42d6bed",
   "metadata": {
    "slideshow": {
     "slide_type": "slide"
    }
   },
   "source": [
    "## Iframe\n",
    "## Embed\n",
    "## Object\n",
    "\n",
    "+ More Info Here: https://developer.mozilla.org/en-US/docs/Learn/HTML/Multimedia_and_embedding"
   ]
  },
  {
   "cell_type": "markdown",
   "id": "9726d887",
   "metadata": {
    "slideshow": {
     "slide_type": "notes"
    }
   },
   "source": [
    "+ Above code replaces the link with the content of the link, like whole html is displayed"
   ]
  },
  {
   "cell_type": "markdown",
   "id": "aec27380",
   "metadata": {
    "slideshow": {
     "slide_type": "slide"
    }
   },
   "source": [
    "# Server Side Integration"
   ]
  },
  {
   "cell_type": "markdown",
   "id": "9cf8d61b",
   "metadata": {
    "slideshow": {
     "slide_type": "slide"
    }
   },
   "source": [
    "# Edge Side Includes - ESI \n",
    "+ It's a language https://www.w3.org/TR/esi-lang\n",
    "+ assemble resources in HTTP clients. \n",
    "+ CDN/Cache implements ESI\n",
    "+ improve end-user perceived performance, reduce processing overhead on the origin server, and enhanced availability"
   ]
  },
  {
   "cell_type": "markdown",
   "id": "e6bbcb58",
   "metadata": {
    "slideshow": {
     "slide_type": "slide"
    }
   },
   "source": [
    "# How Do We Implement?"
   ]
  },
  {
   "cell_type": "markdown",
   "id": "af5fee82",
   "metadata": {
    "slideshow": {
     "slide_type": "slide"
    }
   },
   "source": [
    "\n",
    "# Varnish\n",
    "Varnish is mainly used for optimizing web servers:\n",
    "\n",
    "+ It intercepts the HTTP requests to web servers.\n",
    "+ Manipulate ESI\n",
    "+ It then caches the responses.\n",
    "+ It forwards only those requests to the web servers that are not in the cache.\n",
    "\n",
    "+ More About Varnish: https://book.varnish-software.com/4.0/chapters/Introduction.html\n"
   ]
  },
  {
   "cell_type": "markdown",
   "id": "e858aa36",
   "metadata": {
    "slideshow": {
     "slide_type": "subslide"
    }
   },
   "source": [
    "# Sample ESI\n",
    "\n",
    "\n",
    "```\n",
    "<html>\n",
    "<head>\n",
    "  ...\n",
    "  <esi:include src=\"/common/header\"></esi:include>\n",
    "</head>\n",
    "\n",
    "<body>\n",
    "  <div class=\"container\">\n",
    "    <esi:include src=\"/common/navbar\"></esi:include>\n",
    "    ...\n",
    "  </div>\n",
    "  <esi:include src=\"/common/footer\"></esi:include>\n",
    "</body>\n",
    "</html>\n",
    "```\n",
    "\n",
    "\n"
   ]
  },
  {
   "cell_type": "markdown",
   "id": "c1c782a6",
   "metadata": {
    "slideshow": {
     "slide_type": "subslide"
    }
   },
   "source": [
    "#### In this example, the attempt is to fetch an ad. If the ad fetch fails, a static link will be included instead.\n",
    "\n",
    "```\n",
    "<esi:try> \n",
    "    <esi:attempt>\n",
    "        <esi:comment text=\"Include an ad\"/> \n",
    "        <esi:include src=\"http://www.example.com/ad1.html\"/> \n",
    "    </esi:attempt>\n",
    "    <esi:except> \n",
    "        <esi:comment text=\"Just write some HTML instead\"/> \n",
    "        <a href=www.akamai.com>www.example.com</a>\n",
    "    </esi:except> \n",
    "</esi:try>\n",
    "```"
   ]
  },
  {
   "cell_type": "markdown",
   "id": "5a68366a",
   "metadata": {
    "slideshow": {
     "slide_type": "subslide"
    }
   },
   "source": [
    "# An Example Of Varnish Configuration\n",
    "```\n",
    "vcl 4.0;\n",
    "\n",
    "backend default {\n",
    "    .host = \"order\";\n",
    "    .port = \"8080\";\n",
    "}\n",
    "\n",
    "backend common {\n",
    "    .host = \"common\";\n",
    "    .port = \"8180\";\n",
    "}\n",
    "\n",
    "sub vcl_recv vcl_recv {\n",
    "    if (req.url ~ \"^/common\") {\n",
    "       set req.backend_hint = common;\n",
    "    }\n",
    "}\n",
    "\n",
    "sub vcl_backend_response{\n",
    "    set beresp.do_esi = true;\n",
    "    set beresp.ttl = 30s;\n",
    "    set beresp.grace = 15m;\n",
    "}\n",
    "```\n",
    "\n",
    "Case Study example here: https://github.com/ewolff/SCS-ESI \n",
    "+ Credits Educative"
   ]
  },
  {
   "cell_type": "code",
   "execution_count": null,
   "id": "03ba64a1",
   "metadata": {
    "slideshow": {
     "slide_type": "notes"
    }
   },
   "outputs": [],
   "source": [
    "# BreakDown of Previous Slide\n",
    "\n"
   ]
  },
  {
   "cell_type": "markdown",
   "id": "9d06d776",
   "metadata": {
    "slideshow": {
     "slide_type": "notes"
    }
   },
   "source": [
    "# Notes:\n",
    "+ Version ofcourse\n",
    "+ Two backend directives/vars\n",
    "+ Notice the host and port are currently docker from the case study\n",
    "+ /common => goes to common (which has bootstrap and headers)\n",
    "+ interpret ESI\n",
    "+ cache 30s\n",
    "+ if server goes down, show cache pages for 15 minutes"
   ]
  },
  {
   "cell_type": "markdown",
   "id": "a6e84e42",
   "metadata": {
    "slideshow": {
     "slide_type": "slide"
    }
   },
   "source": [
    "# Also Server Side Integration (SSI)\n"
   ]
  },
  {
   "cell_type": "markdown",
   "id": "cd212d5a",
   "metadata": {
    "slideshow": {
     "slide_type": "slide"
    }
   },
   "source": [
    "# Zolando Architecture (Mosiac)\n"
   ]
  },
  {
   "cell_type": "markdown",
   "id": "1e86ebe4",
   "metadata": {
    "slideshow": {
     "slide_type": "subslide"
    }
   },
   "source": [
    "![Zolando Architecture](./zolando-architecture.png)"
   ]
  },
  {
   "cell_type": "markdown",
   "id": "7bae96e7",
   "metadata": {
    "slideshow": {
     "slide_type": "subslide"
    }
   },
   "source": [
    "# Tailor\n",
    "+ Tailor is a layout service that brings microservices to the frontend by composing a website out of various Fragments (such as Header, Product, and Footer).\n",
    "\n",
    "+ Tailor achieves impressive Time to First Byte, as it asynchronously fetches multiple fragments, assembles their response streams, and outputs the final response."
   ]
  },
  {
   "cell_type": "markdown",
   "id": "fb72aac8",
   "metadata": {
    "slideshow": {
     "slide_type": "slide"
    }
   },
   "source": [
    "## An example of SSI\n",
    "\n",
    "```\n",
    "# custom log format\n",
    "log_format timed_combined '[$time_local] '\n",
    "    '\"$request\" $status $body_bytes_sent '\n",
    "    '\"$http_referer\" \"$http_user_agent\" '\n",
    "    'ReqTime: $request_time UpstreamTime: $upstream_response_time $pipe';\n",
    "\n",
    "access_log /var/log/nginx/scs-commerce.dev.access.log timed_combined;\n",
    "\n",
    "upstream landing-page {\n",
    " server landing-page:3000;\n",
    "}\n",
    "\n",
    "upstream products {\n",
    " server products:3001;\n",
    "}\n",
    "\n",
    "upstream order {\n",
    " server order:3002;\n",
    "}\n",
    "\n",
    "upstream assets {\n",
    " server assets:3003;\n",
    "}\n",
    "\n",
    "proxy_cache_path /tmp/nginx levels=1:2 keys_zone=my_zone:10m inactive=60m;\n",
    "proxy_cache_key \"$scheme$request_method$host$request_uri\";\n",
    "\n",
    "server {\n",
    "  listen 80;\n",
    "  server_name scs-commerce.dev;\n",
    "  ssi on;\n",
    "  ssi_silent_errors off;\n",
    "\n",
    "  # set $some_var \"...\";\n",
    "\n",
    "  location / {\n",
    "    proxy_pass  http://landing-page/;\n",
    "    proxy_redirect off;\n",
    "    proxy_set_header X-Real-IP $remote_addr;\n",
    "    proxy_set_header X-Forwarded-For $proxy_add_x_forwarded_for;\n",
    "    proxy_set_header Host $host;\n",
    "\n",
    "    proxy_pass_header Set-Cookie;\n",
    "  }\n",
    "\n",
    "  location /products/ {\n",
    "    proxy_pass  http://products/;\n",
    "    proxy_redirect off;\n",
    "    proxy_set_header Host $host:$server_port$uri;\n",
    "\n",
    "    # proxy_cache my_zone;\n",
    "    # proxy_cache_valid 200 1M;\n",
    "    # proxy_ignore_headers Expires Cache-Control Set-Cookie;\n",
    "    # add_header X-Proxy-Cache $upstream_cache_status;\n",
    "  }\n",
    "\n",
    "  location /order/ {\n",
    "    proxy_pass  http://order/;\n",
    "    proxy_redirect off;\n",
    "    proxy_set_header Host $host:$request_uri;\n",
    "\n",
    "    proxy_pass_header Cookie;\n",
    "  }\n",
    "\n",
    "  location /assets/ {\n",
    "    proxy_pass  http://assets/;\n",
    "    proxy_redirect off;\n",
    "    proxy_set_header Host $host:$server_port$uri;\n",
    "  }\n",
    "}\n",
    "```"
   ]
  },
  {
   "cell_type": "markdown",
   "id": "36a2b2d7",
   "metadata": {
    "slideshow": {
     "slide_type": "notes"
    }
   },
   "source": [
    "COMPONENTS\n",
    "\n",
    "Tailor\n",
    "https://github.com/zalando/tailor\n",
    "Tailor is a layout service that brings microservices to the frontend by composing a website out of \n",
    "various Fragments (such as Header, Product, and Footer). Tailor achieves impressive Time to First Byte, as \n",
    "it asynchronously fetches multiple fragments, assembles their response streams, and outputs the final response. \n",
    "Tailor is partially inspired by Facebook’s BigPipe.\n",
    "\n",
    "\n",
    "Skipper\n",
    "https://github.com/zalando/skipper\n",
    "Skipper is an extendable HTTP router for service composition. It's built on top a reverse proxy with the \n",
    "ability to select routes based on predicates, and to modify requests and responses with filters. It can be \n",
    "useful for all teams who are trying to deploy a microservices architecture and want (or need) to decouple \n",
    "routing from service logic.\n",
    "\n",
    "\n",
    "Shaker\n",
    "Shaker is a library and living showcase for UI components. It is used inside Zalando to provide a \n",
    "consistent user experience while developing Fragments in distributed and autonomous teams.\n",
    "\n",
    "\n",
    "Quilt\n",
    "Quilt is the template storage used by Tailor. It integrates with Zalando's team structure and \n",
    "provides a REST API that allows multiple development teams to manage their templates.\n",
    "\n",
    "\n",
    "Innkeeper\n",
    "https://github.com/zalando/innkeeper\n",
    "Innkeeper is a RESTful API that stores routes, so that they can be fetched by Skipper. \n",
    "Innkeeper can export the routes in the eskip format. As routes are divided by paths, \n",
    "it allows multiple teams to manage their individual paths. It is developed in Scala.\n",
    "\n",
    "\n",
    "Tessellate\n",
    "https://github.com/zalando-incubator/tessellate\n",
    "Tessellate is a server-side React renderer that creates static HTML and a complementary component \n",
    "tree from abstract JSON definitions. It comprises several micro services built on top of the Mosaic architecture."
   ]
  },
  {
   "cell_type": "markdown",
   "id": "a6d28c55",
   "metadata": {
    "slideshow": {
     "slide_type": "slide"
    }
   },
   "source": [
    "### Learn More about Mosaic\n",
    "+ https://www.mosaic9.org/\n"
   ]
  },
  {
   "cell_type": "markdown",
   "id": "988d1693",
   "metadata": {
    "slideshow": {
     "slide_type": "slide"
    }
   },
   "source": [
    "# Benefits of ROCA\n",
    "+ Clean Architecture\n",
    "+ Browers optimization can be exploited\n",
    "+ HTTP GET can be cached\n",
    "+ Low Bandwith\n",
    "+ High speed\n",
    "+ High resilence\n",
    "\n",
    "\n",
    "ROCA vs SPA\n",
    "+ SPA allows redudant logic on frontend\n",
    "+ SPA is better suited for complex UIs\n",
    "+ \n",
    "\n",
    "ROCA is good frontend integration technique for microservices based architecture\n"
   ]
  },
  {
   "cell_type": "markdown",
   "id": "660bc4cc",
   "metadata": {
    "slideshow": {
     "slide_type": "slide"
    }
   },
   "source": [
    "\n",
    "\n",
    "# Challenges \n",
    "+ UI Infrastructure \n",
    "+ Uniform look and feel\n",
    "+ Interfaces in Frontend Integration\n",
    "+ UI changes impact mutliple module\n",
    "+ "
   ]
  },
  {
   "cell_type": "markdown",
   "id": "6806093f",
   "metadata": {
    "slideshow": {
     "slide_type": "slide"
    }
   },
   "source": [
    "\n",
    "\n",
    "## Again Why Do We Need A Good Architecture?\n",
    "![Jackie Chan GIF](https://media.giphy.com/media/4lhTfviX1S4tyj0VmJ/giphy.gif)\n"
   ]
  },
  {
   "cell_type": "markdown",
   "id": "bf539073",
   "metadata": {
    "slideshow": {
     "slide_type": "subslide"
    }
   },
   "source": [
    "## Predict the Future\n",
    "\n",
    "![cost to market](./architecture-quality.png)\n",
    "\n",
    "\n",
    "- Source https://martinfowler.com/architecture/\n"
   ]
  },
  {
   "cell_type": "markdown",
   "id": "a1ccffa4",
   "metadata": {
    "slideshow": {
     "slide_type": "slide"
    }
   },
   "source": [
    "# Thank You For Joining\n",
    "\n",
    "# Questions?\n",
    "![Thank you](https://media.giphy.com/media/3oz8xIsloV7zOmt81G/giphy.gif)"
   ]
  },
  {
   "cell_type": "markdown",
   "id": "7888f3cf",
   "metadata": {
    "slideshow": {
     "slide_type": "slide"
    }
   },
   "source": [
    "# About Me\n",
    "\n",
    "## Gaurav Sehrawat\n",
    "## Global Solutions Architect/Tech Lead @Verifone\n",
    "\n",
    "### 🌎: Website: https://igauravsehrawat.com/\n",
    "### 🧑‍💻Github: https://github.com/igauravsehrawat\n",
    "### 🕊Twitter: https://twitter.com/Root3d\n",
    "### 🤝 LinkedIn: https://linkedin.com/in/igauravsehrawat\n"
   ]
  }
 ],
 "metadata": {
  "celltoolbar": "Slideshow",
  "kernelspec": {
   "display_name": "Python 3",
   "language": "python",
   "name": "python3"
  },
  "language_info": {
   "codemirror_mode": {
    "name": "ipython",
    "version": 3
   },
   "file_extension": ".py",
   "mimetype": "text/x-python",
   "name": "python",
   "nbconvert_exporter": "python",
   "pygments_lexer": "ipython3",
   "version": "3.8.5"
  }
 },
 "nbformat": 4,
 "nbformat_minor": 5
}
