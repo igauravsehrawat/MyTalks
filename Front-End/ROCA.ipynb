{
 "cells": [
  {
   "cell_type": "markdown",
   "id": "d9e7799b",
   "metadata": {
    "slideshow": {
     "slide_type": "slide"
    }
   },
   "source": [
    "# Modular Fronted Architecture With ROCA"
   ]
  },
  {
   "cell_type": "markdown",
   "id": "cccc94f7",
   "metadata": {
    "slideshow": {
     "slide_type": "slide"
    }
   },
   "source": [
    "# About Me\n",
    "\n",
    "## Gaurav Sehrawat\n",
    "## Global Solutions Architect/Tech Lead @Verifone\n",
    "\n",
    "\n",
    "### 🧑‍💻Github: https://github.com/igauravsehrawat\n",
    "### 🕊Twitter: https://twitter.com/Root3d\n",
    "### 🤝 LinkedIn: https://linkedin.com/in/igauravsehrawat\n"
   ]
  },
  {
   "cell_type": "code",
   "execution_count": null,
   "id": "73452509",
   "metadata": {
    "slideshow": {
     "slide_type": "notes"
    }
   },
   "outputs": [],
   "source": [
    "Notes:\n",
    "    Tell the problem and then deep dive into solution\n",
    "    Too many slides\n",
    "    Why you \n",
    "    One of the paradigm \n",
    "    \n",
    "    Why \n",
    "    Remove the SCS\n",
    "    \n",
    "    Problem and challenges\n",
    "    Solution should take more time\n",
    "    Time management issue\n",
    "    Explain the solution more\n",
    "    \n",
    "    \n",
    "Template\n",
    "about me\n",
    "problem\n",
    "And the solution......."
   ]
  },
  {
   "cell_type": "markdown",
   "id": "12165057",
   "metadata": {
    "slideshow": {
     "slide_type": "slide"
    }
   },
   "source": [
    "# A Step Back\n",
    "\n",
    "## What is Architecture?\n",
    "\n",
    "\n"
   ]
  },
  {
   "cell_type": "markdown",
   "id": "b3e55127",
   "metadata": {
    "slideshow": {
     "slide_type": "slide"
    }
   },
   "source": [
    "### The decisions you wish you could get right early in a project.\n",
    "\n",
    "\n",
    "###  Defines notion of the most important aspects of the internal design of a software system. "
   ]
  },
  {
   "cell_type": "markdown",
   "id": "08bebe73",
   "metadata": {
    "slideshow": {
     "slide_type": "fragment"
    }
   },
   "source": [
    "https://martinfowler.com/architecture/"
   ]
  },
  {
   "cell_type": "markdown",
   "id": "6ba9fc4c",
   "metadata": {
    "slideshow": {
     "slide_type": "slide"
    }
   },
   "source": [
    "# Talk is indepedent of framework, technology or tooling "
   ]
  },
  {
   "cell_type": "markdown",
   "id": "8080110c",
   "metadata": {
    "slideshow": {
     "slide_type": "slide"
    }
   },
   "source": [
    "# Why This Talk?"
   ]
  },
  {
   "cell_type": "markdown",
   "id": "1684228d",
   "metadata": {
    "slideshow": {
     "slide_type": "fragment"
    }
   },
   "source": [
    "+ It's just a different paradigm to be aware of\n",
    "+ It won't solve all the problems you have\n",
    "+ But it might solve few"
   ]
  },
  {
   "cell_type": "markdown",
   "id": "dc9cbef4",
   "metadata": {
    "slideshow": {
     "slide_type": "slide"
    }
   },
   "source": [
    "\n",
    "\n",
    "## Why Do We Need A Good Architecture?\n",
    "![Jackie Chan GIF](https://media.giphy.com/media/4lhTfviX1S4tyj0VmJ/giphy.gif)\n"
   ]
  },
  {
   "cell_type": "markdown",
   "id": "fe0f543b",
   "metadata": {
    "slideshow": {
     "slide_type": "slide"
    }
   },
   "source": [
    "# Problem statement?\n"
   ]
  },
  {
   "cell_type": "markdown",
   "id": "4a6131d2",
   "metadata": {
    "slideshow": {
     "slide_type": "subslide"
    }
   },
   "source": [
    "# We Need Speed\n",
    "\n",
    "![Looking for speed](https://media.giphy.com/media/ZZTMRgmRdVjNK3PJnS/giphy.gif)"
   ]
  },
  {
   "cell_type": "markdown",
   "id": "47856112",
   "metadata": {
    "slideshow": {
     "slide_type": "subslide"
    }
   },
   "source": [
    "# Time To Deliver To Market\n",
    "\n",
    "\n",
    "\n",
    "\n",
    "\n",
    "\n",
    "\n",
    "# Time To Deliver To Browser\n",
    "\n",
    "\n",
    "\n",
    "\n",
    "\n",
    "# Time To Render In Browser"
   ]
  },
  {
   "cell_type": "markdown",
   "id": "4954f178",
   "metadata": {
    "slideshow": {
     "slide_type": "subslide"
    }
   },
   "source": [
    "## Quality And Cost To Deliver\n",
    "\n",
    "![cost to market](./architecture-quality.png)\n",
    "\n",
    "\n",
    "- Source https://martinfowler.com/architecture/\n"
   ]
  },
  {
   "cell_type": "markdown",
   "id": "4dfdc685",
   "metadata": {
    "slideshow": {
     "slide_type": "slide"
    }
   },
   "source": [
    "# What All Can Be There?"
   ]
  },
  {
   "cell_type": "markdown",
   "id": "d6544ddd",
   "metadata": {
    "slideshow": {
     "slide_type": "subslide"
    }
   },
   "source": [
    "# Frontend Monolith\n",
    "![Frontend Monolith](./frontend-monolith.png)"
   ]
  },
  {
   "cell_type": "markdown",
   "id": "b968c4ac",
   "metadata": {
    "slideshow": {
     "slide_type": "subslide"
    }
   },
   "source": [
    "# Frontend Self Contained Service\n",
    "![frontend scs](./frontend-scs.png)"
   ]
  },
  {
   "cell_type": "markdown",
   "id": "11b982f2",
   "metadata": {
    "slideshow": {
     "slide_type": "subslide"
    }
   },
   "source": [
    "# Frontend Modules/Micro\n",
    "![Frontend microservice](./frontend-modules.png)"
   ]
  },
  {
   "cell_type": "markdown",
   "id": "3700d0f5",
   "metadata": {
    "slideshow": {
     "slide_type": "slide"
    }
   },
   "source": [
    "# Frontend Monolith vs Modular\n",
    "\n",
    "### Why Monolith?\n",
    "+ If one team is required\n",
    "+ Project is not big\n",
    "+ SPA apps\n",
    "+ It will save efforts of dividing into microservices\n",
    "\n"
   ]
  },
  {
   "cell_type": "markdown",
   "id": "0a69fd02",
   "metadata": {
    "slideshow": {
     "slide_type": "slide"
    }
   },
   "source": [
    "### Why Modular?\n",
    "+ If multiple teams can work on same UI\n",
    "+ Can be broken down into concerning domain logic\n",
    "+ Change in domain can be implemented by modifying and deploying just one service\n",
    "\n",
    "\n"
   ]
  },
  {
   "cell_type": "markdown",
   "id": "a697a4bd",
   "metadata": {
    "slideshow": {
     "slide_type": "slide"
    }
   },
   "source": [
    "# Which Architecture Is Better Suited For Frontend Integration?\n",
    "\n"
   ]
  },
  {
   "cell_type": "markdown",
   "id": "292dce33",
   "metadata": {
    "slideshow": {
     "slide_type": "subslide"
    }
   },
   "source": [
    "# Presenting You....\n",
    "\n",
    "![presenting-you-roca](https://media.giphy.com/media/Qah0iECwhSJ3LYzWmB/giphy.gif)"
   ]
  },
  {
   "cell_type": "markdown",
   "id": "c31994fd",
   "metadata": {
    "slideshow": {
     "slide_type": "slide"
    }
   },
   "source": [
    "# ROCA (Resource Oriented Client Architecture)\n",
    "+ Set of recommmendation for frontend modularization and integration\n"
   ]
  },
  {
   "cell_type": "markdown",
   "id": "0a78d488",
   "metadata": {
    "slideshow": {
     "slide_type": "slide"
    }
   },
   "source": [
    "# Benefits\n",
    "+ Loose coupling\n",
    "+ Logic and UI in one microservice/domain\n",
    "+ Free choice of frontend technology"
   ]
  },
  {
   "cell_type": "markdown",
   "id": "9948f121",
   "metadata": {
    "slideshow": {
     "slide_type": "slide"
    }
   },
   "source": [
    "# Let's say you did the modularized your Frontend with \n",
    "+ Self Contained Services\n",
    "+ Micro-Frontend\n",
    "+ Or Anyhow 😄"
   ]
  },
  {
   "cell_type": "markdown",
   "id": "fda5f0ba",
   "metadata": {
    "slideshow": {
     "slide_type": "slide"
    }
   },
   "source": [
    "# How To Do Frontend Integration\n",
    "+ Client Side Integration\n",
    "+ Server Side Integraiton"
   ]
  },
  {
   "cell_type": "markdown",
   "id": "5e8bce56",
   "metadata": {
    "slideshow": {
     "slide_type": "slide"
    }
   },
   "source": [
    "\n",
    "\n",
    "## Client Side Integration\n",
    "\n",
    "### Via Links\n",
    "+ Just Hyperlink one to another (Nothing special)\n",
    "\n",
    "\n",
    "### Via Redirects\n",
    "+ Links but with data is redirects\n",
    "    - e.g OAuth, when signining up with third-parties\n",
    "\n",
    "## Transclusion\n",
    "+ Combining content of website into another website \n",
    "+ Will see later\n",
    "* Credits: educative.io"
   ]
  },
  {
   "cell_type": "markdown",
   "id": "94684862",
   "metadata": {
    "slideshow": {
     "slide_type": "notes"
    }
   },
   "source": [
    "\n",
    "# ROCA Principles\n",
    "+ REST based\n",
    "+ Accessible, not just html, json, \n",
    "+ Logic on the server, Javascript for UI purpose only\n",
    "+ HTTP authentication on server\n",
    "+ Cookies for tracking and authentication, not for business logic\n",
    "+ No layout info int HTML, CSS should be separate\n",
    "+ No redundant logic on frontend\n"
   ]
  },
  {
   "cell_type": "markdown",
   "id": "ddfb8984",
   "metadata": {
    "slideshow": {
     "slide_type": "notes"
    }
   },
   "source": [
    "Notes: \n",
    "If you need to change the website it's better to redesign the UI first rather than modularising it"
   ]
  },
  {
   "cell_type": "markdown",
   "id": "6f5afeb0",
   "metadata": {
    "slideshow": {
     "slide_type": "notes"
    }
   },
   "source": [
    "Notes:\n",
    "    if links are used for integration, only the URL has to be known for integration to occur\n",
    "    if todo list and UI needs to be changed, only one microservice will do it\n",
    "    each microservice has it's own frontend that can use it's own technology\n",
    "    for e.g, angular -> react -> vue.js (each teeam, how-so ever it evolves)"
   ]
  },
  {
   "cell_type": "markdown",
   "id": "c18f1495",
   "metadata": {
    "slideshow": {
     "slide_type": "slide"
    }
   },
   "source": [
    "# Links And Client Side Integration\n",
    "+ Case study of https://crimson-portal.herokuapp.com/ from INNOQ\n",
    "![case study crimson](./links-and-transclusion.png)\n",
    "\n",
    "\n",
    "* Credits INNOQ"
   ]
  },
  {
   "cell_type": "markdown",
   "id": "046d5594",
   "metadata": {
    "slideshow": {
     "slide_type": "notes"
    }
   },
   "source": [
    "for the main application (https://crimson-portal.herokuapp.com/)\n",
    "for reporting damages (damage application) (https://crimson-damage.herokuapp.com/)\n",
    "for writing letters (letter application) (https://crimson-letter.herokuapp.com/)\n",
    "for the postbox (postbox application)(https://crimson-postbox.herokuapp.com/)."
   ]
  },
  {
   "cell_type": "markdown",
   "id": "9f4aa1d0",
   "metadata": {
    "slideshow": {
     "slide_type": "slide"
    }
   },
   "source": [
    "# Integration with Redirects\n",
    "\n",
    "        Show example for redirect\n"
   ]
  },
  {
   "cell_type": "markdown",
   "id": "5fc4d39e",
   "metadata": {
    "slideshow": {
     "slide_type": "slide"
    }
   },
   "source": [
    "# Integration With Javascript As Transclusion\n",
    "\n",
    "![transclusion](./transclusion.png)\n",
    "\n",
    "\n",
    "* Credits: Educative"
   ]
  },
  {
   "cell_type": "markdown",
   "id": "725b1285",
   "metadata": {
    "slideshow": {
     "slide_type": "slide"
    }
   },
   "source": [
    "# Integration (Demo Time )\n",
    "![Demo Time](https://media.giphy.com/media/UrEQirmnMPxBwToULv/giphy.gif)"
   ]
  },
  {
   "cell_type": "markdown",
   "id": "9dfed7a7",
   "metadata": {
    "slideshow": {
     "slide_type": "subslide"
    }
   },
   "source": [
    "```\n",
    "<a href=\"https:&#x2F;&#x2F;crimson-postbox.herokuapp.com/m50000/messages\"\n",
    "  class=\"preview\" data-preview=\"enabled\"\n",
    "  data-preview-title=\"Notifications\"\n",
    "  data-preview-selector=\"table.messages-overview\"\n",
    "  data-preview-error-msg=\"Postbox unreachable!\"\n",
    "  data-preview-count=\"tbody>tr\" data-preview-window>\n",
    "```\n",
    "+ Case study of https://crimson-portal.herokuapp.com/ from INNOQ\n",
    "\n",
    "+ From common styleguide component\n",
    "\n",
    "https://github.com/ewolff/crimson-styleguide/tree/master/components/preview"
   ]
  },
  {
   "cell_type": "markdown",
   "id": "eed1da6a",
   "metadata": {
    "slideshow": {
     "slide_type": "subslide"
    }
   },
   "source": [
    "\n",
    "# Render The Content Of The Link\n",
    "\n",
    "```\n",
    "$(document).ready(function() {\n",
    "  $(\"a.embeddable\").each(function(i, link) {\n",
    "    $(\"<div />\").load(link.href, function(data, status, xhr) {\n",
    "      $(link).replaceWith(this);\n",
    "    });\n",
    "  });\n",
    "});\n",
    "```"
   ]
  },
  {
   "cell_type": "markdown",
   "id": "5509744c",
   "metadata": {
    "slideshow": {
     "slide_type": "slide"
    }
   },
   "source": [
    "# Other Integration Method"
   ]
  },
  {
   "cell_type": "markdown",
   "id": "a2fe9e81",
   "metadata": {
    "slideshow": {
     "slide_type": "slide"
    }
   },
   "source": [
    "## Iframe\n",
    "## Embed\n",
    "## Object\n",
    "\n",
    "+ More Info Here: https://developer.mozilla.org/en-US/docs/Learn/HTML/Multimedia_and_embedding"
   ]
  },
  {
   "cell_type": "markdown",
   "id": "d34a306b",
   "metadata": {
    "slideshow": {
     "slide_type": "notes"
    }
   },
   "source": [
    "+ Above code replaces the link with the content of the link, like whole html is displayed"
   ]
  },
  {
   "cell_type": "markdown",
   "id": "9fa265bc",
   "metadata": {
    "slideshow": {
     "slide_type": "slide"
    }
   },
   "source": [
    "# Server Side Integration"
   ]
  },
  {
   "cell_type": "markdown",
   "id": "f386ed07",
   "metadata": {
    "slideshow": {
     "slide_type": "slide"
    }
   },
   "source": [
    "# Edge Side Includes - ESI \n",
    "+ It's a language https://www.w3.org/TR/esi-lang\n",
    "+ assemble resources in HTTP clients. \n",
    "+ CDN/Cache implements ESI\n",
    "+ improve end-user perceived performance, reduce processing overhead on the origin server, and enhanced availability"
   ]
  },
  {
   "cell_type": "markdown",
   "id": "5a425c30",
   "metadata": {
    "slideshow": {
     "slide_type": "slide"
    }
   },
   "source": [
    "# How Do We Implement?"
   ]
  },
  {
   "cell_type": "markdown",
   "id": "1e865477",
   "metadata": {
    "slideshow": {
     "slide_type": "slide"
    }
   },
   "source": [
    "\n",
    "# Varnish\n",
    "Varnish is mainly used for optimizing web servers:\n",
    "\n",
    "+ It intercepts the HTTP requests to web servers.\n",
    "+ Manipulate ESI\n",
    "+ It then caches the responses.\n",
    "+ It forwards only those requests to the web servers that are not in the cache.\n",
    "\n",
    "+ More About Varnish: https://book.varnish-software.com/4.0/chapters/Introduction.html\n"
   ]
  },
  {
   "cell_type": "markdown",
   "id": "e2bf8e38",
   "metadata": {
    "slideshow": {
     "slide_type": "subslide"
    }
   },
   "source": [
    "# Sample ESI\n",
    "\n",
    "\n",
    "```\n",
    "<html>\n",
    "<head>\n",
    "  ...\n",
    "  <esi:include src=\"/common/header\"></esi:include>\n",
    "</head>\n",
    "\n",
    "<body>\n",
    "  <div class=\"container\">\n",
    "    <esi:include src=\"/common/navbar\"></esi:include>\n",
    "    ...\n",
    "  </div>\n",
    "  <esi:include src=\"/common/footer\"></esi:include>\n",
    "</body>\n",
    "</html>\n",
    "```\n",
    "\n",
    "\n"
   ]
  },
  {
   "cell_type": "markdown",
   "id": "693a0073",
   "metadata": {
    "slideshow": {
     "slide_type": "subslide"
    }
   },
   "source": [
    "#### In this example, the attempt is to fetch an ad. If the ad fetch fails, a static link will be included instead.\n",
    "\n",
    "```\n",
    "<esi:try> \n",
    "    <esi:attempt>\n",
    "        <esi:comment text=\"Include an ad\"/> \n",
    "        <esi:include src=\"http://www.example.com/ad1.html\"/> \n",
    "    </esi:attempt>\n",
    "    <esi:except> \n",
    "        <esi:comment text=\"Just write some HTML instead\"/> \n",
    "        <a href=www.akamai.com>www.example.com</a>\n",
    "    </esi:except> \n",
    "</esi:try>\n",
    "```"
   ]
  },
  {
   "cell_type": "markdown",
   "id": "0f8e7495",
   "metadata": {
    "slideshow": {
     "slide_type": "subslide"
    }
   },
   "source": [
    "# An Example Of Varnish Configuration\n",
    "```\n",
    "vcl 4.0;\n",
    "\n",
    "backend default {\n",
    "    .host = \"order\";\n",
    "    .port = \"8080\";\n",
    "}\n",
    "\n",
    "backend common {\n",
    "    .host = \"common\";\n",
    "    .port = \"8180\";\n",
    "}\n",
    "\n",
    "sub vcl_recv vcl_recv {\n",
    "    if (req.url ~ \"^/common\") {\n",
    "       set req.backend_hint = common;\n",
    "    }\n",
    "}\n",
    "\n",
    "sub vcl_backend_response{\n",
    "    set beresp.do_esi = true;\n",
    "    set beresp.ttl = 30s;\n",
    "    set beresp.grace = 15m;\n",
    "}\n",
    "```\n",
    "\n",
    "Case Study example here: https://github.com/ewolff/SCS-ESI \n",
    "+ Credits Educative"
   ]
  },
  {
   "cell_type": "code",
   "execution_count": 10,
   "id": "d2047bac",
   "metadata": {
    "slideshow": {
     "slide_type": "notes"
    }
   },
   "outputs": [],
   "source": [
    "# BreakDown of Previous Slide\n",
    "\n"
   ]
  },
  {
   "cell_type": "markdown",
   "id": "232d10c6",
   "metadata": {
    "slideshow": {
     "slide_type": "notes"
    }
   },
   "source": [
    "# Notes:\n",
    "+ Version ofcourse\n",
    "+ Two backend directives/vars\n",
    "+ Notice the host and port are currently docker from the case study\n",
    "+ /common => goes to common (which has bootstrap and headers)\n",
    "+ interpret ESI\n",
    "+ cache 30s\n",
    "+ if server goes down, show cache pages for 15 minutes"
   ]
  },
  {
   "cell_type": "markdown",
   "id": "80658822",
   "metadata": {
    "slideshow": {
     "slide_type": "slide"
    }
   },
   "source": [
    "# Also Server Side Integration (SSI)\n"
   ]
  },
  {
   "cell_type": "markdown",
   "id": "1049c0c5",
   "metadata": {
    "slideshow": {
     "slide_type": "slide"
    }
   },
   "source": [
    "# Zolando Architecture\n"
   ]
  },
  {
   "cell_type": "markdown",
   "id": "3801d09e",
   "metadata": {
    "slideshow": {
     "slide_type": "subslide"
    }
   },
   "source": [
    "![Zolando Architecture](./zolando-architecture.png)"
   ]
  },
  {
   "cell_type": "markdown",
   "id": "f0281345",
   "metadata": {
    "slideshow": {
     "slide_type": "subslide"
    }
   },
   "source": [
    "# Tailor\n",
    "+ Tailor is a layout service that brings microservices to the frontend by composing a website out of various Fragments (such as Header, Product, and Footer).\n",
    "\n",
    "+ Tailor achieves impressive Time to First Byte, as it asynchronously fetches multiple fragments, assembles their response streams, and outputs the final response."
   ]
  },
  {
   "cell_type": "markdown",
   "id": "046fa0ba",
   "metadata": {
    "slideshow": {
     "slide_type": "slide"
    }
   },
   "source": [
    "## An example of SSI\n",
    "\n",
    "```\n",
    "# custom log format\n",
    "log_format timed_combined '[$time_local] '\n",
    "    '\"$request\" $status $body_bytes_sent '\n",
    "    '\"$http_referer\" \"$http_user_agent\" '\n",
    "    'ReqTime: $request_time UpstreamTime: $upstream_response_time $pipe';\n",
    "\n",
    "access_log /var/log/nginx/scs-commerce.dev.access.log timed_combined;\n",
    "\n",
    "upstream landing-page {\n",
    " server landing-page:3000;\n",
    "}\n",
    "\n",
    "upstream products {\n",
    " server products:3001;\n",
    "}\n",
    "\n",
    "upstream order {\n",
    " server order:3002;\n",
    "}\n",
    "\n",
    "upstream assets {\n",
    " server assets:3003;\n",
    "}\n",
    "\n",
    "proxy_cache_path /tmp/nginx levels=1:2 keys_zone=my_zone:10m inactive=60m;\n",
    "proxy_cache_key \"$scheme$request_method$host$request_uri\";\n",
    "\n",
    "server {\n",
    "  listen 80;\n",
    "  server_name scs-commerce.dev;\n",
    "  ssi on;\n",
    "  ssi_silent_errors off;\n",
    "\n",
    "  # set $some_var \"...\";\n",
    "\n",
    "  location / {\n",
    "    proxy_pass  http://landing-page/;\n",
    "    proxy_redirect off;\n",
    "    proxy_set_header X-Real-IP $remote_addr;\n",
    "    proxy_set_header X-Forwarded-For $proxy_add_x_forwarded_for;\n",
    "    proxy_set_header Host $host;\n",
    "\n",
    "    proxy_pass_header Set-Cookie;\n",
    "  }\n",
    "\n",
    "  location /products/ {\n",
    "    proxy_pass  http://products/;\n",
    "    proxy_redirect off;\n",
    "    proxy_set_header Host $host:$server_port$uri;\n",
    "\n",
    "    # proxy_cache my_zone;\n",
    "    # proxy_cache_valid 200 1M;\n",
    "    # proxy_ignore_headers Expires Cache-Control Set-Cookie;\n",
    "    # add_header X-Proxy-Cache $upstream_cache_status;\n",
    "  }\n",
    "\n",
    "  location /order/ {\n",
    "    proxy_pass  http://order/;\n",
    "    proxy_redirect off;\n",
    "    proxy_set_header Host $host:$request_uri;\n",
    "\n",
    "    proxy_pass_header Cookie;\n",
    "  }\n",
    "\n",
    "  location /assets/ {\n",
    "    proxy_pass  http://assets/;\n",
    "    proxy_redirect off;\n",
    "    proxy_set_header Host $host:$server_port$uri;\n",
    "  }\n",
    "}\n",
    "```"
   ]
  },
  {
   "cell_type": "markdown",
   "id": "74bd8f11",
   "metadata": {
    "slideshow": {
     "slide_type": "notes"
    }
   },
   "source": [
    "COMPONENTS\n",
    "\n",
    "Tailor\n",
    "https://github.com/zalando/tailor\n",
    "Tailor is a layout service that brings microservices to the frontend by composing a website out of \n",
    "various Fragments (such as Header, Product, and Footer). Tailor achieves impressive Time to First Byte, as \n",
    "it asynchronously fetches multiple fragments, assembles their response streams, and outputs the final response. \n",
    "Tailor is partially inspired by Facebook’s BigPipe.\n",
    "\n",
    "\n",
    "Skipper\n",
    "https://github.com/zalando/skipper\n",
    "Skipper is an extendable HTTP router for service composition. It's built on top a reverse proxy with the \n",
    "ability to select routes based on predicates, and to modify requests and responses with filters. It can be \n",
    "useful for all teams who are trying to deploy a microservices architecture and want (or need) to decouple \n",
    "routing from service logic.\n",
    "\n",
    "\n",
    "Shaker\n",
    "Shaker is a library and living showcase for UI components. It is used inside Zalando to provide a \n",
    "consistent user experience while developing Fragments in distributed and autonomous teams.\n",
    "\n",
    "\n",
    "Quilt\n",
    "Quilt is the template storage used by Tailor. It integrates with Zalando's team structure and \n",
    "provides a REST API that allows multiple development teams to manage their templates.\n",
    "\n",
    "\n",
    "Innkeeper\n",
    "https://github.com/zalando/innkeeper\n",
    "Innkeeper is a RESTful API that stores routes, so that they can be fetched by Skipper. \n",
    "Innkeeper can export the routes in the eskip format. As routes are divided by paths, \n",
    "it allows multiple teams to manage their individual paths. It is developed in Scala.\n",
    "\n",
    "\n",
    "Tessellate\n",
    "https://github.com/zalando-incubator/tessellate\n",
    "Tessellate is a server-side React renderer that creates static HTML and a complementary component \n",
    "tree from abstract JSON definitions. It comprises several micro services built on top of the Mosaic architecture."
   ]
  },
  {
   "cell_type": "markdown",
   "id": "f6566ed5",
   "metadata": {
    "slideshow": {
     "slide_type": "slide"
    }
   },
   "source": [
    "### Learn More about Mosaic\n",
    "+ https://www.mosaic9.org/\n"
   ]
  },
  {
   "cell_type": "markdown",
   "id": "531f56e4",
   "metadata": {
    "slideshow": {
     "slide_type": "slide"
    }
   },
   "source": [
    "# Benefits of ROCA\n",
    "+ Clean Architecture\n",
    "+ Browers optimization can be exploited\n",
    "+ HTTP GET can be cached\n",
    "+ Low Bandwith\n",
    "+ High speed\n",
    "+ High resilence\n",
    "\n",
    "\n",
    "ROCA vs SPA\n",
    "+ SPA allows redudant logic on frontend\n",
    "+ SPA is better suited for complex UIs\n",
    "+ \n",
    "\n",
    "ROCA is good frontend integration technique for microservices based architecture\n"
   ]
  },
  {
   "cell_type": "markdown",
   "id": "0f7e8de8",
   "metadata": {
    "slideshow": {
     "slide_type": "slide"
    }
   },
   "source": [
    "\n",
    "\n",
    "# Challenges \n",
    "+ UI Infrastructure \n",
    "+ Uniform look and feel\n",
    "+ Interfaces in Frontend Integration\n",
    "+ UI changes impact mutliple module\n",
    "+ "
   ]
  },
  {
   "cell_type": "markdown",
   "id": "42176a33",
   "metadata": {
    "slideshow": {
     "slide_type": "slide"
    }
   },
   "source": [
    "\n",
    "\n",
    "## Again Why Do We Need A Good Architecture?\n",
    "![Jackie Chan GIF](https://media.giphy.com/media/4lhTfviX1S4tyj0VmJ/giphy.gif)\n"
   ]
  },
  {
   "cell_type": "markdown",
   "id": "0e607555",
   "metadata": {
    "slideshow": {
     "slide_type": "subslide"
    }
   },
   "source": [
    "## Predict the Future\n",
    "\n",
    "![cost to market](./architecture-quality.png)\n",
    "\n",
    "\n",
    "- Source https://martinfowler.com/architecture/\n"
   ]
  },
  {
   "cell_type": "markdown",
   "id": "201f208f",
   "metadata": {
    "slideshow": {
     "slide_type": "slide"
    }
   },
   "source": [
    "# Thank You For Joining\n",
    "![Thank you](https://media.giphy.com/media/3oz8xIsloV7zOmt81G/giphy.gif)"
   ]
  }
 ],
 "metadata": {
  "celltoolbar": "Slideshow",
  "kernelspec": {
   "display_name": "Python 3",
   "language": "python",
   "name": "python3"
  },
  "language_info": {
   "codemirror_mode": {
    "name": "ipython",
    "version": 3
   },
   "file_extension": ".py",
   "mimetype": "text/x-python",
   "name": "python",
   "nbconvert_exporter": "python",
   "pygments_lexer": "ipython3",
   "version": "3.8.5"
  }
 },
 "nbformat": 4,
 "nbformat_minor": 5
}
