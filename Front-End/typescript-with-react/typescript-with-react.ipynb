{
 "cells": [
  {
   "cell_type": "markdown",
   "id": "2d9c9cc6",
   "metadata": {
    "slideshow": {
     "slide_type": "slide"
    }
   },
   "source": [
    "# React With Typescript\n",
    "\n"
   ]
  },
  {
   "cell_type": "markdown",
   "id": "3bd0caa5",
   "metadata": {
    "slideshow": {
     "slide_type": "slide"
    }
   },
   "source": [
    "# ABOUT ME\n",
    "\n",
    "## GAURAV SEHRAWAT\n",
    "\n",
    "## GLOBAL SOLUTIONS ARCHITECT/TECH LEAD @VERIFONE\n",
    "\n",
    "### 🌎: WEBSITE: HTTPS://IGAURAVSEHRAWAT.COM/\n",
    "### 🧑‍💻GITHUB: HTTPS://GITHUB.COM/IGAURAVSEHRAWAT\n",
    "### 🕊TWITTER: HTTPS://TWITTER.COM/ROOT3D\n",
    "### 🤝 LINKEDIN: HTTPS://LINKEDIN.COM/IN/IGAURAVSEHRAWAT"
   ]
  },
  {
   "cell_type": "markdown",
   "id": "b306ceb6",
   "metadata": {
    "slideshow": {
     "slide_type": "slide"
    }
   },
   "source": [
    "# Why Typescript?\n",
    "+ Javascript That Scales\n",
    "+ Powerful and flexible type system (Angular, Vue)\n",
    "+ Easier Maintenance\n",
    "+ Mature & Still Rapidly Developing"
   ]
  },
  {
   "cell_type": "markdown",
   "id": "3e314357",
   "metadata": {
    "slideshow": {
     "slide_type": "slide"
    }
   },
   "source": [
    "# Benefits Of React With Typescript\n"
   ]
  },
  {
   "cell_type": "markdown",
   "id": "b18e3657",
   "metadata": {
    "slideshow": {
     "slide_type": "fragment"
    }
   },
   "source": [
    "* Credits: Course on Educative.io"
   ]
  },
  {
   "cell_type": "markdown",
   "id": "2aadaa63",
   "metadata": {
    "slideshow": {
     "slide_type": "slide"
    }
   },
   "source": [
    "# Demo of Using Typescript with React"
   ]
  },
  {
   "cell_type": "markdown",
   "id": "f1a19354",
   "metadata": {
    "slideshow": {
     "slide_type": "slide"
    }
   },
   "source": [
    "# Benefits\n",
    "+ Intellisense\n",
    "+ Easy Refactoring\n",
    "+ Typechecking\n",
    "+"
   ]
  },
  {
   "cell_type": "markdown",
   "id": "e1a220a3",
   "metadata": {
    "slideshow": {
     "slide_type": "slide"
    }
   },
   "source": [
    "# Basic Types"
   ]
  },
  {
   "cell_type": "markdown",
   "id": "87fd326f",
   "metadata": {
    "slideshow": {
     "slide_type": "slide"
    }
   },
   "source": [
    "+ Number\n",
    "+ Null\n",
    "+ Undefined\n",
    "+ String\n",
    "+ Boolean\n",
    "+ Symbol\n"
   ]
  },
  {
   "cell_type": "markdown",
   "id": "270077c9",
   "metadata": {
    "slideshow": {
     "slide_type": "slide"
    }
   },
   "source": [
    "# Javascript is loosely typed\n",
    "\n",
    "## What does that means?\n"
   ]
  },
  {
   "cell_type": "markdown",
   "id": "c6791a19",
   "metadata": {
    "slideshow": {
     "slide_type": "subslide"
    }
   },
   "source": [
    "```\n",
    "\n",
    "let amount = 100;\n",
    "console.log('type', typeof amount);\n",
    "// numberr\n",
    "\n",
    "amount = 'Eight';\n",
    "console.log('type', typeof amount);\n",
    "// string\n",
    "\n",
    "// no error\n",
    "\n",
    "```"
   ]
  },
  {
   "cell_type": "markdown",
   "id": "5bdf7a37",
   "metadata": {
    "slideshow": {
     "slide_type": "subslide"
    }
   },
   "source": [
    "![right there, stop](https://media.giphy.com/media/kd9BlRovbPOykLBMqX/giphy.gif)"
   ]
  },
  {
   "cell_type": "markdown",
   "id": "e4062ef6",
   "metadata": {
    "slideshow": {
     "slide_type": "subslide"
    }
   },
   "source": [
    "# Takeaway\n",
    "\n",
    "## No typechecking\n",
    "## No way to declare types\n",
    "## Can change the type in between\n",
    "\n",
    "\n",
    "\n",
    "\n",
    "![this is fine](https://media.giphy.com/media/NTur7XlVDUdqM/giphy.gif)"
   ]
  },
  {
   "cell_type": "markdown",
   "id": "0d3cd47d",
   "metadata": {
    "slideshow": {
     "slide_type": "slide"
    }
   },
   "source": [
    "# Type Annotations\n",
    "\n",
    "```\n",
    "let a: number;\n",
    "let b: string;\n",
    "```\n",
    "\n",
    "# Type Interference\n",
    "\n",
    "```\n",
    "let a = 10;\n",
    "const b = 10;\n",
    "const c = \"small string\"\n",
    "const created = new Date(2019, 11, 6);\n",
    "let createdAt = new Date(2019, 11, 7);\n",
    "```\n",
    "\n",
    "### For const\n",
    "+  number literal type.\n",
    "+  string literal type"
   ]
  },
  {
   "cell_type": "markdown",
   "id": "e5530ffb",
   "metadata": {
    "slideshow": {
     "slide_type": "subslide"
    }
   },
   "source": [
    "# Note:\n",
    "## Type checking is not done runtime but on compile time only"
   ]
  },
  {
   "cell_type": "markdown",
   "id": "2f7d0397",
   "metadata": {
    "slideshow": {
     "slide_type": "slide"
    }
   },
   "source": [
    "# Never Type\n",
    "\n",
    "```\n",
    "const keepLogging = (message: string): never => {\n",
    "    while (true) {\n",
    "        console.log(message);\n",
    "    }\n",
    "}\n",
    "```\n"
   ]
  },
  {
   "cell_type": "markdown",
   "id": "3b909747",
   "metadata": {
    "slideshow": {
     "slide_type": "slide"
    }
   },
   "source": [
    "# Unknown Type\n",
    "\n",
    "```\n",
    "declare const maybe: unknown;\n",
    "// 'maybe' could be a string, object, boolean, undefined, or other types\n",
    "const aNumber: number = maybe;\n",
    "// Type 'unknown' is not assignable to type 'number'.\n",
    " \n",
    "if (maybe === true) {\n",
    "  // TypeScript knows that maybe is a boolean now\n",
    "  const aBoolean: boolean = maybe;\n",
    "  // So, it cannot be a string\n",
    "  const aString: string = maybe;\n",
    "// Type 'boolean' is not assignable to type 'string'.\n",
    "}\n",
    " \n",
    "if (typeof maybe === \"string\") {\n",
    "  // TypeScript knows that maybe is a string\n",
    "  const aString: string = maybe;\n",
    "  // So, it cannot be a boolean\n",
    "  const aBoolean: boolean = maybe;\n",
    "// Type 'string' is not assignable to type 'boolean'.\n",
    "}\n",
    "```"
   ]
  },
  {
   "cell_type": "markdown",
   "id": "d5dd8562",
   "metadata": {
    "slideshow": {
     "slide_type": "slide"
    }
   },
   "source": [
    "# Predicate type\n",
    "\n",
    "```\n",
    "    async function getData(path: string): Promise<unknown> {\n",
    "      const response = await fetch(path)\n",
    "      return await response.json();\n",
    "    }\n",
    "\n",
    "    type Person = {\n",
    "      id: string;\n",
    "      name: string;\n",
    "    }\n",
    "\n",
    "    function isPerson(person: any): person is Person {\n",
    "      return \"id\" in person && \"name\" in person;\n",
    "    }\n",
    "\n",
    "    async function getPerson(id: string): Promise<Person | null> {\n",
    "      const person = await getData(\"/people/1\");\n",
    "      if (isPerson(person)) {\n",
    "        return person;\n",
    "      }\n",
    "      return null;\n",
    "    }\n",
    "```\n",
    "\n",
    "+ More info: https://dev.to/daveturissini/aha-understanding-typescript-s-type-predicates-40ha"
   ]
  },
  {
   "cell_type": "markdown",
   "id": "25932ab2",
   "metadata": {
    "slideshow": {
     "slide_type": "notes"
    }
   },
   "source": [
    "Note:\n",
    "\n",
    "\n",
    "Type predicates are a special return type that signals to the Typescript compiler what type a particular value is. \n",
    "Type predicates are always attached to a function that takes a single argument and returns a boolean."
   ]
  },
  {
   "cell_type": "markdown",
   "id": "92c24c62",
   "metadata": {
    "slideshow": {
     "slide_type": "slide"
    }
   },
   "source": [
    "# Typed Array\n",
    "```\n",
    "const arr: number[] = [1, 2, 3];\n",
    "const arr2: string[] = [\"one\", \"two\", \"three\"];\n",
    "\n",
    "\n",
    "```\n",
    "\n",
    "# Typed Tuple\n",
    "```\n",
    "const tuple: [number, string] = [\"string\", 1]\n",
    "```\n",
    "\n",
    "# Interface\n",
    "```\n",
    "interface ImmutableResult {\n",
    "  readonly name: string;\n",
    "  readonly scores: readonly number[];\n",
    "}\n",
    "let tomScores: ImmutableResult = {\n",
    "  name: \"Tom\",\n",
    "  scores: [50, 95, 80]\n",
    "}\n",
    "tomScores.scores.push(70);\n",
    "```"
   ]
  },
  {
   "cell_type": "markdown",
   "id": "525493e7",
   "metadata": {
    "slideshow": {
     "slide_type": "slide"
    }
   },
   "source": [
    "# Creating Types"
   ]
  },
  {
   "cell_type": "markdown",
   "id": "3bc7045e",
   "metadata": {
    "slideshow": {
     "slide_type": "slide"
    }
   },
   "source": [
    "# Union types\n",
    "```\n",
    "type Actions = { type: \"loading\" } | { type: \"loaded\", data: {name: string} }\n",
    "```"
   ]
  },
  {
   "cell_type": "markdown",
   "id": "5f26b1b7",
   "metadata": {
    "slideshow": {
     "slide_type": "slide"
    }
   },
   "source": [
    "# Working With Generic Types\n"
   ]
  },
  {
   "cell_type": "markdown",
   "id": "72eeb710",
   "metadata": {
    "slideshow": {
     "slide_type": "slide"
    }
   },
   "source": [
    "# Creating Strongly Typed Function Component Props"
   ]
  },
  {
   "cell_type": "markdown",
   "id": "9d2ac8f3",
   "metadata": {
    "slideshow": {
     "slide_type": "slide"
    }
   },
   "source": [
    "### Hello World\n",
    "\n",
    "#### We have a problem\n",
    "\n",
    "\n",
    "\n"
   ]
  },
  {
   "attachments": {
    "problem-description-2.png": {
     "image/png": "[encoded data removed]"
    }
   },
   "cell_type": "markdown",
   "id": "a9ef83e7",
   "metadata": {
    "slideshow": {
     "slide_type": "fragment"
    }
   },
   "source": [
    "![problem-description-2.png](attachment:problem-description-2.png)"
   ]
  },
  {
   "cell_type": "markdown",
   "id": "c61ac9d9",
   "metadata": {
    "slideshow": {
     "slide_type": "slide"
    }
   },
   "source": [
    "### How do we fix it?\n",
    "\n",
    "```\n",
    "const Hello = (props: { who: string }) => (\n",
    "  <p>Hello, {props.who}</p>\n",
    ");\n",
    "```\n",
    "\n",
    "### Further\n",
    "\n",
    "```\n",
    "type Props = { who: string }\n",
    "const Hello = ({ who }: Props) => <p>Hello, {who}</p>\n",
    "```\n"
   ]
  },
  {
   "cell_type": "markdown",
   "id": "d0da8865",
   "metadata": {
    "slideshow": {
     "slide_type": "slide"
    }
   },
   "source": [
    "### Functional Component way\n",
    "```\n",
    "const Hello: React.FC<Props> = ({ who }) => (\n",
    "  <p>Hello, {who}</p>\n",
    ");\n",
    "```"
   ]
  },
  {
   "cell_type": "markdown",
   "id": "72fc43f8",
   "metadata": {
    "slideshow": {
     "slide_type": "slide"
    }
   },
   "source": [
    "# Optional And Default Props\n",
    "```\n",
    "type Props = { who: string; message?: string };\n",
    "const Hello = ({ who, message }: Props) => (\n",
    "  <React.Fragment>\n",
    "    <p>Hello, {who}</p>\n",
    "    {message && <p>{message}</p>}\n",
    "  </React.Fragment>\n",
    ");\n",
    "Hello.defaultProps = {\n",
    "  message: \"How are you?\"\n",
    "};\n",
    "\n",
    "\n",
    "```"
   ]
  },
  {
   "cell_type": "markdown",
   "id": "e11c2e09",
   "metadata": {
    "slideshow": {
     "slide_type": "slide"
    }
   },
   "source": [
    "# Type With Object Prop\n",
    "```\n",
    "type Address = {\n",
    "  line1: string; \n",
    "  line2: string; \n",
    "  state: string; \n",
    "  zipcode: string;\n",
    "}\n",
    "type Who = {\n",
    "  name: string;\n",
    "  friend: boolean;\n",
    "  address?: Address;\n",
    "}\n",
    "type Props = {\n",
    "  who: Who;\n",
    "  message?: string;\n",
    "}\n",
    "\n",
    "```"
   ]
  },
  {
   "cell_type": "markdown",
   "id": "dd1d967b",
   "metadata": {
    "slideshow": {
     "slide_type": "slide"
    }
   },
   "source": [
    "# Strongly Typing Render Prop\n",
    "\n",
    "\n",
    "```\n",
    "const Hello = ({\n",
    "  who,\n",
    "  renderMessage,\n",
    "  message = \"How are you?\"\n",
    "}: Props) => (\n",
    "  <React.Fragment>\n",
    "    <p>\n",
    "      Hello, {who.name}\n",
    "      {who.friend && \" my friend\"}\n",
    "    </p>\n",
    "    {message && (renderMessage ? renderMessage(message) : <p>{message}</p>)}\n",
    "  </React.Fragment>\n",
    ");\n",
    "```\n",
    "\n"
   ]
  },
  {
   "cell_type": "markdown",
   "id": "72dab5cd",
   "metadata": {
    "slideshow": {
     "slide_type": "slide"
    }
   },
   "source": [
    "# What's the type definition of it?\n",
    "```\n",
    "type Props = {\n",
    "  who: Who;\n",
    "  message?: string;\n",
    "  renderMessage?: (message: string) => React.ReactNode;\n",
    "}\n",
    "```"
   ]
  },
  {
   "cell_type": "markdown",
   "id": "59f0b0a6",
   "metadata": {
    "slideshow": {
     "slide_type": "slide"
    }
   },
   "source": [
    "# Creating Strongly Typed Function Component State"
   ]
  },
  {
   "cell_type": "markdown",
   "id": "bc23d670",
   "metadata": {
    "slideshow": {
     "slide_type": "slide"
    }
   },
   "source": [
    "## Let's take an example\n",
    "\n",
    "```\n",
    "import * as React from \"react\";\n",
    "import { render } from \"react-dom\";\n",
    "\n",
    "const Counter = () => {\n",
    "  const [count, setCount] = React.useState(0);\n",
    "  return <button onClick={() => setCount(c => c + 1)}>{count}</button>;\n",
    "};\n",
    "\n",
    "const rootElement = document.getElementById(\"root\");\n",
    "render(<Counter />, rootElement);\n",
    "\n",
    "```\n",
    "\n",
    "## How would you make it typed?"
   ]
  },
  {
   "cell_type": "markdown",
   "id": "b6f2eb12",
   "metadata": {
    "slideshow": {
     "slide_type": "slide"
    }
   },
   "source": [
    "# Like Below\n",
    "```\n",
    "const [count, setCount] = React.useState<number>(0);\n",
    "```\n",
    "\n",
    "Or if null is initial state\n",
    "```\n",
    "const [count, setCount] = React.useState<number | null>(null);\n",
    "```"
   ]
  },
  {
   "cell_type": "markdown",
   "id": "a50325e5",
   "metadata": {
    "slideshow": {
     "slide_type": "slide"
    }
   },
   "source": [
    "# How to strongly type a reducer\n",
    "\n",
    "## Let's take an example\n",
    "```\n",
    "import * as React from \"react\";\n",
    "import { render } from \"react-dom\";\n",
    "\n",
    "type State = {\n",
    "  count: number;\n",
    "};\n",
    "\n",
    "type Props = {\n",
    "  incrementStep?: number;\n",
    "  decrementStep?: number;\n",
    "  initialCount?: number;\n",
    "};\n",
    "const Counter = ({\n",
    "  incrementStep = 0,\n",
    "  decrementStep = 0,\n",
    "  initialCount = 0\n",
    "}: Props) => {\n",
    "  return (\n",
    "    <div>\n",
    "      <button>Add {incrementStep}</button>\n",
    "      <button>Subtract {decrementStep}</button>\n",
    "    </div>\n",
    "  );\n",
    "};\n",
    "\n",
    "const rootElement = document.getElementById(\"root\");\n",
    "render(<Counter incrementStep={1} decrementStep={2} />, rootElement);\n",
    "```"
   ]
  },
  {
   "cell_type": "markdown",
   "id": "3b6070df",
   "metadata": {
    "slideshow": {
     "slide_type": "slide"
    }
   },
   "source": [
    "# Add type of reducer\n",
    "\n",
    "### Actions\n",
    "```\n",
    "type Increment = {\n",
    "  readonly type: 'increment';\n",
    "  readonly incrementStep: number;\n",
    "};\n",
    "type Decrement = {\n",
    "  readonly type: 'decrement';\n",
    "  readonly decrementStep: number;\n",
    "};\n",
    "\n",
    "type Actions = Increment | Decrement;\n",
    "\n",
    "```\n",
    "\n",
    "```\n",
    "const Counter = ( ... ) => {\n",
    "  const [state, dispatch] = React.useReducer<React.Reducer<State, Actions>>(\n",
    "    reducer, \n",
    "    { count: initialCount }\n",
    "  );\n",
    "\n",
    "  return ( ... );\n",
    "};\n",
    "```"
   ]
  },
  {
   "cell_type": "markdown",
   "id": "edc3ebbc",
   "metadata": {
    "slideshow": {
     "slide_type": "slide"
    }
   },
   "source": [
    "```\n",
    "const Counter = ( ... ) => {\n",
    "  ...\n",
    "  return (\n",
    "    <div>\n",
    "      <div>{state.count}</div>\n",
    "      <button onClick={() => dispatch({ type: \"increment\", incrementStep })}>\n",
    "        Add {incrementStep}\n",
    "      </button>\n",
    "      <button onClick={() => dispatch({ type: \"decrement\", decrementStep })}>\n",
    "        Subtract {decrementStep}\n",
    "      </button>\n",
    "    </div>\n",
    "  );\n",
    "};\n",
    "```"
   ]
  },
  {
   "cell_type": "markdown",
   "id": "73492dd5",
   "metadata": {
    "slideshow": {
     "slide_type": "slide"
    }
   },
   "source": [
    "## Extra Safety\n",
    "\n",
    "```\n",
    "function reducer (state: State, action: Actions): State {\n",
    "  switch (action.type) {\n",
    "    case 'loading':\n",
    "      return { ...state, loading: true };\n",
    "    case 'loaded':\n",
    "      return { ...state, loading: false, data: action.data };\n",
    "  }\n",
    "};\n",
    "```\n",
    "### How to make sure we handle all the actions?\n"
   ]
  },
  {
   "cell_type": "markdown",
   "id": "6e2f7afb",
   "metadata": {
    "slideshow": {
     "slide_type": "subslide"
    }
   },
   "source": [
    "## Add default branch of never\n",
    "```\n",
    "\n",
    "function reducer (state: State, action: Actions): State {\n",
    "  switch (action.type) {\n",
    "    case 'loading':\n",
    "      return { ...state, loading: true };\n",
    "    case 'loaded':\n",
    "      return { ...state, loading: false, data: action.data };\n",
    "    default:\n",
    "      neverReached(action);\n",
    "  }\n",
    "};\n",
    "\n",
    "function neverReached (never: never) {};\n",
    "```"
   ]
  },
  {
   "cell_type": "markdown",
   "id": "958e52d4",
   "metadata": {
    "slideshow": {
     "slide_type": "slide"
    }
   },
   "source": [
    "# Let's take a break with Memes"
   ]
  },
  {
   "cell_type": "markdown",
   "id": "e570d577",
   "metadata": {
    "slideshow": {
     "slide_type": "subslide"
    }
   },
   "source": [
    "![javascript](https://pbs.twimg.com/media/DU_TdVlVoAE6zM_.jpg:large)"
   ]
  },
  {
   "cell_type": "markdown",
   "id": "6ee04b14",
   "metadata": {
    "slideshow": {
     "slide_type": "subslide"
    }
   },
   "source": [
    "![javascript dev](https://devhumor.com/content/uploads/images/October2018/developer_stress.png)"
   ]
  },
  {
   "cell_type": "markdown",
   "id": "119dd7c2",
   "metadata": {
    "slideshow": {
     "slide_type": "subslide"
    }
   },
   "source": [
    "![fix me bug](https://devhumor.com/content/uploads/images/September2018/depressed-developer-32.jpg)"
   ]
  },
  {
   "cell_type": "markdown",
   "id": "d7155634",
   "metadata": {
    "slideshow": {
     "slide_type": "slide"
    }
   },
   "source": [
    "# Strongly Typed Class Components\n",
    "\n",
    "## Remember the hello world example?\n",
    "\n",
    "## Let's expand that\n",
    "\n",
    "###  What if I have object props and function props? How do I expand it?"
   ]
  },
  {
   "cell_type": "markdown",
   "id": "0863ebb5",
   "metadata": {
    "slideshow": {
     "slide_type": "slide"
    }
   },
   "source": [
    "```\n",
    "class Hello extends React.Component<Props> {\n",
    "  static defaultProps = {\n",
    "    message: \"How are you?\"\n",
    "  };\n",
    "  render() {\n",
    "    const { who, message, renderMessage } = this.props;\n",
    "    return (\n",
    "      <React.Fragment>\n",
    "        <p>{`Hello, ${who.name} ${who.friend && \" my friend\"}`}</p>\n",
    "        {message && (renderMessage ? renderMessage(message) : <p>{message}</p>)}\n",
    "      </React.Fragment>\n",
    "    );\n",
    "  }\n",
    "}\n",
    "```"
   ]
  },
  {
   "cell_type": "markdown",
   "id": "f7f61575",
   "metadata": {
    "slideshow": {
     "slide_type": "subslide"
    }
   },
   "source": [
    "```\n",
    "type Who = {\n",
    "  name: string;\n",
    "  friend: boolean;\n",
    "}\n",
    "type Props {\n",
    "  who: Who;\n",
    "  message?: string;\n",
    "  renderMessage?: (message: string) => React.ReactNode;\n",
    "}\n",
    "```"
   ]
  },
  {
   "cell_type": "markdown",
   "id": "e4e0cea3",
   "metadata": {
    "slideshow": {
     "slide_type": "slide"
    }
   },
   "source": [
    "# Strongly Type Class State\n",
    "\n",
    "## Remember the counter example before?\n",
    "\n",
    "## Let's make it strongly typed"
   ]
  },
  {
   "cell_type": "markdown",
   "id": "81052e37",
   "metadata": {
    "slideshow": {
     "slide_type": "slide"
    }
   },
   "source": [
    "```\n",
    "type Props = {\n",
    "  initialCount?: number;\n",
    "}\n",
    "type State = {\n",
    "  count: number;\n",
    "};\n",
    "class Counter extends React.Component<Props, State> { ... }\n",
    "```"
   ]
  },
  {
   "cell_type": "markdown",
   "id": "a4265e43",
   "metadata": {
    "slideshow": {
     "slide_type": "slide"
    }
   },
   "source": [
    "# Access Modifiers\n",
    "```\n",
    "class Counter extends React.Component<Props, State> {\n",
    "  public state = { ... }\n",
    "  ...\n",
    "  private render() {\n",
    "    ...\n",
    "  }\n",
    "}\n",
    "```"
   ]
  },
  {
   "cell_type": "markdown",
   "id": "a37402e3",
   "metadata": {
    "slideshow": {
     "slide_type": "slide"
    }
   },
   "source": [
    "# Strongly Typed Event Handlers\n",
    "\n",
    "## Let's take an example\n",
    "\n",
    "```\n",
    "function Searchbox() {\n",
    "  const [criteria, setCriteria] = React.useState(\"\");\n",
    "\n",
    "  const handleChange = e => setCriteria(e.currentTarget.value);\n",
    "\n",
    "  return (\n",
    "    <input\n",
    "      type=\"text\"\n",
    "      value={criteria}\n",
    "      onChange={handleChange}\n",
    "    />\n",
    "  );\n",
    "}\n",
    "```\n",
    "\n",
    "\n",
    "### How would you define the type of `handleChange`?"
   ]
  },
  {
   "cell_type": "markdown",
   "id": "71180d14",
   "metadata": {
    "slideshow": {
     "slide_type": "subslide"
    }
   },
   "source": [
    "```\n",
    "const handleChange = (e: React.ChangeEvent<HTMLInputElement>) =>\n",
    "  setCriteria(e.currentTarget.value);\n",
    "```\n",
    "\n",
    "### Use React.ChangeEvent"
   ]
  },
  {
   "cell_type": "markdown",
   "id": "5968e731",
   "metadata": {
    "slideshow": {
     "slide_type": "slide"
    }
   },
   "source": [
    "### Strongly Typed Event Prop\n",
    "\n",
    "```\n",
    "type Props = {\n",
    "  onSearch?: (criteria: string) => void;\n",
    "};\n",
    "const Searchbox = ({ onSearch }: Props) => {\n",
    "  const [criteria, setCriteria] = React.useState(\"\");\n",
    "\n",
    "  const handleChange = (e: React.ChangeEvent<HTMLInputElement>) => {\n",
    "    setCriteria(e.currentTarget.value);\n",
    "    if (onSearch) {\n",
    "      onSearch(e.currentTarget.value);\n",
    "    }\n",
    "  };\n",
    "\n",
    "  return <input type=\"text\" value={criteria} onChange={handleChange} />;\n",
    "};\n",
    "```"
   ]
  },
  {
   "cell_type": "markdown",
   "id": "3f3fb3cd",
   "metadata": {
    "slideshow": {
     "slide_type": "slide"
    }
   },
   "source": [
    "\n",
    "# Strongly Typed Context"
   ]
  },
  {
   "cell_type": "markdown",
   "id": "d859fad6",
   "metadata": {
    "slideshow": {
     "slide_type": "slide"
    }
   },
   "source": [
    "```\n",
    "const defaultTheme = \"white\";\n",
    "type ThemeContextType = {\n",
    "  theme: string;\n",
    "  setTheme: (value: string) => void;\n",
    "};\n",
    "const ThemeContext = React.createContext<ThemeContextType | undefined>(\n",
    "  undefined\n",
    ");\n",
    "\n",
    "type Props = {\n",
    "  children: React.ReactNode;\n",
    "};\n",
    "\n",
    "// below is the theme\n",
    "export const ThemeProvider = ({ children }: Props) => {\n",
    "  const [theme, setTheme] = React.useState(defaultTheme);\n",
    "\n",
    "  React.useEffect(() => {\n",
    "    const currentTheme = \"lightblue\";\n",
    "    setTheme(currentTheme);\n",
    "  }, []);\n",
    "\n",
    "  return (\n",
    "    <ThemeContext.Provider value={{ theme, setTheme }}>\n",
    "      {children}\n",
    "    </ThemeContext.Provider>\n",
    "  );\n",
    "};\n",
    "```\n"
   ]
  },
  {
   "cell_type": "markdown",
   "id": "21e8d31f",
   "metadata": {
    "slideshow": {
     "slide_type": "slide"
    }
   },
   "source": [
    "```\n",
    "export const useTheme = () => React.useContext(ThemeContext);\n",
    "\n",
    "const Header = () => {\n",
    "  const { theme, setTheme } = useTheme()!;\n",
    "  return (\n",
    "    <div style={{ backgroundColor: theme }}>\n",
    "      <select value={theme} onChange={e => setTheme(e.currentTarget.value)}>\n",
    "        <option value=\"white\">White</option>\n",
    "        <option value=\"lightblue\">Blue</option>\n",
    "        <option value=\"lightgreen\">Green</option>\n",
    "      </select>\n",
    "      <span>Hello!</span>\n",
    "    </div>\n",
    "  );\n",
    "};\n",
    "```"
   ]
  },
  {
   "cell_type": "markdown",
   "id": "3f8cd7c3",
   "metadata": {
    "slideshow": {
     "slide_type": "slide"
    }
   },
   "source": [
    "# Goal Of The Talk Is To Get You Started\n"
   ]
  },
  {
   "cell_type": "markdown",
   "id": "93d4a131",
   "metadata": {
    "slideshow": {
     "slide_type": "slide"
    }
   },
   "source": [
    "# How to Get Started With Create React App\n",
    "\n",
    "```\n",
    "npx create-react-app my-app --template typescript\n",
    "```\n",
    "\n",
    "#### As Simple As That"
   ]
  },
  {
   "cell_type": "markdown",
   "id": "10a89f9b",
   "metadata": {
    "slideshow": {
     "slide_type": "subslide"
    }
   },
   "source": [
    "## Show the structure of the Project"
   ]
  },
  {
   "cell_type": "markdown",
   "id": "87acdf24",
   "metadata": {
    "slideshow": {
     "slide_type": "slide"
    }
   },
   "source": [
    "# Creating React With TypeScript manually"
   ]
  },
  {
   "cell_type": "markdown",
   "id": "266a9a9b",
   "metadata": {
    "slideshow": {
     "slide_type": "subslide"
    }
   },
   "source": [
    "### Long way\n",
    "+ Add React and typescript separately\n",
    "+ Configure Babel\n",
    "+ Configure Linting\n",
    "+ Configure webpack\n",
    "+ Configure npm script"
   ]
  },
  {
   "cell_type": "markdown",
   "id": "39e5789e",
   "metadata": {
    "slideshow": {
     "slide_type": "subslide"
    }
   },
   "source": [
    "![easy peasy](https://media.giphy.com/media/NaboQwhxK3gMU/giphy.gif)"
   ]
  },
  {
   "cell_type": "markdown",
   "id": "1f0bd0a1",
   "metadata": {
    "slideshow": {
     "slide_type": "slide"
    }
   },
   "source": [
    "# Thank You\n",
    "\n",
    "\n",
    "![Thank you](https://media.giphy.com/media/3oz8xIsloV7zOmt81G/giphy.gif)"
   ]
  },
  {
   "cell_type": "code",
   "execution_count": null,
   "id": "375f754f",
   "metadata": {},
   "outputs": [],
   "source": []
  }
 ],
 "metadata": {
  "celltoolbar": "Slideshow",
  "kernelspec": {
   "display_name": "Python 3",
   "language": "python",
   "name": "python3"
  },
  "language_info": {
   "codemirror_mode": {
    "name": "ipython",
    "version": 3
   },
   "file_extension": ".py",
   "mimetype": "text/x-python",
   "name": "python",
   "nbconvert_exporter": "python",
   "pygments_lexer": "ipython3",
   "version": "3.8.5"
  }
 },
 "nbformat": 4,
 "nbformat_minor": 5
}
