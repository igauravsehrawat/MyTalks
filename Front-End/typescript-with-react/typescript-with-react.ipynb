{
 "cells": [
  {
   "cell_type": "markdown",
   "id": "d116692e",
   "metadata": {
    "slideshow": {
     "slide_type": "slide"
    }
   },
   "source": [
    "# Typescript With React\n",
    "\n"
   ]
  },
  {
   "cell_type": "markdown",
   "id": "c1f95cd8",
   "metadata": {
    "slideshow": {
     "slide_type": "slide"
    }
   },
   "source": [
    "# ABOUT ME\n",
    "\n",
    "## GAURAV SEHRAWAT\n",
    "\n",
    "## GLOBAL SOLUTIONS ARCHITECT/TECH LEAD @VERIFONE\n",
    "\n",
    "### 🌎: WEBSITE: HTTPS://IGAURAVSEHRAWAT.COM/\n",
    "### 🧑‍💻GITHUB: HTTPS://GITHUB.COM/IGAURAVSEHRAWAT\n",
    "### 🕊TWITTER: HTTPS://TWITTER.COM/ROOT3D\n",
    "### 🤝 LINKEDIN: HTTPS://LINKEDIN.COM/IN/IGAURAVSEHRAWAT"
   ]
  },
  {
   "cell_type": "markdown",
   "id": "34e074ca",
   "metadata": {
    "slideshow": {
     "slide_type": "slide"
    }
   },
   "source": [
    "# Why Typescript?\n",
    "+ Javascript That Scales\n",
    "+ Powerful and flexible type system (Angular, Vue)\n",
    "+ Easier Maintenance\n",
    "+ Mature & Still Rapidly Developing"
   ]
  },
  {
   "cell_type": "markdown",
   "id": "3e2508a8",
   "metadata": {
    "slideshow": {
     "slide_type": "slide"
    }
   },
   "source": [
    "# Benefits Of Typescript With React\n"
   ]
  },
  {
   "cell_type": "markdown",
   "id": "6280f5d5",
   "metadata": {
    "slideshow": {
     "slide_type": "fragment"
    }
   },
   "source": [
    "* Credits: Course on Educative.io"
   ]
  },
  {
   "cell_type": "markdown",
   "id": "91380033",
   "metadata": {
    "slideshow": {
     "slide_type": "slide"
    }
   },
   "source": [
    "# Demo of Using Typescript with React"
   ]
  },
  {
   "cell_type": "markdown",
   "id": "422c79e9",
   "metadata": {
    "slideshow": {
     "slide_type": "slide"
    }
   },
   "source": [
    "# Benefits\n",
    "+ Intellisense\n",
    "+ Easy Refactoring\n",
    "+ Typechecking\n",
    "+"
   ]
  },
  {
   "cell_type": "markdown",
   "id": "c51063e1",
   "metadata": {
    "slideshow": {
     "slide_type": "slide"
    }
   },
   "source": [
    "# Basic Types"
   ]
  },
  {
   "cell_type": "markdown",
   "id": "e2c6e8b0",
   "metadata": {
    "slideshow": {
     "slide_type": "slide"
    }
   },
   "source": [
    "+ Number\n",
    "+ Null\n",
    "+ Undefined\n",
    "+ String\n",
    "+ Boolean\n",
    "+ Symbol\n"
   ]
  },
  {
   "cell_type": "markdown",
   "id": "d84b6ca4",
   "metadata": {
    "slideshow": {
     "slide_type": "slide"
    }
   },
   "source": [
    "# Javascript is loosely typed\n",
    "\n",
    "## What does that means?\n"
   ]
  },
  {
   "cell_type": "markdown",
   "id": "864a2d4a",
   "metadata": {
    "slideshow": {
     "slide_type": "subslide"
    }
   },
   "source": [
    "<code>\n",
    "\n",
    "let amount = 100;\n",
    "console.log('type', typeof amount);\n",
    "// numberr\n",
    "\n",
    "amount = 'Eight';\n",
    "console.log('type', typeof amount);\n",
    "// string\n",
    "\n",
    "// no error\n",
    "\n",
    "</code>"
   ]
  },
  {
   "cell_type": "markdown",
   "id": "f0e07f34",
   "metadata": {
    "slideshow": {
     "slide_type": "subslide"
    }
   },
   "source": [
    "![right there, stop](https://media.giphy.com/media/kd9BlRovbPOykLBMqX/giphy.gif)"
   ]
  },
  {
   "cell_type": "markdown",
   "id": "8929a006",
   "metadata": {
    "slideshow": {
     "slide_type": "subslide"
    }
   },
   "source": [
    "# Takeaway\n",
    "\n",
    "## No typechecking\n",
    "## No way to declare types\n",
    "## Can change the type in between\n",
    "\n",
    "\n",
    "\n",
    "![this is fine](https://media.giphy.com/media/NTur7XlVDUdqM/giphy.gif)"
   ]
  },
  {
   "cell_type": "markdown",
   "id": "c497c736",
   "metadata": {
    "slideshow": {
     "slide_type": "slide"
    }
   },
   "source": [
    "# Type Annotations\n",
    "+ type checking is not done runtime but on compile time only\n",
    "```\n",
    "```\n",
    "\n",
    "# Type Interference\n",
    "\n",
    "```\n",
    "let a = 10;\n",
    "const b = 10;\n",
    "const c = \"small string\"\n",
    "const created = new Date(2019, 11, 6);\n",
    "let createdAt = new Date(2019, 11, 7);\n",
    "```\n",
    "\n",
    "### For const\n",
    "+  number literal type.\n",
    "+  string literal type"
   ]
  },
  {
   "cell_type": "markdown",
   "id": "d3ad8e3d",
   "metadata": {
    "slideshow": {
     "slide_type": "slide"
    }
   },
   "source": [
    "# predicate type\n",
    "\n",
    "```\n",
    "    async function getData(path: string): Promise<unknown> {\n",
    "      const response = await fetch(path)\n",
    "      return await response.json();\n",
    "    }\n",
    "\n",
    "    type Person = {\n",
    "      id: string;\n",
    "      name: string;\n",
    "    }\n",
    "\n",
    "    function isPerson(person: any): person is Person {\n",
    "      return \"id\" in person && \"name\" in person;\n",
    "    }\n",
    "\n",
    "    async function getPerson(id: string): Promise<Person | null> {\n",
    "      const person = await getData(\"/people/1\");\n",
    "      if (isPerson(person)) {\n",
    "        return person;\n",
    "      }\n",
    "      return null;\n",
    "    }\n",
    "```"
   ]
  },
  {
   "cell_type": "markdown",
   "id": "fd293ed8",
   "metadata": {
    "slideshow": {
     "slide_type": "slide"
    }
   },
   "source": [
    "# Type Assertion\n",
    "```\n",
    "function getAge(id: number): any {\n",
    "  return 42;\n",
    "}\n",
    "function calcDiscount(age: number) {\n",
    "  return age / 100;\n",
    "}\n",
    "\n",
    "const discount3 = calcDiscount(getAge(1) as number);\n",
    "// const discount3 = calcDiscount(<number>getAge(1)); don'tuse witht react\n",
    "```"
   ]
  },
  {
   "cell_type": "markdown",
   "id": "b991d131",
   "metadata": {
    "slideshow": {
     "slide_type": "slide"
    }
   },
   "source": [
    "# Typed Array\n",
    "```\n",
    "const arr: number[] = [1, 2, 3];\n",
    "const arr2: string[] = [\"one\", \"two\", \"three\"];\n",
    "\n",
    "\n",
    "```\n",
    "\n",
    "# Typed Tuple\n",
    "```\n",
    "const tuple: [number, string] = [\"string\", 1]\n",
    "```\n",
    "\n",
    "# Interface\n",
    "```\n",
    "interface ImmutableResult {\n",
    "  readonly name: string;\n",
    "  readonly scores: readonly number[];\n",
    "}\n",
    "let tomScores: ImmutableResult = {\n",
    "  name: \"Tom\",\n",
    "  scores: [50, 95, 80]\n",
    "}\n",
    "tomScores.scores.push(70);\n",
    "```"
   ]
  },
  {
   "cell_type": "markdown",
   "id": "ec647f65",
   "metadata": {
    "slideshow": {
     "slide_type": "slide"
    }
   },
   "source": [
    "# Union types\n",
    "```\n",
    "type Actions = { type: \"loading\" } | { type: \"loaded\", data: {name: string} }\n",
    "```"
   ]
  },
  {
   "cell_type": "markdown",
   "id": "36b6af7d",
   "metadata": {
    "slideshow": {
     "slide_type": "slide"
    }
   },
   "source": [
    "# Creating Types"
   ]
  },
  {
   "cell_type": "markdown",
   "id": "267bf8fd",
   "metadata": {
    "slideshow": {
     "slide_type": "slide"
    }
   },
   "source": [
    "# Working With Generic Types"
   ]
  },
  {
   "cell_type": "markdown",
   "id": "db005d0e",
   "metadata": {
    "slideshow": {
     "slide_type": "slide"
    }
   },
   "source": [
    "# Creating Strongly Typed Function Component Props"
   ]
  },
  {
   "attachments": {
    "problem-description.png": {
     "image/png": "[encoded data removed]"
    }
   },
   "cell_type": "markdown",
   "id": "e22daad7",
   "metadata": {
    "slideshow": {
     "slide_type": "slide"
    }
   },
   "source": [
    "### Hello World\n",
    "\n",
    "#### We have a problem\n",
    "![problem-description.png](attachment:problem-description.png)\n",
    "\n"
   ]
  },
  {
   "attachments": {
    "problem-description-2.png": {
     "image/png": "[encoded data removed]"
    }
   },
   "cell_type": "markdown",
   "id": "9584ff53",
   "metadata": {
    "slideshow": {
     "slide_type": "fragment"
    }
   },
   "source": [
    "![problem-description-2.png](attachment:problem-description-2.png)"
   ]
  },
  {
   "cell_type": "markdown",
   "id": "03c92f9a",
   "metadata": {
    "slideshow": {
     "slide_type": "slide"
    }
   },
   "source": [
    "### How do we fix it?\n",
    "\n",
    "```\n",
    "const Hello = (props: { who: string }) => (\n",
    "  <p>Hello, {props.who}</p>\n",
    ");\n",
    "```\n",
    "\n",
    "### Further\n",
    "\n",
    "```\n",
    "type Props = { who: string }\n",
    "const Hello = ({ who }: Props) => <p>Hello, {who}</p>\n",
    "```\n"
   ]
  },
  {
   "cell_type": "markdown",
   "id": "01b3c737",
   "metadata": {
    "slideshow": {
     "slide_type": "slide"
    }
   },
   "source": [
    "### Functional Component way\n",
    "```\n",
    "const Hello: React.FC<Props> = ({ who }) => (\n",
    "  <p>Hello, {who}</p>\n",
    ");\n",
    "```"
   ]
  },
  {
   "cell_type": "markdown",
   "id": "109a61fc",
   "metadata": {
    "slideshow": {
     "slide_type": "slide"
    }
   },
   "source": [
    "# Optional And Default Props\n",
    "```\n",
    "type Props = { who: string; message?: string };\n",
    "const Hello = ({ who, message }: Props) => (\n",
    "  <React.Fragment>\n",
    "    <p>Hello, {who}</p>\n",
    "    {message && <p>{message}</p>}\n",
    "  </React.Fragment>\n",
    ");\n",
    "Hello.defaultProps = {\n",
    "  message: \"How are you?\"\n",
    "};\n",
    "\n",
    "\n",
    "```"
   ]
  },
  {
   "cell_type": "markdown",
   "id": "bc67252b",
   "metadata": {
    "slideshow": {
     "slide_type": "slide"
    }
   },
   "source": [
    "# Type With Object Prop\n",
    "```\n",
    "type Address = {\n",
    "  line1: string; \n",
    "  line2: string; \n",
    "  state: string; \n",
    "  zipcode: string;\n",
    "}\n",
    "type Who = {\n",
    "  name: string;\n",
    "  friend: boolean;\n",
    "  address?: Address;\n",
    "}\n",
    "type Props = {\n",
    "  who: Who;\n",
    "  message?: string;\n",
    "}\n",
    "\n",
    "```"
   ]
  },
  {
   "cell_type": "markdown",
   "id": "0559ddb0",
   "metadata": {
    "slideshow": {
     "slide_type": "slide"
    }
   },
   "source": [
    "# Strongly Typing Render Prop\n",
    "\n",
    "\n",
    "```\n",
    "const Hello = ({\n",
    "  who,\n",
    "  renderMessage,\n",
    "  message = \"How are you?\"\n",
    "}: Props) => (\n",
    "  <React.Fragment>\n",
    "    <p>\n",
    "      Hello, {who.name}\n",
    "      {who.friend && \" my friend\"}\n",
    "    </p>\n",
    "    {message && (renderMessage ? renderMessage(message) : <p>{message}</p>)}\n",
    "  </React.Fragment>\n",
    ");\n",
    "```\n",
    "\n"
   ]
  },
  {
   "cell_type": "markdown",
   "id": "80364898",
   "metadata": {
    "slideshow": {
     "slide_type": "slide"
    }
   },
   "source": [
    "# What's the type definition of it?\n",
    "```\n",
    "type Props = {\n",
    "  who: Who;\n",
    "  message?: string;\n",
    "  renderMessage?: (message: string) => React.ReactNode;\n",
    "}\n",
    "```"
   ]
  },
  {
   "cell_type": "markdown",
   "id": "58dec238",
   "metadata": {
    "slideshow": {
     "slide_type": "slide"
    }
   },
   "source": [
    "# Creating Strongly Typed Function Component State"
   ]
  }
 ],
 "metadata": {
  "celltoolbar": "Slideshow",
  "kernelspec": {
   "display_name": "Python 3",
   "language": "python",
   "name": "python3"
  },
  "language_info": {
   "codemirror_mode": {
    "name": "ipython",
    "version": 3
   },
   "file_extension": ".py",
   "mimetype": "text/x-python",
   "name": "python",
   "nbconvert_exporter": "python",
   "pygments_lexer": "ipython3",
   "version": "3.8.5"
  }
 },
 "nbformat": 4,
 "nbformat_minor": 5
}
