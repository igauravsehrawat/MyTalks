{
 "cells": [
  {
   "cell_type": "markdown",
   "metadata": {
    "slideshow": {
     "slide_type": "slide"
    }
   },
   "source": [
    "# Introduction To GraphQL\n",
    "\n",
    "\n",
    "<img src=\"./images/it-development-cafe.jpeg\" align=\"center\"/>\n",
    "\n",
    "<p align=\"center\">In Association With <a href=\"https://www.spilberg.nl\">Spilberg</a></p>"
   ]
  },
  {
   "cell_type": "markdown",
   "metadata": {
    "slideshow": {
     "slide_type": "slide"
    }
   },
   "source": [
    "# 👨‍💻 Gaurav Sehrawat\n",
    "\n",
    "# 🕸Full Stack Developer\n",
    "\n",
    "# 💻 Dimebox/Verifone\n",
    "\n",
    "# Github: [igauravsehrawat](https://github.com/igauravsehrawat)\n",
    "\n",
    "# Twitter: [root3d](https://twitter.com/root3d)"
   ]
  },
  {
   "cell_type": "markdown",
   "metadata": {
    "slideshow": {
     "slide_type": "notes"
    }
   },
   "source": [
    "Not just GraphQL, but also the implementation.\n",
    "Seeing the code"
   ]
  },
  {
   "cell_type": "markdown",
   "metadata": {
    "slideshow": {
     "slide_type": "slide"
    }
   },
   "source": [
    "# What is GraphQL?"
   ]
  },
  {
   "cell_type": "markdown",
   "metadata": {
    "slideshow": {
     "slide_type": "fragment"
    }
   },
   "source": [
    "![show off hands](./images/show-off-hands.gif)"
   ]
  },
  {
   "cell_type": "markdown",
   "metadata": {
    "slideshow": {
     "slide_type": "slide"
    }
   },
   "source": [
    "```\n",
    "talkStructure {\n",
    "    'What is GraphQL?',\n",
    "    'Design Principle of GraphQL.',\n",
    "    'Comparison with Rest',\n",
    "    'GraphQL specs',\n",
    "    'GraphQL tools',\n",
    "    'Our Tech Stack',\n",
    "    'Building an API on backend',\n",
    "    'Consuming API on frontend'\n",
    "}\n",
    "```"
   ]
  },
  {
   "cell_type": "markdown",
   "metadata": {
    "slideshow": {
     "slide_type": "slide"
    }
   },
   "source": [
    "# What is GraphQL?\n",
    "<img src=\"https://graphql.org/img/logo.svg\" height=\"480px\" width=\"480px\"/>"
   ]
  },
  {
   "cell_type": "markdown",
   "metadata": {
    "slideshow": {
     "slide_type": "slide"
    }
   },
   "source": [
    "## GraphQL is a query language designed to build client applications by providing an intuitive \n",
    "## and flexible syntax \n",
    "## and system for describing their data requirements and interactions"
   ]
  },
  {
   "cell_type": "markdown",
   "metadata": {
    "slideshow": {
     "slide_type": "slide"
    }
   },
   "source": [
    "# Or Should I say Graph Cool"
   ]
  },
  {
   "cell_type": "markdown",
   "metadata": {
    "slideshow": {
     "slide_type": "fragment"
    }
   },
   "source": [
    "![being-cool](./images/being-cool.webp)"
   ]
  },
  {
   "cell_type": "markdown",
   "metadata": {
    "slideshow": {
     "slide_type": "slide"
    }
   },
   "source": [
    "# Design Principles Of GraphQL"
   ]
  },
  {
   "cell_type": "markdown",
   "metadata": {
    "slideshow": {
     "slide_type": "slide"
    }
   },
   "source": [
    "## Hierarchical\n",
    "\n",
    "## Product‐centric\n",
    "\n",
    "\n",
    "## Strong‐typing\n",
    "\n",
    "\n",
    "## Client‐specified queries\n",
    "\n",
    "## Introspective"
   ]
  },
  {
   "cell_type": "markdown",
   "metadata": {
    "slideshow": {
     "slide_type": "notes"
    }
   },
   "source": [
    "Hierarchical: Most product development today involves the creation and manipulation of view hierarchies.\n",
    "    To achieve congruence with the structure of these applications, a GraphQL query itself is structured hierarchically.\n",
    "    The query is shaped just like the data it returns. It is a natural way for clients to describe data requirements.\n",
    "\n",
    "Product‐centric: GraphQL is unapologetically driven by the requirements of views and the front‐end engineers that write them. \n",
    "    GraphQL starts with their way of thinking and requirements and builds the language and runtime necessary to enable that.\n",
    "\n",
    "Strong‐typing: Every GraphQL server defines an application‐specific type system. Queries are executed within the context of that type system.\n",
    "    Given a query, tools can ensure that the query is both syntactically correct and valid within the GraphQL type system before execution, i.e. at development time, and the server can make certain guarantees about the shape and nature of the response.\n",
    "\n",
    "Client‐specified queries: Through its type system, a GraphQL server publishes the capabilities that its clients are allowed to consume.\n",
    "    It is the client that is responsible for specifying exactly how it will consume those published capabilities. These queries are specified at field‐level granularity. In the majority of client‐server applications written without GraphQL, the server determines the data returned in its various scripted endpoints. A GraphQL query, on the other hand, returns exactly what a client asks for and no more.\n",
    "\n",
    "Introspective: GraphQL is introspective. A GraphQL server’s type system must be queryable by the GraphQL language itself, as will be described in this specification.\n",
    "GraphQL introspection serves as a powerful platform for building common tools and client software libraries."
   ]
  },
  {
   "cell_type": "markdown",
   "metadata": {
    "slideshow": {
     "slide_type": "slide"
    }
   },
   "source": [
    "## A query language for your API\n"
   ]
  },
  {
   "cell_type": "markdown",
   "metadata": {
    "slideshow": {
     "slide_type": "slide"
    }
   },
   "source": [
    "## But what is query language?\n",
    "\n"
   ]
  },
  {
   "cell_type": "markdown",
   "metadata": {
    "slideshow": {
     "slide_type": "fragment"
    }
   },
   "source": [
    "## It is literally a query*"
   ]
  },
  {
   "cell_type": "markdown",
   "metadata": {
    "slideshow": {
     "slide_type": "slide"
    }
   },
   "source": [
    "# Comparison With REST APIs"
   ]
  },
  {
   "cell_type": "markdown",
   "metadata": {
    "slideshow": {
     "slide_type": "slide"
    }
   },
   "source": [
    "![https://twitter.com/nikkitaftw/status/1011928066816462848?lang=en](./images/graphql-burger.jpeg) Image @nikkitaftw"
   ]
  },
  {
   "cell_type": "markdown",
   "metadata": {
    "slideshow": {
     "slide_type": "slide"
    }
   },
   "source": [
    "![https://twitter.com/peggyrayzis/status/1011981410465468416](./images/rest-graphql-pizza.jpeg)\n",
    "Image @peggyrayzis"
   ]
  },
  {
   "cell_type": "markdown",
   "metadata": {
    "slideshow": {
     "slide_type": "slide"
    }
   },
   "source": [
    "# Documentation is self sustained."
   ]
  },
  {
   "cell_type": "markdown",
   "metadata": {
    "slideshow": {
     "slide_type": "slide"
    }
   },
   "source": [
    "# What changes with GraphQL?"
   ]
  },
  {
   "cell_type": "markdown",
   "metadata": {
    "slideshow": {
     "slide_type": "fragment"
    }
   },
   "source": [
    "## Your BFF remains same irrespective of frontend"
   ]
  },
  {
   "cell_type": "markdown",
   "metadata": {
    "slideshow": {
     "slide_type": "fragment"
    }
   },
   "source": [
    "### * BFF - Backend For Frontend"
   ]
  },
  {
   "cell_type": "markdown",
   "metadata": {
    "slideshow": {
     "slide_type": "fragment"
    }
   },
   "source": [
    "## 📱Mobile\n",
    "## 🖥Website\n",
    "## iOS\n",
    "## Android\n",
    "## And more\n",
    "\n",
    "### Same BFF"
   ]
  },
  {
   "cell_type": "markdown",
   "metadata": {
    "slideshow": {
     "slide_type": "slide"
    }
   },
   "source": [
    "# GraphQL is language indepedent, it has the specification and languages impelement them"
   ]
  },
  {
   "cell_type": "markdown",
   "metadata": {
    "slideshow": {
     "slide_type": "slide"
    }
   },
   "source": [
    "# So what is there in GraphQL specs?"
   ]
  },
  {
   "cell_type": "markdown",
   "metadata": {
    "slideshow": {
     "slide_type": "slide"
    }
   },
   "source": [
    "## Query\n",
    "## Mutation\n",
    "## Subscriptions"
   ]
  },
  {
   "cell_type": "markdown",
   "metadata": {
    "slideshow": {
     "slide_type": "slide"
    }
   },
   "source": [
    "# Query\n"
   ]
  },
  {
   "cell_type": "markdown",
   "metadata": {
    "slideshow": {
     "slide_type": "fragment"
    }
   },
   "source": [
    "# Think of it as data fetching APIs"
   ]
  },
  {
   "cell_type": "markdown",
   "metadata": {
    "slideshow": {
     "slide_type": "slide"
    }
   },
   "source": [
    "# How does it look like?"
   ]
  },
  {
   "cell_type": "markdown",
   "metadata": {
    "slideshow": {
     "slide_type": "fragment"
    }
   },
   "source": [
    "```\n",
    "query {\n",
    "  items {\n",
    "    id\n",
    "    title\n",
    "    description\n",
    "    image\n",
    "    price\n",
    "  }\n",
    "}\n",
    "```"
   ]
  },
  {
   "cell_type": "markdown",
   "metadata": {
    "slideshow": {
     "slide_type": "slide"
    }
   },
   "source": [
    "# Mutation\n"
   ]
  },
  {
   "cell_type": "markdown",
   "metadata": {
    "slideshow": {
     "slide_type": "fragment"
    }
   },
   "source": [
    "# Think of it as data insertion APIs"
   ]
  },
  {
   "cell_type": "markdown",
   "metadata": {
    "slideshow": {
     "slide_type": "slide"
    }
   },
   "source": [
    "# How does it look like?"
   ]
  },
  {
   "cell_type": "markdown",
   "metadata": {
    "slideshow": {
     "slide_type": "fragment"
    }
   },
   "source": [
    "```\n",
    "mutation createItem {\n",
    "  createItem(\n",
    "    title: \"Google Logo\",\n",
    "    description: \"Logo description\",\n",
    "    image: \"https://www.google.com/images/branding/googlelogo/2x/googlelogo_color_272x92dp.png\",\n",
    "    largeImage: \"https://www.google.com/images/branding/googlelogo/2x/googlelogo_color_272x92dp.png\",\n",
    "    price:1000\n",
    "  ) {\n",
    "    id\n",
    "    title\n",
    "  }\n",
    "}\n",
    "```"
   ]
  },
  {
   "cell_type": "markdown",
   "metadata": {
    "slideshow": {
     "slide_type": "slide"
    }
   },
   "source": [
    "# Subscriptions"
   ]
  },
  {
   "cell_type": "markdown",
   "metadata": {
    "slideshow": {
     "slide_type": "fragment"
    }
   },
   "source": [
    "# Think of it as websockets with real time data"
   ]
  },
  {
   "cell_type": "markdown",
   "metadata": {
    "slideshow": {
     "slide_type": "slide"
    }
   },
   "source": [
    "![subscriptions example](./images/subscriptions-example.png)"
   ]
  },
  {
   "cell_type": "markdown",
   "metadata": {
    "slideshow": {
     "slide_type": "slide"
    }
   },
   "source": [
    "## TypeDefinition\n",
    "\n",
    "### ScalarTypeDefinition\n",
    "\n",
    "### ObjectTypeDefinition\n",
    "\n",
    "### InterfaceTypeDefinition\n",
    "\n",
    "### UnionTypeDefinition\n",
    "\n",
    "### EnumTypeDefinition\n",
    "\n",
    "###  InputObjectTypeDefinition"
   ]
  },
  {
   "cell_type": "markdown",
   "metadata": {
    "slideshow": {
     "slide_type": "slide"
    }
   },
   "source": [
    "## Enum Type\n",
    "```\n",
    "enum Episode {\n",
    "  NEWHOPE\n",
    "  EMPIRE\n",
    "  JEDI\n",
    "}\n",
    "```"
   ]
  },
  {
   "cell_type": "markdown",
   "metadata": {
    "slideshow": {
     "slide_type": "slide"
    }
   },
   "source": [
    "## Interface\n",
    "```\n",
    "interface Character {\n",
    "  id: ID!\n",
    "  name: String!\n",
    "  friends: [Character]\n",
    "  appearsIn: [Episode]!\n",
    "}\n",
    "```"
   ]
  },
  {
   "cell_type": "markdown",
   "metadata": {
    "slideshow": {
     "slide_type": "slide"
    }
   },
   "source": [
    "### Union Type\n",
    "```\n",
    "union SearchResult = Human | Droid | Starship\n",
    "\n",
    "```"
   ]
  },
  {
   "cell_type": "markdown",
   "metadata": {
    "slideshow": {
     "slide_type": "slide"
    }
   },
   "source": [
    "### Input Type\n",
    "```\n",
    "input ReviewInput {\n",
    "  stars: Int!\n",
    "  commentary: String\n",
    "}\n",
    "```"
   ]
  },
  {
   "cell_type": "markdown",
   "metadata": {
    "slideshow": {
     "slide_type": "fragment"
    }
   },
   "source": [
    "Using it like \n",
    "```\n",
    "mutation CreateReviewForEpisode($ep: Episode!, $review: ReviewInput!) {\n",
    "  createReview(episode: $ep, review: $review) {\n",
    "    stars\n",
    "    commentary\n",
    "  }\n",
    "}\n",
    "```"
   ]
  },
  {
   "cell_type": "markdown",
   "metadata": {
    "slideshow": {
     "slide_type": "notes"
    }
   },
   "source": [
    "The fundamental unit of any GraphQL Schema is the type.\n",
    "There are six kinds of named type definitions in GraphQL, and two wrapping types.\n",
    "\n",
    "The most basic type is a Scalar. \n",
    "A scalar represents a primitive value, like a string or an integer. Oftentimes, the possible responses for a scalar field are enumerable. GraphQL offers an Enum type in those cases, where the type specifies the space of valid responses.\n",
    "\n",
    "Scalars and Enums form the leaves in response trees;\n",
    "the intermediate levels are Object types, which define a set of fields, where each field is another type in the system, allowing the definition of arbitrary type hierarchies.\n",
    "\n",
    "GraphQL supports two abstract types: interfaces and unions.\n",
    "\n",
    "An Interface defines a list of fields; Object types that implement that interface are guaranteed to implement those fields.\n",
    "Whenever the type system claims it will return an interface, it will return a valid implementing type.\n",
    "\n",
    "A Union defines a list of possible types; similar to interfaces, whenever the type system claims a union will be returned, one of the possible types will be returned.\n",
    "\n",
    "Finally, oftentimes it is useful to provide complex structs as inputs to GraphQL field arguments or variables; the Input Object type allows the schema to define exactly what data is expected."
   ]
  },
  {
   "cell_type": "markdown",
   "metadata": {
    "slideshow": {
     "slide_type": "slide"
    }
   },
   "source": [
    "# Introspection"
   ]
  },
  {
   "cell_type": "markdown",
   "metadata": {
    "slideshow": {
     "slide_type": "notes"
    }
   },
   "source": [
    "A GraphQL server supports introspection over its schema. \n",
    "This schema is queried using GraphQL itself, creating a powerful platform for tool‐building."
   ]
  },
  {
   "cell_type": "markdown",
   "metadata": {
    "slideshow": {
     "slide_type": "slide"
    }
   },
   "source": [
    "# Validation"
   ]
  },
  {
   "cell_type": "markdown",
   "metadata": {
    "slideshow": {
     "slide_type": "notes"
    }
   },
   "source": [
    "GraphQL does not just verify if a request is syntactically correct, \n",
    "but also ensures that it is unambiguous and mistake‐free in the context of a given GraphQL schema.\n",
    "\n",
    "An invalid request is still technically executable, and will always produce a stable result as defined by \n",
    "the algorithms in the Execution section, however that result may be ambiguous, surprising, or unexpected relative \n",
    "to a request containing validation errors, so execution should only occur for valid requests."
   ]
  },
  {
   "cell_type": "markdown",
   "metadata": {
    "slideshow": {
     "slide_type": "slide"
    }
   },
   "source": [
    "# Execution"
   ]
  },
  {
   "cell_type": "markdown",
   "metadata": {
    "slideshow": {
     "slide_type": "notes"
    }
   },
   "source": [
    "GraphQL generates a response from a request via execution.\n",
    "\n",
    "A request for execution consists of a few pieces of information:\n",
    "\n",
    "The schema to use, typically solely provided by the GraphQL service.\n",
    "A Document which must contain GraphQL OperationDefinition and may contain FragmentDefinition.\n",
    "Optionally: The name of the Operation in the Document to execute.\n",
    "Optionally: Values for any Variables defined by the Operation.\n",
    "An initial value corresponding to the root type being executed. \n",
    "Conceptually, an initial value represents the “universe” of data available via a GraphQL Service. \n",
    "It is common for a GraphQL Service to always use the same initial value for every request."
   ]
  },
  {
   "cell_type": "markdown",
   "metadata": {
    "slideshow": {
     "slide_type": "slide"
    }
   },
   "source": [
    "# Response"
   ]
  },
  {
   "cell_type": "markdown",
   "metadata": {
    "slideshow": {
     "slide_type": "notes"
    }
   },
   "source": [
    "When a GraphQL server receives a request, it must return a well‐formed response. \n",
    "The server’s response describes the result of executing the requested operation if successful, and\n",
    "describes any errors encountered during the request.\n",
    "\n",
    "A response may contain both a partial response as well as encountered errors in the case that a field error occurred\n",
    "on a field which was replaced with null."
   ]
  },
  {
   "cell_type": "markdown",
   "metadata": {
    "slideshow": {
     "slide_type": "notes"
    }
   },
   "source": [
    "A GraphQL Document describes a complete file or request string operated on by a GraphQL service or client.\n",
    "A document contains multiple definitions, either executable or representative of a GraphQL type system."
   ]
  },
  {
   "cell_type": "markdown",
   "metadata": {
    "slideshow": {
     "slide_type": "slide"
    }
   },
   "source": [
    "![thats enough](./images/thats-enough.webp)"
   ]
  },
  {
   "cell_type": "markdown",
   "metadata": {
    "slideshow": {
     "slide_type": "slide"
    }
   },
   "source": [
    "# Practical Stuff"
   ]
  },
  {
   "cell_type": "markdown",
   "metadata": {
    "slideshow": {
     "slide_type": "slide"
    }
   },
   "source": [
    "![graphql-playground](./images/graphql-playground.png)"
   ]
  },
  {
   "cell_type": "markdown",
   "metadata": {
    "slideshow": {
     "slide_type": "slide"
    }
   },
   "source": [
    "# Apollo Extension"
   ]
  },
  {
   "cell_type": "markdown",
   "metadata": {
    "slideshow": {
     "slide_type": "slide"
    }
   },
   "source": [
    "# Demo, Demo, Demo"
   ]
  },
  {
   "cell_type": "markdown",
   "metadata": {
    "slideshow": {
     "slide_type": "slide"
    }
   },
   "source": [
    "![show-me-code](./images/show-me-code.jpg)"
   ]
  },
  {
   "cell_type": "markdown",
   "metadata": {
    "slideshow": {
     "slide_type": "slide"
    }
   },
   "source": [
    "## Remember? GraphQL is langauge independent! But fundamentals remains same."
   ]
  },
  {
   "cell_type": "markdown",
   "metadata": {
    "slideshow": {
     "slide_type": "slide"
    }
   },
   "source": [
    "# In general, you will need\n",
    "\n",
    "|Frontend/UI|GraphQL Frontend Data Management|GraphQL Server|Database ORM|\n",
    "|------------------|--------------------------------|--------------|--------------|\n",
    "|Frontend rendering|Performing GraphQL mutation|Implementing Query and Mutation resolvers|Provding a set of GraphQL CRUD APIs for MySQL, Postgres, MongoDB etc|\n",
    "|Styling|Fetching GraphQL Queries|Custom server side logic|Schema Definition|\n",
    "|Testing frontend|Caching GraphQL Data| Authentication| Data relationships|"
   ]
  },
  {
   "cell_type": "markdown",
   "metadata": {
    "slideshow": {
     "slide_type": "slide"
    }
   },
   "source": [
    "# Our Tech Stack In Javascript"
   ]
  },
  {
   "cell_type": "markdown",
   "metadata": {
    "slideshow": {
     "slide_type": "fragment"
    }
   },
   "source": [
    "React/Next.js"
   ]
  },
  {
   "cell_type": "markdown",
   "metadata": {
    "slideshow": {
     "slide_type": "fragment"
    }
   },
   "source": [
    "Apollo"
   ]
  },
  {
   "cell_type": "markdown",
   "metadata": {
    "slideshow": {
     "slide_type": "fragment"
    }
   },
   "source": [
    "GraphQL Yoga"
   ]
  },
  {
   "cell_type": "markdown",
   "metadata": {
    "slideshow": {
     "slide_type": "fragment"
    }
   },
   "source": [
    "Prisma"
   ]
  },
  {
   "cell_type": "markdown",
   "metadata": {
    "slideshow": {
     "slide_type": "slide"
    }
   },
   "source": [
    "# React/Next.js"
   ]
  },
  {
   "cell_type": "markdown",
   "metadata": {
    "slideshow": {
     "slide_type": "fragment"
    }
   },
   "source": [
    "## A JavaScript library for building user interfaces"
   ]
  },
  {
   "cell_type": "markdown",
   "metadata": {
    "slideshow": {
     "slide_type": "notes"
    }
   },
   "source": [
    "ServerSide rendering, PWA, Mobile Apps, Desktop Apps, Static websites "
   ]
  },
  {
   "cell_type": "markdown",
   "metadata": {
    "slideshow": {
     "slide_type": "slide"
    }
   },
   "source": [
    "# Apollo"
   ]
  },
  {
   "cell_type": "markdown",
   "metadata": {
    "slideshow": {
     "slide_type": "fragment"
    }
   },
   "source": [
    "## Apollo Client is a complete state management library for JavaScript apps."
   ]
  },
  {
   "cell_type": "markdown",
   "metadata": {
    "slideshow": {
     "slide_type": "notes"
    }
   },
   "source": [
    "# Show the extension"
   ]
  },
  {
   "cell_type": "markdown",
   "metadata": {
    "slideshow": {
     "slide_type": "slide"
    }
   },
   "source": [
    "# GraphQL Yoga\n"
   ]
  },
  {
   "cell_type": "markdown",
   "metadata": {
    "slideshow": {
     "slide_type": "fragment"
    }
   },
   "source": [
    "## graphql-yoga is like create-react-app for building GraphQL servers.\n"
   ]
  },
  {
   "cell_type": "markdown",
   "metadata": {
    "slideshow": {
     "slide_type": "notes"
    }
   },
   "source": [
    "# Show the GraphQL Playground"
   ]
  },
  {
   "cell_type": "markdown",
   "metadata": {
    "slideshow": {
     "slide_type": "slide"
    }
   },
   "source": [
    "# Prisma"
   ]
  },
  {
   "cell_type": "markdown",
   "metadata": {
    "slideshow": {
     "slide_type": "fragment"
    }
   },
   "source": [
    "# Prisma replaces traditional ORMs and simplifies database workflows:\n",
    "\n"
   ]
  },
  {
   "cell_type": "markdown",
   "metadata": {
    "slideshow": {
     "slide_type": "fragment"
    }
   },
   "source": [
    "### Access:\n",
    "### Migrate\n",
    "### Manage:"
   ]
  },
  {
   "cell_type": "markdown",
   "metadata": {
    "slideshow": {
     "slide_type": "notes"
    }
   },
   "source": [
    "Access: Type-safe database access with the auto-generated Prisma client (in JavaScript, TypeScript, Go)\n",
    "Migrate: Declarative data modelling and migrations (optional)\n",
    "Manage: Visual data management with Prisma Admin"
   ]
  },
  {
   "cell_type": "markdown",
   "metadata": {
    "slideshow": {
     "slide_type": "slide"
    }
   },
   "source": [
    "# Let's dive into code"
   ]
  },
  {
   "cell_type": "markdown",
   "metadata": {
    "slideshow": {
     "slide_type": "fragment"
    }
   },
   "source": [
    "### Let's do a basic(101) Query in GraphQL"
   ]
  },
  {
   "cell_type": "markdown",
   "metadata": {
    "slideshow": {
     "slide_type": "slide"
    }
   },
   "source": [
    "# Backend Data definition"
   ]
  },
  {
   "cell_type": "markdown",
   "metadata": {
    "slideshow": {
     "slide_type": "slide"
    }
   },
   "source": [
    "![data model layer](./images/data-model-layer.png)"
   ]
  },
  {
   "cell_type": "markdown",
   "metadata": {
    "slideshow": {
     "slide_type": "subslide"
    }
   },
   "source": [
    "* - Prisma definition"
   ]
  },
  {
   "cell_type": "markdown",
   "metadata": {
    "slideshow": {
     "slide_type": "notes"
    }
   },
   "source": [
    "Model definition is nearly same there are some utilities provided by the abstraction layer."
   ]
  },
  {
   "cell_type": "markdown",
   "metadata": {
    "slideshow": {
     "slide_type": "slide"
    }
   },
   "source": [
    "# Backend GraphQL Server"
   ]
  },
  {
   "cell_type": "markdown",
   "metadata": {
    "slideshow": {
     "slide_type": "slide"
    }
   },
   "source": [
    "GraphQL Query layer\n",
    "\n",
    "\n",
    "![query layer](./images/query-layer.png)"
   ]
  },
  {
   "cell_type": "markdown",
   "metadata": {
    "slideshow": {
     "slide_type": "slide"
    }
   },
   "source": [
    "# Resolvers"
   ]
  },
  {
   "cell_type": "markdown",
   "metadata": {
    "slideshow": {
     "slide_type": "slide"
    }
   },
   "source": [
    "## Whatis Resolver? And Why?"
   ]
  },
  {
   "cell_type": "markdown",
   "metadata": {
    "slideshow": {
     "slide_type": "fragment"
    }
   },
   "source": [
    "## Each field on each type is backed by a function called the resolver \n",
    "## which is provided by the GraphQL server developer."
   ]
  },
  {
   "cell_type": "markdown",
   "metadata": {
    "slideshow": {
     "slide_type": "notes"
    }
   },
   "source": [
    "In order to respond to queries, a schema needs to have resolve functions for all fields.\n",
    "Resolve functions cannot be included in the GraphQL schema language, so they must be added separately.\n",
    "This collection of functions is called the \"resolver map\"."
   ]
  },
  {
   "cell_type": "markdown",
   "metadata": {
    "slideshow": {
     "slide_type": "slide"
    }
   },
   "source": [
    "![query resolver layer](./images/query-resolver-layer.png)"
   ]
  },
  {
   "cell_type": "markdown",
   "metadata": {
    "slideshow": {
     "slide_type": "slide"
    }
   },
   "source": [
    "## What are the arguments?\n",
    "### parent(obj)\n",
    "### args\n",
    "### ctx\n",
    "### info"
   ]
  },
  {
   "cell_type": "markdown",
   "metadata": {
    "slideshow": {
     "slide_type": "notes"
    }
   },
   "source": [
    "obj: The object that contains the result returned from the resolver on the parent field, or, in the case of a top-level Query field, the rootValue passed from the server configuration. This argument enables the nested nature of GraphQL queries.\n",
    "args: An object with the arguments passed into the field in the query. For example, if the field was called with author(name: \"Ada\"), the args object would be: { \"name\": \"Ada\" }.\n",
    "context: This is an object shared by all resolvers in a particular query, and is used to contain per-request state, including authentication information, dataloader instances, and anything else that should be taken into account when resolving the query. If you're using Apollo Server, read about how to set the context in the setup documentation.\n",
    "info: This argument should only be used in advanced cases, but it contains information about the execution state of the query, including the field name, path to the field from the root, and more. It's only documented in the GraphQL.js source code."
   ]
  },
  {
   "cell_type": "markdown",
   "metadata": {
    "slideshow": {
     "slide_type": "slide"
    }
   },
   "source": [
    "# Frontend"
   ]
  },
  {
   "cell_type": "markdown",
   "metadata": {
    "slideshow": {
     "slide_type": "fragment"
    }
   },
   "source": [
    "\n",
    "![frontend-tools.png](./images/frontend-tools.png)"
   ]
  },
  {
   "cell_type": "markdown",
   "metadata": {
    "slideshow": {
     "slide_type": "slide"
    }
   },
   "source": [
    "# Frontend Querying"
   ]
  },
  {
   "cell_type": "markdown",
   "metadata": {
    "slideshow": {
     "slide_type": "fragment"
    }
   },
   "source": [
    "![frontend-querying.png](./images/frontend-querying.png)"
   ]
  },
  {
   "cell_type": "markdown",
   "metadata": {
    "slideshow": {
     "slide_type": "slide"
    }
   },
   "source": [
    "# Frontend Fetching & Rendering"
   ]
  },
  {
   "cell_type": "markdown",
   "metadata": {
    "slideshow": {
     "slide_type": "fragment"
    }
   },
   "source": [
    "![frontend-fetching-and-rendering.png](./images/frontend-fetching-and-rendering.png)"
   ]
  },
  {
   "cell_type": "markdown",
   "metadata": {
    "slideshow": {
     "slide_type": "slide"
    }
   },
   "source": [
    "# How to start the server?"
   ]
  },
  {
   "cell_type": "markdown",
   "metadata": {
    "slideshow": {
     "slide_type": "slide"
    }
   },
   "source": [
    "![Starting the server](./images/starting-server.png)"
   ]
  },
  {
   "cell_type": "markdown",
   "metadata": {
    "slideshow": {
     "slide_type": "slide"
    }
   },
   "source": [
    "# GraphQL Intermediate Walk Through"
   ]
  },
  {
   "cell_type": "markdown",
   "metadata": {
    "slideshow": {
     "slide_type": "slide"
    }
   },
   "source": [
    "# GraphQL 103\n"
   ]
  },
  {
   "cell_type": "markdown",
   "metadata": {
    "slideshow": {
     "slide_type": "slide"
    }
   },
   "source": [
    "# User Login "
   ]
  },
  {
   "cell_type": "markdown",
   "metadata": {
    "slideshow": {
     "slide_type": "fragment"
    }
   },
   "source": [
    "## Code In Editor"
   ]
  },
  {
   "cell_type": "markdown",
   "metadata": {
    "slideshow": {
     "slide_type": "fragment"
    }
   },
   "source": [
    "## Live Demo 🔥🔥🔥"
   ]
  },
  {
   "cell_type": "markdown",
   "metadata": {
    "slideshow": {
     "slide_type": "slide"
    }
   },
   "source": [
    "## References & Resources\n",
    "+ https://graphql.github.io/graphql-spec/draft\n",
    "+ https://github.com/chentsulin/awesome-graphql"
   ]
  },
  {
   "cell_type": "markdown",
   "metadata": {
    "slideshow": {
     "slide_type": "slide"
    }
   },
   "source": [
    "# HomeWork"
   ]
  },
  {
   "cell_type": "markdown",
   "metadata": {
    "slideshow": {
     "slide_type": "slide"
    }
   },
   "source": [
    "<a href=\"http://www.youtube.com/watch?feature=player_embedded&v=783ccP__No8\n",
    "\" target=\"_blank\"><img src=\"http://img.youtube.com/vi/783ccP__No8/0.jpg\" \n",
    "alt=\"GraphQL Documentary\" width=\"720\" height=\"640\" border=\"10\" /></a>"
   ]
  },
  {
   "cell_type": "markdown",
   "metadata": {
    "slideshow": {
     "slide_type": "slide"
    }
   },
   "source": [
    "<a href=\"https://www.youtube.com/watch?v=ADEav6zlDjg\n",
    "\" target=\"_blank\"><img src=\"http://img.youtube.com/vi/ADEav6zlDjg/0.jpg\" \n",
    "alt=\"GraphQL Documentary\" width=\"720\" height=\"640\" border=\"10\" /></a>"
   ]
  },
  {
   "cell_type": "markdown",
   "metadata": {
    "slideshow": {
     "slide_type": "slide"
    }
   },
   "source": [
    "# Questions??"
   ]
  },
  {
   "cell_type": "markdown",
   "metadata": {
    "slideshow": {
     "slide_type": "slide"
    }
   },
   "source": [
    "# 👨‍💻 Gaurav Sehrawat\n",
    "\n",
    "# 🕸Full Stack Developer\n",
    "\n",
    "# 💻 Dimebox/Verifone\n",
    "\n",
    "# Github: [igauravsehrawat](https://github.com/igauravsehrawat)\n",
    "\n",
    "# Twitter: [root3d](https://twitter.com/root3d)"
   ]
  },
  {
   "cell_type": "markdown",
   "metadata": {
    "slideshow": {
     "slide_type": "slide"
    }
   },
   "source": [
    "# Thank you"
   ]
  }
 ],
 "metadata": {
  "celltoolbar": "Slideshow",
  "kernelspec": {
   "display_name": "Python 3",
   "language": "python",
   "name": "python3"
  },
  "language_info": {
   "codemirror_mode": {
    "name": "ipython",
    "version": 3
   },
   "file_extension": ".py",
   "mimetype": "text/x-python",
   "name": "python",
   "nbconvert_exporter": "python",
   "pygments_lexer": "ipython3",
   "version": "3.7.4"
  }
 },
 "nbformat": 4,
 "nbformat_minor": 2
}
