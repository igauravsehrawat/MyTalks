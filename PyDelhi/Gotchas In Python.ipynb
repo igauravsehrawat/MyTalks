{
 "cells": [
  {
   "cell_type": "markdown",
   "metadata": {
    "slideshow": {
     "slide_type": "slide"
    }
   },
   "source": [
    "# Gotchas In Python"
   ]
  },
  {
   "cell_type": "markdown",
   "metadata": {
    "slideshow": {
     "slide_type": "fragment"
    }
   },
   "source": [
    "# Few of the gotchas\n",
    "# Through a quiz"
   ]
  },
  {
   "cell_type": "markdown",
   "metadata": {
    "slideshow": {
     "slide_type": "slide"
    }
   },
   "source": [
    "# Gaurav Sehrawat\n",
    "# Twitter: root3d\n",
    "# Github: igauravsehrawat"
   ]
  },
  {
   "cell_type": "code",
   "execution_count": null,
   "metadata": {
    "slideshow": {
     "slide_type": "slide"
    }
   },
   "outputs": [],
   "source": [
    "def increment_items(length, increment):\n",
    "   i = 0\n",
    "   while i < len(length):\n",
    "       length[i] = length[i] + increment\n",
    "       i = i + 1\n",
    "values = [1, 2, 3]\n",
    "print(increment_items(values, 2))\n",
    "print(values)"
   ]
  },
  {
   "cell_type": "code",
   "execution_count": 1,
   "metadata": {
    "slideshow": {
     "slide_type": "subslide"
    }
   },
   "outputs": [
    {
     "name": "stdout",
     "output_type": "stream",
     "text": [
      "None\n",
      "[3, 4, 5]\n"
     ]
    }
   ],
   "source": [
    "def increment_items(length, increment):\n",
    "   i = 0\n",
    "   while i < len(length):\n",
    "       length[i] = length[i] + increment\n",
    "       i = i + 1\n",
    "values = [1, 2, 3]\n",
    "print(increment_items(values, 2))\n",
    "# A reference is passed, a reference is you get\n",
    "# Tests if you know difference between mutable and immutable\n",
    "# https://stackoverflow.com/questions/986006/how-do-i-pass-a-variable-by-reference\n",
    "print(values)"
   ]
  },
  {
   "cell_type": "code",
   "execution_count": null,
   "metadata": {
    "slideshow": {
     "slide_type": "slide"
    }
   },
   "outputs": [],
   "source": [
    "def foo(i, a=[]):\n",
    "    print(\"a before append\", a)\n",
    "    a.append(a.append(i))\n",
    "    print(\"a after append\", a)\n",
    "    return a\n",
    "for i in range(3):\n",
    "    b = foo(i)\n",
    "    print(\"b\", b)\n"
   ]
  },
  {
   "cell_type": "code",
   "execution_count": 9,
   "metadata": {
    "slideshow": {
     "slide_type": "subslide"
    }
   },
   "outputs": [
    {
     "name": "stdout",
     "output_type": "stream",
     "text": [
      "a before append []\n",
      "a after append [0, None]\n",
      "b [0, None]\n",
      "a before append [0, None]\n",
      "a after append [0, None, 1, None]\n",
      "b [0, None, 1, None]\n",
      "a before append [0, None, 1, None]\n",
      "a after append [0, None, 1, None, 2, None]\n",
      "b [0, None, 1, None, 2, None]\n"
     ]
    }
   ],
   "source": [
    "def foo(i, a=[]):\n",
    "    print(\"a before append\", a)\n",
    "    a.append(a.append(i))\n",
    "    print(\"a after append\", a)\n",
    "    return a\n",
    "for i in range(3):\n",
    "    b = foo(i)\n",
    "    print(\"b\", b)\n",
    "\n",
    "arr = []\n",
    "help(arr.append)    \n"
   ]
  },
  {
   "cell_type": "markdown",
   "metadata": {
    "slideshow": {
     "slide_type": "slide"
    }
   },
   "source": [
    "![Magic](https://media2.giphy.com/media/3o7TKP9ln2Dr6ze6f6/giphy.gif)"
   ]
  },
  {
   "cell_type": "code",
   "execution_count": 54,
   "metadata": {
    "slideshow": {
     "slide_type": "subslide"
    }
   },
   "outputs": [
    {
     "name": "stdout",
     "output_type": "stream",
     "text": [
      "b [0]\n",
      "b [1]\n",
      "b [2]\n"
     ]
    }
   ],
   "source": [
    "# Work around\n",
    "def append_to(element, to=None):\n",
    "    if to is None:\n",
    "        to = []\n",
    "    to.append(element)\n",
    "    return to\n",
    "for i in range(3):\n",
    "    b = append_to(i)\n",
    "    print(\"b\", b)"
   ]
  },
  {
   "cell_type": "code",
   "execution_count": null,
   "metadata": {
    "slideshow": {
     "slide_type": "slide"
    }
   },
   "outputs": [],
   "source": [
    "def func(x, y=5, z=10):\n",
    "    print('x: ', x, 'y: ', y, 'z: ', z)\n",
    "func(2)"
   ]
  },
  {
   "cell_type": "code",
   "execution_count": 15,
   "metadata": {
    "slideshow": {
     "slide_type": "subslide"
    }
   },
   "outputs": [
    {
     "name": "stdout",
     "output_type": "stream",
     "text": [
      "x:  2 y:  5 z:  10\n"
     ]
    }
   ],
   "source": [
    "def func(x, y=5, z=10):\n",
    "    print('x: ', x, 'y: ', y, 'z: ', z)\n",
    "func(2)\n",
    "# Because of python argument initialization"
   ]
  },
  {
   "cell_type": "code",
   "execution_count": null,
   "metadata": {
    "slideshow": {
     "slide_type": "slide"
    }
   },
   "outputs": [],
   "source": [
    "b = [0, 1, 2, 3]\n",
    "for b[-1] in b:\n",
    "    print(b)\n",
    "    print(b[-1])\n"
   ]
  },
  {
   "cell_type": "code",
   "execution_count": 48,
   "metadata": {
    "slideshow": {
     "slide_type": "subslide"
    }
   },
   "outputs": [
    {
     "name": "stdout",
     "output_type": "stream",
     "text": [
      "[0, 1, 2, 0]\n",
      "0\n",
      "[0, 1, 2, 1]\n",
      "1\n",
      "[0, 1, 2, 2]\n",
      "2\n",
      "[0, 1, 2, 2]\n",
      "2\n"
     ]
    }
   ],
   "source": [
    "b = [0, 1, 2, 3]\n",
    "for b[-1] in b:\n",
    "    print(b)\n",
    "    print(b[-1])\n"
   ]
  },
  {
   "cell_type": "code",
   "execution_count": null,
   "metadata": {
    "slideshow": {
     "slide_type": "slide"
    }
   },
   "outputs": [],
   "source": [
    "a = [6,5,4,3]\n",
    "for a[3] in a:\n",
    "    print(a[3])"
   ]
  },
  {
   "cell_type": "code",
   "execution_count": 21,
   "metadata": {
    "slideshow": {
     "slide_type": "subslide"
    }
   },
   "outputs": [
    {
     "name": "stdout",
     "output_type": "stream",
     "text": [
      "6\n",
      "5\n",
      "4\n",
      "4\n"
     ]
    }
   ],
   "source": [
    "a = [6,5,4,3]\n",
    "for a[3] in a:\n",
    "    print(a[3])"
   ]
  },
  {
   "cell_type": "markdown",
   "metadata": {
    "slideshow": {
     "slide_type": "slide"
    }
   },
   "source": [
    "![abc](https://media1.tenor.com/images/7e50c39820c8e0272c8ec136e89f0992/tenor.gif?itemid=5733986)"
   ]
  },
  {
   "cell_type": "code",
   "execution_count": null,
   "metadata": {
    "slideshow": {
     "slide_type": "slide"
    }
   },
   "outputs": [],
   "source": [
    "import re;\n",
    "sentence = 'eagles are fast'\n",
    "regex = re.compile('(?P<bird>\\w+) (?P<verb>\\w+) (?P<adjective>\\w+)')\n",
    "matched = re.search(regex, sentence)\n",
    "print(matched.groups())"
   ]
  },
  {
   "cell_type": "code",
   "execution_count": 23,
   "metadata": {
    "slideshow": {
     "slide_type": "subslide"
    }
   },
   "outputs": [
    {
     "name": "stdout",
     "output_type": "stream",
     "text": [
      "('eagles', 'are', 'fast')\n",
      "Help on built-in function groups:\n",
      "\n",
      "groups(default=None) method of _sre.SRE_Match instance\n",
      "    Return a tuple containing all the subgroups of the match, from 1.\n",
      "    \n",
      "    default\n",
      "      Is used for groups that did not participate in the match.\n",
      "\n"
     ]
    }
   ],
   "source": [
    "import re;\n",
    "sentence = 'eagles are fast'\n",
    "regex = re.compile('(?P<bird>\\w+) (?P<verb>\\w+) (?P<adjective>\\w+)')\n",
    "matched = re.search(regex, sentence)\n",
    "print(matched.groups())\n",
    "help(matched.groups)\n",
    "# return values of the groups"
   ]
  },
  {
   "cell_type": "code",
   "execution_count": null,
   "metadata": {
    "slideshow": {
     "slide_type": "slide"
    }
   },
   "outputs": [],
   "source": [
    "s = 1\n",
    "for x in range(1, 10):\n",
    "    s = s * x\n",
    "    print(s)"
   ]
  },
  {
   "cell_type": "code",
   "execution_count": 26,
   "metadata": {
    "slideshow": {
     "slide_type": "subslide"
    }
   },
   "outputs": [
    {
     "name": "stdout",
     "output_type": "stream",
     "text": [
      "1\n",
      "2\n",
      "6\n",
      "24\n",
      "120\n",
      "720\n",
      "5040\n",
      "40320\n",
      "362880\n"
     ]
    }
   ],
   "source": [
    "s = 1\n",
    "for x in range(1, 10):\n",
    "    s = s * x\n",
    "    print(s)"
   ]
  },
  {
   "cell_type": "code",
   "execution_count": null,
   "metadata": {
    "slideshow": {
     "slide_type": "slide"
    }
   },
   "outputs": [],
   "source": [
    "my_list = (11, 12, 13, 14)\n",
    "my_list.append((15, 16, 17))\n",
    "print(len(my_list))"
   ]
  },
  {
   "cell_type": "code",
   "execution_count": 29,
   "metadata": {
    "slideshow": {
     "slide_type": "subslide"
    }
   },
   "outputs": [
    {
     "ename": "AttributeError",
     "evalue": "'tuple' object has no attribute 'append'",
     "output_type": "error",
     "traceback": [
      "\u001b[0;31m---------------------------------------------------------------------------\u001b[0m",
      "\u001b[0;31mAttributeError\u001b[0m                            Traceback (most recent call last)",
      "\u001b[0;32m<ipython-input-29-f382ba55f9a3>\u001b[0m in \u001b[0;36m<module>\u001b[0;34m()\u001b[0m\n\u001b[1;32m      1\u001b[0m \u001b[0mmy_list\u001b[0m \u001b[0;34m=\u001b[0m \u001b[0;34m(\u001b[0m\u001b[0;36m11\u001b[0m\u001b[0;34m,\u001b[0m \u001b[0;36m12\u001b[0m\u001b[0;34m,\u001b[0m \u001b[0;36m13\u001b[0m\u001b[0;34m,\u001b[0m \u001b[0;36m14\u001b[0m\u001b[0;34m)\u001b[0m\u001b[0;34m\u001b[0m\u001b[0m\n\u001b[0;32m----> 2\u001b[0;31m \u001b[0mmy_list\u001b[0m\u001b[0;34m.\u001b[0m\u001b[0mappend\u001b[0m\u001b[0;34m(\u001b[0m\u001b[0;34m(\u001b[0m\u001b[0;36m15\u001b[0m\u001b[0;34m,\u001b[0m \u001b[0;36m16\u001b[0m\u001b[0;34m,\u001b[0m \u001b[0;36m17\u001b[0m\u001b[0;34m)\u001b[0m\u001b[0;34m)\u001b[0m\u001b[0;34m\u001b[0m\u001b[0m\n\u001b[0m\u001b[1;32m      3\u001b[0m \u001b[0mprint\u001b[0m\u001b[0;34m(\u001b[0m\u001b[0mlen\u001b[0m\u001b[0;34m(\u001b[0m\u001b[0mmy_list\u001b[0m\u001b[0;34m)\u001b[0m\u001b[0;34m)\u001b[0m\u001b[0;34m\u001b[0m\u001b[0m\n",
      "\u001b[0;31mAttributeError\u001b[0m: 'tuple' object has no attribute 'append'"
     ]
    }
   ],
   "source": [
    "my_list = (11, 12, 13, 14)\n",
    "my_list.append((15, 16, 17))\n",
    "print(len(my_list))"
   ]
  },
  {
   "cell_type": "code",
   "execution_count": null,
   "metadata": {
    "slideshow": {
     "slide_type": "slide"
    }
   },
   "outputs": [],
   "source": [
    "from b import multiply_b, print_b\n",
    "\n",
    "def print_number(number):\n",
    "    number = multiply_b(number, 4)\n",
    "    print(number)\n",
    "\n",
    "def print_b_via_a():\n",
    "    print_b()"
   ]
  },
  {
   "cell_type": "code",
   "execution_count": 31,
   "metadata": {
    "slideshow": {
     "slide_type": "subslide"
    }
   },
   "outputs": [
    {
     "ename": "ModuleNotFoundError",
     "evalue": "No module named 'b'",
     "output_type": "error",
     "traceback": [
      "\u001b[0;31m---------------------------------------------------------------------------\u001b[0m",
      "\u001b[0;31mModuleNotFoundError\u001b[0m                       Traceback (most recent call last)",
      "\u001b[0;32m<ipython-input-31-95649a27defc>\u001b[0m in \u001b[0;36m<module>\u001b[0;34m()\u001b[0m\n\u001b[0;32m----> 1\u001b[0;31m \u001b[0;32mfrom\u001b[0m \u001b[0mb\u001b[0m \u001b[0;32mimport\u001b[0m \u001b[0mmultiply_b\u001b[0m\u001b[0;34m,\u001b[0m \u001b[0mprint_b\u001b[0m\u001b[0;34m\u001b[0m\u001b[0m\n\u001b[0m\u001b[1;32m      2\u001b[0m \u001b[0;34m\u001b[0m\u001b[0m\n\u001b[1;32m      3\u001b[0m \u001b[0;32mdef\u001b[0m \u001b[0mprint_number\u001b[0m\u001b[0;34m(\u001b[0m\u001b[0mnumber\u001b[0m\u001b[0;34m)\u001b[0m\u001b[0;34m:\u001b[0m\u001b[0;34m\u001b[0m\u001b[0m\n\u001b[1;32m      4\u001b[0m     \u001b[0mnumber\u001b[0m \u001b[0;34m=\u001b[0m \u001b[0mmultiply_b\u001b[0m\u001b[0;34m(\u001b[0m\u001b[0mnumber\u001b[0m\u001b[0;34m,\u001b[0m \u001b[0;36m4\u001b[0m\u001b[0;34m)\u001b[0m\u001b[0;34m\u001b[0m\u001b[0m\n\u001b[1;32m      5\u001b[0m     \u001b[0mprint\u001b[0m\u001b[0;34m(\u001b[0m\u001b[0mnumber\u001b[0m\u001b[0;34m)\u001b[0m\u001b[0;34m\u001b[0m\u001b[0m\n",
      "\u001b[0;31mModuleNotFoundError\u001b[0m: No module named 'b'"
     ]
    }
   ],
   "source": [
    "from b import multiply_b, print_b\n",
    "\n",
    "def print_number(number):\n",
    "    number = multiply_b(number, 4)\n",
    "    print(number)\n",
    "\n",
    "def print_b_via_a():\n",
    "    print_b()"
   ]
  },
  {
   "cell_type": "markdown",
   "metadata": {
    "slideshow": {
     "slide_type": "slide"
    }
   },
   "source": [
    "![gotcha](https://media1.tenor.com/images/8b5f9ae2d38e55483bf4cb1d01c281e6/tenor.gif?itemid=3531127)"
   ]
  },
  {
   "cell_type": "code",
   "execution_count": null,
   "metadata": {
    "slideshow": {
     "slide_type": "slide"
    }
   },
   "outputs": [],
   "source": [
    "d={}\n",
    "d.setdefault(\"Name\",\"John\")\n",
    "d.update({\"Name\":\"Tara\"})\n",
    "print(d)"
   ]
  },
  {
   "cell_type": "code",
   "execution_count": 35,
   "metadata": {
    "slideshow": {
     "slide_type": "subslide"
    }
   },
   "outputs": [
    {
     "name": "stdout",
     "output_type": "stream",
     "text": [
      "{'Name': 'John'}\n",
      "Help on built-in function setdefault:\n",
      "\n",
      "setdefault(...) method of builtins.dict instance\n",
      "    D.setdefault(k[,d]) -> D.get(k,d), also set D[k]=d if k not in D\n",
      "\n",
      "Help on built-in function update:\n",
      "\n",
      "update(...) method of builtins.dict instance\n",
      "    D.update([E, ]**F) -> None.  Update D from dict/iterable E and F.\n",
      "    If E is present and has a .keys() method, then does:  for k in E: D[k] = E[k]\n",
      "    If E is present and lacks a .keys() method, then does:  for k, v in E: D[k] = v\n",
      "    In either case, this is followed by: for k in F:  D[k] = F[k]\n",
      "\n",
      "{'Name': 'Tara'}\n"
     ]
    }
   ],
   "source": [
    "d={}\n",
    "d.setdefault(\"Name\",\"John\")\n",
    "print(d)\n",
    "d.update({\"Name\":\"Tara\"})\n",
    "help(d.setdefault)\n",
    "help(d.update)\n",
    "print(d)"
   ]
  },
  {
   "cell_type": "code",
   "execution_count": null,
   "metadata": {
    "slideshow": {
     "slide_type": "slide"
    }
   },
   "outputs": [],
   "source": [
    "def foo(i, x=[]):\n",
    "    x.append(i)\n",
    "    return x\n",
    "for i in range(2):\n",
    "    print(foo(i))\n",
    "\n"
   ]
  },
  {
   "cell_type": "code",
   "execution_count": 38,
   "metadata": {
    "slideshow": {
     "slide_type": "subslide"
    }
   },
   "outputs": [
    {
     "name": "stdout",
     "output_type": "stream",
     "text": [
      "[0]\n",
      "[0, 1]\n"
     ]
    }
   ],
   "source": [
    "def foo(i, x=[]):\n",
    "    x.append(i)\n",
    "    return x\n",
    "for i in range(2):\n",
    "    print(foo(i))\n",
    "\n"
   ]
  },
  {
   "cell_type": "code",
   "execution_count": null,
   "metadata": {
    "slideshow": {
     "slide_type": "slide"
    }
   },
   "outputs": [],
   "source": [
    "def foo(x):\n",
    "    x[0] = ['pqr']\n",
    "    x[1] = ['mno']\n",
    "    return id(x)\n",
    "q = ['pqr', 'mno']\n",
    "print(id(q) == foo(q))"
   ]
  },
  {
   "cell_type": "code",
   "execution_count": 39,
   "metadata": {
    "slideshow": {
     "slide_type": "subslide"
    }
   },
   "outputs": [
    {
     "name": "stdout",
     "output_type": "stream",
     "text": [
      "True\n"
     ]
    }
   ],
   "source": [
    "def foo(x):\n",
    "    x[0] = ['pqr']\n",
    "    x[1] = ['mno']\n",
    "    return id(x)\n",
    "q = ['pqr', 'mno']\n",
    "print(id(q) == foo(q))"
   ]
  },
  {
   "cell_type": "code",
   "execution_count": null,
   "metadata": {
    "slideshow": {
     "slide_type": "slide"
    }
   },
   "outputs": [],
   "source": [
    "myArr = [4, 7, 7, 7, 7, 4]\n",
    "max = myArr[0]\n",
    "indexOfMax = 0\n",
    "for z in range(1, len(myArr)):\n",
    "    if myArr[z] > max:\n",
    "        max = myArr[z]\n",
    "        indexOfMax = z\n",
    "print(\"indexOfMax:\", indexOfMax)"
   ]
  },
  {
   "cell_type": "code",
   "execution_count": 43,
   "metadata": {
    "slideshow": {
     "slide_type": "subslide"
    }
   },
   "outputs": [
    {
     "name": "stdout",
     "output_type": "stream",
     "text": [
      "indexOfMax: 1\n"
     ]
    }
   ],
   "source": [
    "myArr = [4, 7, 7, 7, 7, 4]\n",
    "max = myArr[0]\n",
    "indexOfMax = 0\n",
    "for z in range(1, len(myArr)):\n",
    "    if myArr[z] > max:\n",
    "        max = myArr[z]\n",
    "        indexOfMax = z\n",
    "print(\"indexOfMax:\", indexOfMax)"
   ]
  },
  {
   "cell_type": "markdown",
   "metadata": {
    "slideshow": {
     "slide_type": "slide"
    }
   },
   "source": [
    "![yah](https://media1.tenor.com/images/91c32cec3140968f8d37d5f664fa8ab1/tenor.gif?itemid=8161478)"
   ]
  },
  {
   "cell_type": "code",
   "execution_count": null,
   "metadata": {
    "slideshow": {
     "slide_type": "slide"
    }
   },
   "outputs": [],
   "source": [
    "dict={\"r\":34,\"i\":36}\n",
    "dict1=dict\n",
    "dict1.update({\"i\":40,\"j\":50})\n",
    "print(dict)"
   ]
  },
  {
   "cell_type": "code",
   "execution_count": 44,
   "metadata": {
    "slideshow": {
     "slide_type": "subslide"
    }
   },
   "outputs": [
    {
     "name": "stdout",
     "output_type": "stream",
     "text": [
      "{'r': 34, 'i': 40, 'j': 50}\n"
     ]
    }
   ],
   "source": [
    "dict={\"r\":34,\"i\":36}\n",
    "dict1=dict\n",
    "dict1.update({\"i\":40,\"j\":50})\n",
    "print(dict)"
   ]
  },
  {
   "cell_type": "code",
   "execution_count": null,
   "metadata": {
    "slideshow": {
     "slide_type": "slide"
    }
   },
   "outputs": [],
   "source": [
    "a = [0,1,2,3]\n",
    "for a[0] in a:\n",
    "    print(a[1])"
   ]
  },
  {
   "cell_type": "code",
   "execution_count": 55,
   "metadata": {
    "slideshow": {
     "slide_type": "subslide"
    }
   },
   "outputs": [
    {
     "name": "stdout",
     "output_type": "stream",
     "text": [
      "1\n",
      "1\n",
      "1\n",
      "1\n"
     ]
    }
   ],
   "source": [
    "a = [0,1,2,3]\n",
    "for a[0] in a:\n",
    "    print(a[1])"
   ]
  },
  {
   "cell_type": "code",
   "execution_count": null,
   "metadata": {
    "slideshow": {
     "slide_type": "slide"
    }
   },
   "outputs": [],
   "source": [
    "veggies = ['cabbage', 'brinjal', 'onion', 'beans']\n",
    "veggies.insert(veggies.index('brinjal'), 'celery')\n",
    "print(veggies)\n",
    "help(veggies.insert)"
   ]
  },
  {
   "cell_type": "code",
   "execution_count": 47,
   "metadata": {
    "slideshow": {
     "slide_type": "subslide"
    }
   },
   "outputs": [
    {
     "name": "stdout",
     "output_type": "stream",
     "text": [
      "['cabbage', 'celery', 'brinjal', 'onion', 'beans']\n",
      "Help on built-in function insert:\n",
      "\n",
      "insert(...) method of builtins.list instance\n",
      "    L.insert(index, object) -- insert object before index\n",
      "\n"
     ]
    }
   ],
   "source": [
    "veggies = ['cabbage', 'brinjal', 'onion', 'beans']\n",
    "veggies.insert(veggies.index('brinjal'), 'celery')\n",
    "print(veggies)\n",
    "help(veggies.insert)"
   ]
  },
  {
   "cell_type": "code",
   "execution_count": null,
   "metadata": {
    "slideshow": {
     "slide_type": "slide"
    }
   },
   "outputs": [],
   "source": [
    "def foo(target):\n",
    "    a = 1\n",
    "    b = 1\n",
    "    for i in range(10):\n",
    "        target.send(b)\n",
    "        # swap and increase the value\n",
    "        a, b = (b, a + b)\n",
    "\n",
    "\n",
    "def bar():\n",
    "    y = 0\n",
    "    while True:\n",
    "        x = yield\n",
    "        print(x)\n",
    "\n",
    "def call_bar():\n",
    "    g = bar()\n",
    "    next(g)\n",
    "    foo(g)\n",
    "call_bar()\n"
   ]
  },
  {
   "cell_type": "code",
   "execution_count": 57,
   "metadata": {
    "slideshow": {
     "slide_type": "subslide"
    }
   },
   "outputs": [
    {
     "name": "stdout",
     "output_type": "stream",
     "text": [
      "1\n",
      "2\n",
      "3\n",
      "5\n",
      "8\n",
      "13\n",
      "21\n",
      "34\n",
      "55\n",
      "89\n",
      "Help on built-in function send:\n",
      "\n",
      "send(...) method of builtins.generator instance\n",
      "    send(arg) -> send 'arg' into generator,\n",
      "    return next yielded value or raise StopIteration.\n",
      "\n"
     ]
    }
   ],
   "source": [
    "def foo(target):\n",
    "    a = 1\n",
    "    b = 1\n",
    "    for i in range(10):\n",
    "        target.send(b)\n",
    "        # swap and increase the value\n",
    "        a, b = (b, a + b)\n",
    "\n",
    "\n",
    "def bar():\n",
    "    y = 0\n",
    "    while True:\n",
    "        x = yield\n",
    "        print(x)\n",
    "\n",
    "def call_bar():\n",
    "    g = bar()\n",
    "    next(g)\n",
    "    foo(g)\n",
    "\n",
    "call_bar()\n",
    "g = bar()\n",
    "help(g.send)"
   ]
  },
  {
   "cell_type": "code",
   "execution_count": null,
   "metadata": {
    "slideshow": {
     "slide_type": "slide"
    }
   },
   "outputs": [],
   "source": [
    "def create_multipliers():\n",
    "    return [lambda x : i * x for i in range(5)]\n",
    "\n",
    "for multiplier in create_multipliers():\n",
    "    print multiplier(2)"
   ]
  },
  {
   "cell_type": "code",
   "execution_count": 52,
   "metadata": {
    "slideshow": {
     "slide_type": "subslide"
    }
   },
   "outputs": [
    {
     "name": "stdout",
     "output_type": "stream",
     "text": [
      "8\n",
      "8\n",
      "8\n",
      "8\n",
      "8\n"
     ]
    }
   ],
   "source": [
    "def create_multipliers():\n",
    "    return [lambda x : i * x for i in range(5)]\n",
    "\n",
    "for multiplier in create_multipliers():\n",
    "    print(multiplier(2))"
   ]
  },
  {
   "cell_type": "code",
   "execution_count": 53,
   "metadata": {
    "slideshow": {
     "slide_type": "subslide"
    }
   },
   "outputs": [
    {
     "name": "stdout",
     "output_type": "stream",
     "text": [
      "0\n",
      "2\n",
      "4\n",
      "6\n",
      "8\n"
     ]
    }
   ],
   "source": [
    "# Late Binding Closures, work around\n",
    "def create_multipliers():\n",
    "    return [lambda x, i=i : i * x for i in range(5)]\n",
    "for multiplier in create_multipliers():\n",
    "    print(multiplier(2))"
   ]
  },
  {
   "cell_type": "markdown",
   "metadata": {
    "slideshow": {
     "slide_type": "slide"
    }
   },
   "source": [
    "![mind-blown](https://media.giphy.com/media/xT0xeJpnrWC4XWblEk/giphy.gif)"
   ]
  },
  {
   "cell_type": "markdown",
   "metadata": {
    "slideshow": {
     "slide_type": "slide"
    }
   },
   "source": [
    "# Questions?"
   ]
  },
  {
   "cell_type": "markdown",
   "metadata": {
    "slideshow": {
     "slide_type": "slide"
    }
   },
   "source": [
    "# Thank you\n"
   ]
  },
  {
   "cell_type": "code",
   "execution_count": null,
   "metadata": {},
   "outputs": [],
   "source": []
  }
 ],
 "metadata": {
  "celltoolbar": "Slideshow",
  "kernelspec": {
   "display_name": "Python 3",
   "language": "python",
   "name": "python3"
  },
  "language_info": {
   "codemirror_mode": {
    "name": "ipython",
    "version": 3
   },
   "file_extension": ".py",
   "mimetype": "text/x-python",
   "name": "python",
   "nbconvert_exporter": "python",
   "pygments_lexer": "ipython3",
   "version": "3.6.2"
  }
 },
 "nbformat": 4,
 "nbformat_minor": 2
}
