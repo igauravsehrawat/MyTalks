{
 "cells": [
  {
   "cell_type": "code",
   "execution_count": null,
   "metadata": {
    "collapsed": true,
    "slideshow": {
     "slide_type": "notes"
    }
   },
   "outputs": [],
   "source": [
    "# Start screen recorder\n"
   ]
  },
  {
   "cell_type": "markdown",
   "metadata": {
    "slideshow": {
     "slide_type": "slide"
    }
   },
   "source": [
    "# Building Chrome Extension"
   ]
  },
  {
   "cell_type": "markdown",
   "metadata": {
    "slideshow": {
     "slide_type": "slide"
    }
   },
   "source": [
    "## It's just HTML, JS & CSS atlast."
   ]
  },
  {
   "cell_type": "markdown",
   "metadata": {
    "slideshow": {
     "slide_type": "fragment"
    }
   },
   "source": [
    "## And some configuration file\n",
    "\n",
    "#### Hint: json"
   ]
  },
  {
   "cell_type": "markdown",
   "metadata": {
    "slideshow": {
     "slide_type": "fragment"
    }
   },
   "source": [
    "## And some APIs to exploit\n",
    "#### Hint: Chrome APIs"
   ]
  },
  {
   "cell_type": "markdown",
   "metadata": {
    "slideshow": {
     "slide_type": "slide"
    }
   },
   "source": [
    "## Best way to learn is to build something"
   ]
  },
  {
   "cell_type": "markdown",
   "metadata": {
    "slideshow": {
     "slide_type": "slide"
    }
   },
   "source": [
    "# manifest.json"
   ]
  },
  {
   "cell_type": "markdown",
   "metadata": {
    "slideshow": {
     "slide_type": "slide"
    }
   },
   "source": [
    "### A typical manifest.json\n",
    "``` {\n",
    "  \"manifest_version\": 2,\n",
    "\n",
    "  \"name\": \"Getting started example\",\n",
    "  \"description\": \"This extension shows a Google Image search result for the current page\",\n",
    "  \"version\": \"1.0\",\n",
    "\n",
    "  \"browser_action\": {\n",
    "    \"default_icon\": \"icon.png\",\n",
    "    \"default_popup\": \"popup.html\"\n",
    "  },\n",
    "  \"permissions\": [\n",
    "    \"activeTab\",\n",
    "    \"https://ajax.googleapis.com/\"\n",
    "  ]\n",
    "}\n",
    "```"
   ]
  },
  {
   "cell_type": "markdown",
   "metadata": {
    "slideshow": {
     "slide_type": "slide"
    }
   },
   "source": [
    "### Explicit manifest.json \n",
    "```\n",
    " {\n",
    "  // Required\n",
    "  \"manifest_version\": 2,\n",
    "  \"name\": \"My Extension\",\n",
    "  \"version\": \"versionString\",\n",
    "\n",
    "  // Recommended\n",
    "  \"default_locale\": \"en\",\n",
    "  \"description\": \"A plain text description\",\n",
    "  \"icons\": {...},\n",
    "\n",
    "  // Pick one (or none)\n",
    "  \"browser_action\": {...},\n",
    "  \"page_action\": {...},\n",
    "\n",
    "  // Optional\n",
    "  \"author\": ...,\n",
    "  \"automation\": ...,\n",
    "  \"background\": {\n",
    "    // Recommended\n",
    "    \"persistent\": false\n",
    "  },\n",
    "  \"background_page\": ...,\n",
    "  \"chrome_settings_overrides\": {...},\n",
    "  \"chrome_ui_overrides\": {\n",
    "    \"bookmarks_ui\": {\n",
    "      \"remove_bookmark_shortcut\": true,\n",
    "      \"remove_button\": true\n",
    "    }\n",
    "  },\n",
    "  \"chrome_url_overrides\": {...},\n",
    "  \"commands\": {...},\n",
    "  \"content_capabilities\": ...,\n",
    "  \"content_scripts\": [{...}],\n",
    "  \"content_security_policy\": \"policyString\",\n",
    "  \"converted_from_user_script\": ...,\n",
    "  \"copresence\": ...,\n",
    "  \"current_locale\": ...,\n",
    "  \"devtools_page\": \"devtools.html\",\n",
    "  \"event_rules\": [{...}],\n",
    "  \"externally_connectable\": {\n",
    "    \"matches\": [\"*://*.example.com/*\"]\n",
    "  },\n",
    "  \"file_browser_handlers\": [...],\n",
    "  \"file_system_provider_capabilities\": {\n",
    "    \"configurable\": true,\n",
    "    \"multiple_mounts\": true,\n",
    "    \"source\": \"network\"\n",
    "  },\n",
    "  \"homepage_url\": \"http://path/to/homepage\",\n",
    "  \"import\": [{\"id\": \"aaaaaaaaaaaaaaaaaaaaaaaaaaaaaaaa\"}],\n",
    "  \"incognito\": \"spanning or split\",\n",
    "  \"input_components\": ...,\n",
    "  \"key\": \"publicKey\",\n",
    "  \"minimum_chrome_version\": \"versionString\",\n",
    "  \"nacl_modules\": [...],\n",
    "  \"oauth2\": ...,\n",
    "  \"offline_enabled\": true,\n",
    "  \"omnibox\": {\n",
    "    \"keyword\": \"aString\"\n",
    "  },\n",
    "  \"optional_permissions\": [\"tabs\"],\n",
    "  \"options_page\": \"options.html\",\n",
    "  \"options_ui\": {\n",
    "    \"chrome_style\": true,\n",
    "    \"page\": \"options.html\"\n",
    "  },\n",
    "  \"permissions\": [\"tabs\"],\n",
    "  \"platforms\": ...,\n",
    "  \"plugins\": [...],\n",
    "  \"requirements\": {...},\n",
    "  \"sandbox\": [...],\n",
    "  \"short_name\": \"Short Name\",\n",
    "  \"signature\": ...,\n",
    "  \"spellcheck\": ...,\n",
    "  \"storage\": {\n",
    "    \"managed_schema\": \"schema.json\"\n",
    "  },\n",
    "  \"system_indicator\": ...,\n",
    "  \"tts_engine\": {...},\n",
    "  \"update_url\": \"http://path/to/updateInfo.xml\",\n",
    "  \"version_name\": \"aString\",\n",
    "  \"web_accessible_resources\": [...]\n",
    "}\n",
    "```"
   ]
  },
  {
   "cell_type": "markdown",
   "metadata": {
    "slideshow": {
     "slide_type": "slide"
    }
   },
   "source": [
    "# Architecture"
   ]
  },
  {
   "cell_type": "markdown",
   "metadata": {
    "slideshow": {
     "slide_type": "subslide"
    }
   },
   "source": [
    "## Background page\n",
    "\n",
    "## UI page\n",
    "\n",
    "## chrome.* API"
   ]
  },
  {
   "cell_type": "markdown",
   "metadata": {
    "slideshow": {
     "slide_type": "slide"
    }
   },
   "source": [
    "# Chrome API"
   ]
  },
  {
   "cell_type": "markdown",
   "metadata": {
    "slideshow": {
     "slide_type": "slide"
    }
   },
   "source": [
    "## Asynchronous vs synchronous API"
   ]
  },
  {
   "cell_type": "markdown",
   "metadata": {
    "collapsed": true,
    "slideshow": {
     "slide_type": "slide"
    }
   },
   "source": [
    "### Asynchronous example\n",
    "```\n",
    "chrome.tabs.create(object createProperties, function callback)\n",
    "```\n",
    "\n",
    "### Synchronous example\n",
    "```\n",
    "chrome.runtime.PlatformArch\n",
    "```"
   ]
  },
  {
   "cell_type": "markdown",
   "metadata": {
    "slideshow": {
     "slide_type": "slide"
    }
   },
   "source": [
    "# DEMO"
   ]
  },
  {
   "cell_type": "markdown",
   "metadata": {
    "slideshow": {
     "slide_type": "slide"
    }
   },
   "source": [
    "# Devlopment\n",
    " + Loading into chrome"
   ]
  },
  {
   "cell_type": "markdown",
   "metadata": {
    "slideshow": {
     "slide_type": "slide"
    }
   },
   "source": [
    "# Launching\n",
    " + Packaging\n",
    " + Updating"
   ]
  },
  {
   "cell_type": "markdown",
   "metadata": {
    "slideshow": {
     "slide_type": "slide"
    }
   },
   "source": [
    "# Advanced stuff"
   ]
  },
  {
   "cell_type": "markdown",
   "metadata": {
    "slideshow": {
     "slide_type": "subslide"
    }
   },
   "source": [
    "## Native client sdk "
   ]
  },
  {
   "cell_type": "markdown",
   "metadata": {
    "slideshow": {
     "slide_type": "slide"
    }
   },
   "source": [
    "## 90% web app\n",
    "## Heavy lifting by c/c++ \n",
    "## Compiled into chrome extension compatible.\n",
    "\n"
   ]
  },
  {
   "cell_type": "markdown",
   "metadata": {
    "slideshow": {
     "slide_type": "slide"
    }
   },
   "source": [
    "# Some of the best productive extension"
   ]
  },
  {
   "cell_type": "markdown",
   "metadata": {
    "collapsed": true
   },
   "source": [
    "+ Adblock\n",
    "+ Ghostery\n",
    "+ ColorPicker\n",
    "+ Whatfont\n",
    "+ HoverOver\n",
    "+ Postman\n",
    "+ Cookies\n",
    "+ Json Editor\n",
    "+ Markdown preview"
   ]
  },
  {
   "cell_type": "markdown",
   "metadata": {
    "slideshow": {
     "slide_type": "slide"
    }
   },
   "source": [
    "# Gaurav Sehrawat\n",
    "## Ship and collaborate code @Clay Labs\n",
    "## Twitter: <a href=\"https://twitter.com/root3d\">@Root3d</a>\n",
    "## Github:  <a href=\"https://github.com/igauravsehrawat\">@igauravsehrawat</a>\n"
   ]
  },
  {
   "cell_type": "code",
   "execution_count": null,
   "metadata": {
    "collapsed": true
   },
   "outputs": [],
   "source": []
  }
 ],
 "metadata": {
  "celltoolbar": "Slideshow",
  "kernelspec": {
   "display_name": "Python 2",
   "language": "python",
   "name": "python2"
  },
  "language_info": {
   "codemirror_mode": {
    "name": "ipython",
    "version": 2
   },
   "file_extension": ".py",
   "mimetype": "text/x-python",
   "name": "python",
   "nbconvert_exporter": "python",
   "pygments_lexer": "ipython2",
   "version": "2.7.10"
  }
 },
 "nbformat": 4,
 "nbformat_minor": 0
}
