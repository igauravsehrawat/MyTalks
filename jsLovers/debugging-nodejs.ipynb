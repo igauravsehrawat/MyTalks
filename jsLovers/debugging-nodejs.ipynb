{
 "cells": [
  {
   "cell_type": "markdown",
   "metadata": {
    "slideshow": {
     "slide_type": "slide"
    }
   },
   "source": [
    "\n",
    "# Gaurav Sehrawat\n",
    "\n",
    "# Tech Consultant(Javascript/Python)\n",
    "# Full Stack Developer\n",
    "\n",
    "# Twitter: [root3d](https://twitter.com/root3d)\n",
    "\n",
    "# Github: [igauravsehrawat](https://github.com/igauravsehrawat)"
   ]
  },
  {
   "cell_type": "markdown",
   "metadata": {
    "slideshow": {
     "slide_type": "slide"
    }
   },
   "source": [
    "# What is debugging?"
   ]
  },
  {
   "cell_type": "markdown",
   "metadata": {
    "slideshow": {
     "slide_type": "slide"
    }
   },
   "source": [
    "## [Code for the talk is available in payroll-system repo on Github](https://github.com/igauravsehrawat/payroll-system/tree/master/payroll-backend)"
   ]
  },
  {
   "cell_type": "markdown",
   "metadata": {
    "slideshow": {
     "slide_type": "fragment"
    }
   },
   "source": [
    "![What is debugging](https://pbs.twimg.com/media/DUuUCpkVMAA84gm.jpg:large)"
   ]
  },
  {
   "cell_type": "markdown",
   "metadata": {
    "slideshow": {
     "slide_type": "slide"
    }
   },
   "source": [
    "# Debugging Node.js"
   ]
  },
  {
   "cell_type": "markdown",
   "metadata": {
    "slideshow": {
     "slide_type": "slide"
    }
   },
   "source": [
    "# Console.log be like"
   ]
  },
  {
   "cell_type": "markdown",
   "metadata": {
    "slideshow": {
     "slide_type": "fragment"
    }
   },
   "source": [
    "![console.log](https://media.giphy.com/media/N1pS8hY0Fh4ic/giphy.gif)"
   ]
  },
  {
   "cell_type": "markdown",
   "metadata": {
    "slideshow": {
     "slide_type": "slide"
    }
   },
   "source": [
    "# Node.js Debugger"
   ]
  },
  {
   "cell_type": "markdown",
   "metadata": {
    "slideshow": {
     "slide_type": "subslide"
    }
   },
   "source": [
    "### From the start\n",
    "`node inspect yourScript.js`\n"
   ]
  },
  {
   "cell_type": "markdown",
   "metadata": {
    "slideshow": {
     "slide_type": "subslide"
    }
   },
   "source": [
    "### In the middle of script\n",
    "Insert `debugger;`"
   ]
  },
  {
   "cell_type": "markdown",
   "metadata": {
    "slideshow": {
     "slide_type": "subslide"
    }
   },
   "source": [
    "## Shortcuts\n",
    "+ continue\n",
    "+ next\n",
    "+ pause\n",
    "+ restart\n",
    "+ run\n",
    "+ kill"
   ]
  },
  {
   "cell_type": "code",
   "execution_count": 21,
   "metadata": {
    "slideshow": {
     "slide_type": "subslide"
    }
   },
   "outputs": [
    {
     "data": {
      "text/html": [
       "\n",
       "        <iframe\n",
       "            width=\"900\"\n",
       "            height=\"650\"\n",
       "            src=\"http://nodejs.org/en/docs/guides/debugging-getting-started/\"\n",
       "            frameborder=\"0\"\n",
       "            allowfullscreen\n",
       "        ></iframe>\n",
       "        "
      ],
      "text/plain": [
       "<IPython.lib.display.IFrame at 0x106b75160>"
      ]
     },
     "metadata": {},
     "output_type": "display_data"
    }
   ],
   "source": [
    "    from IPython.display import IFrame    \n",
    "    display(IFrame(\"http://nodejs.org/en/docs/guides/debugging-getting-started/\", width=900, height=650))"
   ]
  },
  {
   "cell_type": "markdown",
   "metadata": {
    "collapsed": true,
    "slideshow": {
     "slide_type": "slide"
    }
   },
   "source": [
    "# Demo\n",
    "<video \n",
    "    controls\n",
    "    src=\"./node-debugger-terminal.mp4\"\n",
    "    width=\"900px\"\n",
    ">\n",
    "</video>"
   ]
  },
  {
   "cell_type": "markdown",
   "metadata": {
    "slideshow": {
     "slide_type": "slide"
    }
   },
   "source": [
    "# Real world "
   ]
  },
  {
   "cell_type": "markdown",
   "metadata": {
    "slideshow": {
     "slide_type": "slide"
    }
   },
   "source": [
    "# Inspecting Running Server in Devtools"
   ]
  },
  {
   "cell_type": "markdown",
   "metadata": {
    "slideshow": {
     "slide_type": "slide"
    }
   },
   "source": [
    "`node --inspect script/server`"
   ]
  },
  {
   "cell_type": "markdown",
   "metadata": {
    "slideshow": {
     "slide_type": "subslide"
    }
   },
   "source": [
    "## Flags\n",
    "+ `--inspect-brk`\n",
    "+ `--inspect=<port>`"
   ]
  },
  {
   "cell_type": "markdown",
   "metadata": {
    "slideshow": {
     "slide_type": "slide"
    }
   },
   "source": [
    "## Nice Inspector Manager\n",
    "## https://chrome.google.com/webstore/detail/nodejs-v8-inspector-manag/gnhhdgbaldcilmgcpfddgdbkhjohddkj?hl=en\n",
    "\n",
    "![NIM tool](./nim-tool.png)\n",
    "\n"
   ]
  },
  {
   "cell_type": "markdown",
   "metadata": {
    "slideshow": {
     "slide_type": "slide"
    }
   },
   "source": [
    "## Recent tool by GoogleChromeLabs"
   ]
  },
  {
   "cell_type": "markdown",
   "metadata": {
    "slideshow": {
     "slide_type": "slide"
    }
   },
   "source": [
    "# NDB\n",
    "![NDB tool](https://user-images.githubusercontent.com/39191/43023843-14a085a6-8c21-11e8-85b7-b9fd3405938a.png)"
   ]
  },
  {
   "cell_type": "markdown",
   "metadata": {
    "slideshow": {
     "slide_type": "slide"
    }
   },
   "source": [
    "## With Additional Features Exclusively For Node.js\n",
    "+ Child processes are detected and attached to\n",
    "+ Place breakpoints before the modules are required\n",
    "+ Edit files in UI. Devtools will save changes to the disk\n",
    "+ `ndb` blackboxes all scripts outside current working directory"
   ]
  },
  {
   "cell_type": "markdown",
   "metadata": {
    "slideshow": {
     "slide_type": "slide"
    }
   },
   "source": [
    "## No more console.log\n",
    "![Deal with it](https://media.giphy.com/media/2HFBvKS9zmkEw/giphy.gif)"
   ]
  },
  {
   "cell_type": "markdown",
   "metadata": {
    "slideshow": {
     "slide_type": "slide"
    }
   },
   "source": [
    "# All that is fine\n",
    "# But never run debugger in production mode\n"
   ]
  },
  {
   "cell_type": "markdown",
   "metadata": {
    "slideshow": {
     "slide_type": "slide"
    }
   },
   "source": [
    "### Interesting bug exposed via debug mode:\n",
    "[Facebook Debug Bug](https://blog.scrt.ch/2018/08/24/remote-code-execution-on-a-facebook-server/)\n"
   ]
  },
  {
   "cell_type": "markdown",
   "metadata": {
    "slideshow": {
     "slide_type": "slide"
    }
   },
   "source": [
    "# Production level debugging"
   ]
  },
  {
   "cell_type": "markdown",
   "metadata": {
    "slideshow": {
     "slide_type": "subslide"
    }
   },
   "source": [
    "+ Use the npm `debug` packagage"
   ]
  },
  {
   "cell_type": "markdown",
   "metadata": {
    "slideshow": {
     "slide_type": "subslide"
    }
   },
   "source": [
    "+ Use a logger\n",
    "(Winston, log4js, bunyan)"
   ]
  },
  {
   "cell_type": "markdown",
   "metadata": {
    "slideshow": {
     "slide_type": "slide"
    }
   },
   "source": [
    "## Debug package\n",
    "+ Lot of existing packages use `debug`\n",
    "\n",
    "For e.g: Express, socket.io, mongoose, many more."
   ]
  },
  {
   "cell_type": "markdown",
   "metadata": {
    "slideshow": {
     "slide_type": "subslide"
    }
   },
   "source": [
    "![Debug mode](./debug-mode.gif)\n"
   ]
  },
  {
   "cell_type": "markdown",
   "metadata": {
    "slideshow": {
     "slide_type": "slide"
    }
   },
   "source": [
    "## Debug database"
   ]
  },
  {
   "cell_type": "markdown",
   "metadata": {
    "slideshow": {
     "slide_type": "subslide"
    }
   },
   "source": [
    "`mongoose.set('debug', true)`\n"
   ]
  },
  {
   "cell_type": "markdown",
   "metadata": {
    "slideshow": {
     "slide_type": "subslide"
    }
   },
   "source": [
    "![Mongoose Debug](./mongoose-debug.png)"
   ]
  },
  {
   "cell_type": "markdown",
   "metadata": {
    "slideshow": {
     "slide_type": "slide"
    }
   },
   "source": [
    "\n",
    "# Winston package"
   ]
  },
  {
   "cell_type": "markdown",
   "metadata": {
    "slideshow": {
     "slide_type": "subslide"
    }
   },
   "source": [
    "```\n",
    "const logger = winston.createLogger({\n",
    "  level: 'info',\n",
    "  format: winston.format.json(),\n",
    "  transports: [\n",
    "    //\n",
    "    // - Write to all logs with level `info` and below to `combined.log` \n",
    "    // - Write all logs error (and below) to `error.log`.\n",
    "    //\n",
    "    new winston.transports.File({ filename: 'error.log', level: 'error' }),\n",
    "    new winston.transports.File({ filename: 'combined.log' })\n",
    "  ]\n",
    "});\n",
    " \n",
    "//\n",
    "// If we're not in production then log to the `console` with the format:\n",
    "// `${info.level}: ${info.message} JSON.stringify({ ...rest }) `\n",
    "// \n",
    "if (process.env.NODE_ENV !== 'production') {\n",
    "  logger.add(new winston.transports.Console({\n",
    "    format: winston.format.simple()\n",
    "  }));\n",
    "}\n",
    "```"
   ]
  },
  {
   "cell_type": "markdown",
   "metadata": {
    "slideshow": {
     "slide_type": "subslide"
    }
   },
   "source": [
    "```\n",
    "logger.log('silly', \"127.0.0.1 - there's no place like home\");\n",
    "logger.log('debug', \"127.0.0.1 - there's no place like home\");\n",
    "logger.log('verbose', \"127.0.0.1 - there's no place like home\");\n",
    "logger.log('info', \"127.0.0.1 - there's no place like home\");\n",
    "logger.log('warn', \"127.0.0.1 - there's no place like home\");\n",
    "logger.log('error', \"127.0.0.1 - there's no place like home\");\n",
    "logger.info(\"127.0.0.1 - there's no place like home\");\n",
    "logger.warn(\"127.0.0.1 - there's no place like home\");\n",
    "logger.error(\"127.0.0.1 - there's no place like home\");\n",
    "```"
   ]
  },
  {
   "cell_type": "markdown",
   "metadata": {
    "slideshow": {
     "slide_type": "slide"
    }
   },
   "source": [
    "# Sentry"
   ]
  },
  {
   "cell_type": "markdown",
   "metadata": {
    "slideshow": {
     "slide_type": "fragment"
    }
   },
   "source": [
    "## If you like to get an alarm in the middle of night\n",
    "https://docs.sentry.io/learn/configuration/?platform=javascript\n"
   ]
  },
  {
   "cell_type": "markdown",
   "metadata": {
    "slideshow": {
     "slide_type": "subslide"
    }
   },
   "source": [
    "![Sentry Error](./sentry-error.png)"
   ]
  },
  {
   "cell_type": "markdown",
   "metadata": {
    "slideshow": {
     "slide_type": "subslide"
    }
   },
   "source": [
    "## Keep monitoring them using Slack Plugin\n",
    "https://sentry.io/integrations/slack/"
   ]
  },
  {
   "cell_type": "markdown",
   "metadata": {},
   "source": [
    "![Watching you](https://media.giphy.com/media/oZvduOsUmlsk/giphy.gif)"
   ]
  },
  {
   "cell_type": "markdown",
   "metadata": {
    "slideshow": {
     "slide_type": "slide"
    }
   },
   "source": [
    "## Demo!!"
   ]
  },
  {
   "cell_type": "markdown",
   "metadata": {
    "slideshow": {
     "slide_type": "slide"
    }
   },
   "source": [
    "![I hope it works](./hope-it-works.png)"
   ]
  },
  {
   "cell_type": "markdown",
   "metadata": {
    "slideshow": {
     "slide_type": "slide"
    }
   },
   "source": [
    "# Other strategies\n",
    "\n",
    "## Typescript?\n",
    "\n",
    "## Elm?\n",
    "\n",
    "## Flow?"
   ]
  },
  {
   "cell_type": "markdown",
   "metadata": {
    "slideshow": {
     "slide_type": "slide"
    }
   },
   "source": [
    "### Take no suprises!!\n",
    "![I am the one who knocks](https://media.giphy.com/media/3ULya3TXU3S7K/giphy.gif)"
   ]
  },
  {
   "cell_type": "code",
   "execution_count": 25,
   "metadata": {
    "slideshow": {
     "slide_type": "subslide"
    }
   },
   "outputs": [
    {
     "data": {
      "text/html": [
       "\n",
       "        <iframe\n",
       "            width=\"900\"\n",
       "            height=\"650\"\n",
       "            src=\"https://www.typescriptlang.org/\"\n",
       "            frameborder=\"0\"\n",
       "            allowfullscreen\n",
       "        ></iframe>\n",
       "        "
      ],
      "text/plain": [
       "<IPython.lib.display.IFrame at 0x106b758d0>"
      ]
     },
     "metadata": {},
     "output_type": "display_data"
    }
   ],
   "source": [
    "from IPython.display import IFrame    \n",
    "display(IFrame(\"https://www.typescriptlang.org/\", width=900, height=650))"
   ]
  },
  {
   "cell_type": "code",
   "execution_count": 23,
   "metadata": {
    "slideshow": {
     "slide_type": "subslide"
    }
   },
   "outputs": [
    {
     "data": {
      "text/html": [
       "\n",
       "        <iframe\n",
       "            width=\"900\"\n",
       "            height=\"650\"\n",
       "            src=\"https://elm-lang.org/\"\n",
       "            frameborder=\"0\"\n",
       "            allowfullscreen\n",
       "        ></iframe>\n",
       "        "
      ],
      "text/plain": [
       "<IPython.lib.display.IFrame at 0x106b75470>"
      ]
     },
     "metadata": {},
     "output_type": "display_data"
    }
   ],
   "source": [
    "from IPython.display import IFrame    \n",
    "display(IFrame(\"https://elm-lang.org/\", width=900, height=650))\n"
   ]
  },
  {
   "cell_type": "code",
   "execution_count": 24,
   "metadata": {
    "slideshow": {
     "slide_type": "subslide"
    }
   },
   "outputs": [
    {
     "data": {
      "text/html": [
       "\n",
       "        <iframe\n",
       "            width=\"900\"\n",
       "            height=\"650\"\n",
       "            src=\"https://flow.org/\"\n",
       "            frameborder=\"0\"\n",
       "            allowfullscreen\n",
       "        ></iframe>\n",
       "        "
      ],
      "text/plain": [
       "<IPython.lib.display.IFrame at 0x106b75390>"
      ]
     },
     "metadata": {},
     "output_type": "display_data"
    }
   ],
   "source": [
    "from IPython.display import IFrame    \n",
    "display(IFrame(\"https://flow.org/\", width=900, height=650))\n",
    "\n"
   ]
  },
  {
   "cell_type": "markdown",
   "metadata": {
    "slideshow": {
     "slide_type": "slide"
    }
   },
   "source": [
    "# TDD \n",
    "\n",
    "### Test Driven Development"
   ]
  },
  {
   "cell_type": "markdown",
   "metadata": {
    "slideshow": {
     "slide_type": "slide"
    }
   },
   "source": [
    "## Be pro with errors"
   ]
  },
  {
   "cell_type": "markdown",
   "metadata": {
    "slideshow": {
     "slide_type": "fragment"
    }
   },
   "source": [
    "![You shall not pass](https://media.giphy.com/media/njYrp176NQsHS/giphy.gif)"
   ]
  },
  {
   "cell_type": "markdown",
   "metadata": {
    "slideshow": {
     "slide_type": "slide"
    }
   },
   "source": [
    "# Questions?\n",
    "# Thoughts?\n",
    "# Suggestions?"
   ]
  },
  {
   "cell_type": "markdown",
   "metadata": {
    "slideshow": {
     "slide_type": "slide"
    }
   },
   "source": [
    "## Dev Humor"
   ]
  },
  {
   "cell_type": "markdown",
   "metadata": {
    "slideshow": {
     "slide_type": "subslide"
    }
   },
   "source": [
    "![ops problem](https://pbs.twimg.com/media/DVcrhJ6VwAAhmPP.jpg)"
   ]
  },
  {
   "cell_type": "markdown",
   "metadata": {
    "slideshow": {
     "slide_type": "subslide"
    }
   },
   "source": [
    "![missing brace](https://pbs.twimg.com/media/Br9wHP7CUAAsiAW.jpg)"
   ]
  },
  {
   "cell_type": "markdown",
   "metadata": {
    "slideshow": {
     "slide_type": "subslide"
    }
   },
   "source": [
    "<img src='https://pbs.twimg.com/media/DU_TdVlVoAE6zM_.jpg:large' height='600px' width='350px'>\n"
   ]
  },
  {
   "cell_type": "markdown",
   "metadata": {
    "slideshow": {
     "slide_type": "subslide"
    }
   },
   "source": [
    "![No Stress](http://devhumor.com/content/uploads/images/October2018/developer_stress.png)"
   ]
  },
  {
   "cell_type": "markdown",
   "metadata": {
    "slideshow": {
     "slide_type": "subslide"
    }
   },
   "source": [
    "<img src='http://devhumor.com/content/uploads/images/September2018/depressed-developer-32.jpg' height='600px' width='350px'>\n"
   ]
  },
  {
   "cell_type": "markdown",
   "metadata": {
    "slideshow": {
     "slide_type": "subslide"
    }
   },
   "source": [
    "<img src='http://devhumor.com/content/uploads/images/October2018/undefined.jpg' height='600px' width='350px'>\n"
   ]
  },
  {
   "cell_type": "markdown",
   "metadata": {
    "slideshow": {
     "slide_type": "slide"
    }
   },
   "source": [
    "# Thank you"
   ]
  },
  {
   "cell_type": "markdown",
   "metadata": {
    "slideshow": {
     "slide_type": "slide"
    }
   },
   "source": [
    "\n",
    "# Gaurav Sehrawat\n",
    "\n",
    "# Tech Consultant(Javascript/Python)\n",
    "# Full Stack Developer\n",
    "\n",
    "# Twitter: [root3d](https://twitter.com/root3d)\n",
    "\n",
    "# Github: [igauravsehrawat](https://github.com/igauravsehrawat)"
   ]
  },
  {
   "cell_type": "code",
   "execution_count": null,
   "metadata": {},
   "outputs": [],
   "source": []
  }
 ],
 "metadata": {
  "celltoolbar": "Slideshow",
  "kernelspec": {
   "display_name": "Python 3",
   "language": "python",
   "name": "python3"
  },
  "language_info": {
   "codemirror_mode": {
    "name": "ipython",
    "version": 3
   },
   "file_extension": ".py",
   "mimetype": "text/x-python",
   "name": "python",
   "nbconvert_exporter": "python",
   "pygments_lexer": "ipython3",
   "version": "3.7.1"
  }
 },
 "nbformat": 4,
 "nbformat_minor": 2
}
