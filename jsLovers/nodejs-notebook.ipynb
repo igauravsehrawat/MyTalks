{
 "cells": [
  {
   "cell_type": "code",
   "execution_count": 1,
   "metadata": {
    "slideshow": {
     "slide_type": "slide"
    }
   },
   "outputs": [
    {
     "name": "stdout",
     "output_type": "stream",
     "text": [
      "Hello world!!\n"
     ]
    }
   ],
   "source": [
    "console.log('Hello world!!')"
   ]
  },
  {
   "cell_type": "code",
   "execution_count": 1,
   "metadata": {
    "collapsed": true
   },
   "outputs": [
    {
     "data": {
      "text/plain": [
       "2"
      ]
     },
     "execution_count": 1,
     "metadata": {},
     "output_type": "execute_result"
    },
    {
     "name": "stdout",
     "output_type": "stream",
     "text": [
      "[ 'a', 'b', 'c' ]\n",
      "undefined\n",
      "3\n",
      "[ 'a', 'b', 'c' ]\n",
      "undefined\n",
      "3\n",
      "[ 'a', 'b', 'c' ]\n",
      "undefined\n",
      "3\n"
     ]
    }
   ],
   "source": [
    "// there is no difference for index++/+index in the for loop\n",
    "i = 0;\n",
    "let messages = ['a', 'b', 'c'];\n",
    "while(i < 3) {\n",
    "    setTimeout(() => {\n",
    "        console.log(messages);\n",
    "        console.log(messages[i]);\n",
    "        console.log(i);\n",
    "    }, 3000);\n",
    "    i++;\n",
    "}\n",
    "\n"
   ]
  },
  {
   "cell_type": "code",
   "execution_count": 5,
   "metadata": {
    "collapsed": true
   },
   "outputs": [
    {
     "data": {
      "text/plain": [
       "Timeout {\n",
       "  _called: false,\n",
       "  _idleTimeout: 3000,\n",
       "  _idlePrev: \n",
       "   TimersList {\n",
       "     _idleNext: [Circular],\n",
       "     _idlePrev: \n",
       "      Timeout {\n",
       "        _called: false,\n",
       "        _idleTimeout: 3000,\n",
       "        _idlePrev: [Object],\n",
       "        _idleNext: [Circular],\n",
       "        _idleStart: 147882,\n",
       "        _onTimeout: [Function],\n",
       "        _timerArgs: undefined,\n",
       "        _repeat: null,\n",
       "        _destroyed: false,\n",
       "        [Symbol(asyncId)]: 63,\n",
       "        [Symbol(triggerAsyncId)]: 60 },\n",
       "     _timer: Timer { '0': [Function: listOnTimeout], _list: [Circular] },\n",
       "     _unrefed: false,\n",
       "     msecs: 3000,\n",
       "     nextTick: false },\n",
       "  _idleNext: \n",
       "   Timeout {\n",
       "     _called: false,\n",
       "     _idleTimeout: 3000,\n",
       "     _idlePrev: [Circular],\n",
       "     _idleNext: \n",
       "      Timeout {\n",
       "        _called: false,\n",
       "        _idleTimeout: 3000,\n",
       "        _idlePrev: [Circular],\n",
       "        _idleNext: [Object],\n",
       "        _idleStart: 147882,\n",
       "        _onTimeout: [Function],\n",
       "        _timerArgs: undefined,\n",
       "        _repeat: null,\n",
       "        _destroyed: false,\n",
       "        [Symbol(asyncId)]: 63,\n",
       "        [Symbol(triggerAsyncId)]: 60 },\n",
       "     _idleStart: 147882,\n",
       "     _onTimeout: [Function],\n",
       "     _timerArgs: undefined,\n",
       "     _repeat: null,\n",
       "     _destroyed: false,\n",
       "     [Symbol(asyncId)]: 65,\n",
       "     [Symbol(triggerAsyncId)]: 60 },\n",
       "  _idleStart: 147882,\n",
       "  _onTimeout: [Function],\n",
       "  _timerArgs: undefined,\n",
       "  _repeat: null,\n",
       "  _destroyed: false,\n",
       "  [Symbol(asyncId)]: 66,\n",
       "  [Symbol(triggerAsyncId)]: 60 }"
      ]
     },
     "execution_count": 5,
     "metadata": {},
     "output_type": "execute_result"
    },
    {
     "name": "stdout",
     "output_type": "stream",
     "text": [
      "a\n",
      "b\n",
      "c\n"
     ]
    }
   ],
   "source": [
    "for (let i=0; i < 3; i++) {\n",
    "    setTimeout(() => {\n",
    "        console.log(messagesArr[i]);\n",
    "    }, 3000)\n",
    "}"
   ]
  },
  {
   "cell_type": "code",
   "execution_count": null,
   "metadata": {},
   "outputs": [],
   "source": []
  }
 ],
 "metadata": {
  "kernelspec": {
   "display_name": "Javascript (Node.js)",
   "language": "javascript",
   "name": "javascript"
  },
  "language_info": {
   "file_extension": ".js",
   "mimetype": "application/javascript",
   "name": "javascript",
   "version": "8.9.4"
  }
 },
 "nbformat": 4,
 "nbformat_minor": 2
}
